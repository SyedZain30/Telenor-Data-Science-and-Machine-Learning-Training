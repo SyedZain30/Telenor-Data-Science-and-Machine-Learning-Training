{
 "cells": [
  {
   "cell_type": "markdown",
   "metadata": {},
   "source": [
    "# PCA and Image Classification on MNIST Dataset"
   ]
  },
  {
   "cell_type": "markdown",
   "metadata": {},
   "source": [
    "The MNIST database (Modified National Institute of Standards and Technology database) is a large database of handwritten digits that is commonly used for training various image processing systems. The database is also widely used for training and testing in the field of machine learning. The set of images in the MNIST database is a combination of two of NIST's databases: Special Database 1 and Special Database 3. Special Database 1 and Special Database 3 consist of digits written by high school students and employees of the United States Census Bureau, respectively."
   ]
  },
  {
   "cell_type": "markdown",
   "metadata": {},
   "source": [
    "<img src='https://upload.wikimedia.org/wikipedia/commons/2/27/MnistExamples.png'>"
   ]
  },
  {
   "cell_type": "markdown",
   "metadata": {},
   "source": [
    "Loading necessary libraries"
   ]
  },
  {
   "cell_type": "code",
   "execution_count": 1,
   "metadata": {},
   "outputs": [],
   "source": [
    "import pandas as pd\n",
    "import numpy as np\n",
    "import matplotlib.pyplot as plt\n",
    "from sklearn.datasets import fetch_openml\n",
    "np.set_printoptions(threshold=np.inf)"
   ]
  },
  {
   "cell_type": "markdown",
   "metadata": {},
   "source": [
    "Using sklearn \"fetch_openml\" to download Labels and Predictor of MNIST dataset"
   ]
  },
  {
   "cell_type": "code",
   "execution_count": 2,
   "metadata": {},
   "outputs": [],
   "source": [
    "X, Y = fetch_openml('mnist_784', version=1, return_X_y=True)"
   ]
  },
  {
   "cell_type": "markdown",
   "metadata": {},
   "source": [
    "Checking shape of downloaded data"
   ]
  },
  {
   "cell_type": "code",
   "execution_count": 3,
   "metadata": {},
   "outputs": [
    {
     "name": "stdout",
     "output_type": "stream",
     "text": [
      "(70000, 784)\n",
      "(70000,)\n"
     ]
    }
   ],
   "source": [
    "print(X.shape)\n",
    "print(Y.shape)\n"
   ]
  },
  {
   "cell_type": "markdown",
   "metadata": {},
   "source": [
    "Let's check what is inside X and Y"
   ]
  },
  {
   "cell_type": "code",
   "execution_count": 4,
   "metadata": {},
   "outputs": [
    {
     "data": {
      "text/plain": [
       "array([  0.,   0.,   0.,   0.,   0.,   0.,   0.,   0.,   0.,   0.,   0.,\n",
       "         0.,   0.,   0.,   0.,   0.,   0.,   0.,   0.,   0.,   0.,   0.,\n",
       "         0.,   0.,   0.,   0.,   0.,   0.,   0.,   0.,   0.,   0.,   0.,\n",
       "         0.,   0.,   0.,   0.,   0.,   0.,   0.,   0.,   0.,   0.,   0.,\n",
       "         0.,   0.,   0.,   0.,   0.,   0.,   0.,   0.,   0.,   0.,   0.,\n",
       "         0.,   0.,   0.,   0.,   0.,   0.,   0.,   0.,   0.,   0.,   0.,\n",
       "         0.,   0.,   0.,   0.,   0.,   0.,   0.,   0.,   0.,   0.,   0.,\n",
       "         0.,   0.,   0.,   0.,   0.,   0.,   0.,   0.,   0.,   0.,   0.,\n",
       "         0.,   0.,   0.,   0.,   0.,   0.,   0.,   0.,   0.,   0.,   0.,\n",
       "         0.,   0.,   0.,   0.,   0.,   0.,   0.,   0.,   0.,   0.,   0.,\n",
       "         0.,   0.,   0.,   0.,   0.,   0.,   0.,   0.,   0.,   0.,   0.,\n",
       "         0.,   0.,   0.,   0.,   0.,   0.,   0.,   0.,   0.,   0.,   0.,\n",
       "         0.,   0.,   0.,   0.,   0.,   0.,   0.,   0.,   0.,   0.,   0.,\n",
       "         0.,   0.,   0.,   0.,   0.,   0.,   0.,   0.,   0.,   3.,  18.,\n",
       "        18.,  18., 126., 136., 175.,  26., 166., 255., 247., 127.,   0.,\n",
       "         0.,   0.,   0.,   0.,   0.,   0.,   0.,   0.,   0.,   0.,   0.,\n",
       "        30.,  36.,  94., 154., 170., 253., 253., 253., 253., 253., 225.,\n",
       "       172., 253., 242., 195.,  64.,   0.,   0.,   0.,   0.,   0.,   0.,\n",
       "         0.,   0.,   0.,   0.,   0.,  49., 238., 253., 253., 253., 253.,\n",
       "       253., 253., 253., 253., 251.,  93.,  82.,  82.,  56.,  39.,   0.,\n",
       "         0.,   0.,   0.,   0.,   0.,   0.,   0.,   0.,   0.,   0.,   0.,\n",
       "        18., 219., 253., 253., 253., 253., 253., 198., 182., 247., 241.,\n",
       "         0.,   0.,   0.,   0.,   0.,   0.,   0.,   0.,   0.,   0.,   0.,\n",
       "         0.,   0.,   0.,   0.,   0.,   0.,   0.,  80., 156., 107., 253.,\n",
       "       253., 205.,  11.,   0.,  43., 154.,   0.,   0.,   0.,   0.,   0.,\n",
       "         0.,   0.,   0.,   0.,   0.,   0.,   0.,   0.,   0.,   0.,   0.,\n",
       "         0.,   0.,   0.,  14.,   1., 154., 253.,  90.,   0.,   0.,   0.,\n",
       "         0.,   0.,   0.,   0.,   0.,   0.,   0.,   0.,   0.,   0.,   0.,\n",
       "         0.,   0.,   0.,   0.,   0.,   0.,   0.,   0.,   0.,   0.,   0.,\n",
       "       139., 253., 190.,   2.,   0.,   0.,   0.,   0.,   0.,   0.,   0.,\n",
       "         0.,   0.,   0.,   0.,   0.,   0.,   0.,   0.,   0.,   0.,   0.,\n",
       "         0.,   0.,   0.,   0.,   0.,   0.,  11., 190., 253.,  70.,   0.,\n",
       "         0.,   0.,   0.,   0.,   0.,   0.,   0.,   0.,   0.,   0.,   0.,\n",
       "         0.,   0.,   0.,   0.,   0.,   0.,   0.,   0.,   0.,   0.,   0.,\n",
       "         0.,   0.,  35., 241., 225., 160., 108.,   1.,   0.,   0.,   0.,\n",
       "         0.,   0.,   0.,   0.,   0.,   0.,   0.,   0.,   0.,   0.,   0.,\n",
       "         0.,   0.,   0.,   0.,   0.,   0.,   0.,   0.,   0.,  81., 240.,\n",
       "       253., 253., 119.,  25.,   0.,   0.,   0.,   0.,   0.,   0.,   0.,\n",
       "         0.,   0.,   0.,   0.,   0.,   0.,   0.,   0.,   0.,   0.,   0.,\n",
       "         0.,   0.,   0.,   0.,   0.,  45., 186., 253., 253., 150.,  27.,\n",
       "         0.,   0.,   0.,   0.,   0.,   0.,   0.,   0.,   0.,   0.,   0.,\n",
       "         0.,   0.,   0.,   0.,   0.,   0.,   0.,   0.,   0.,   0.,   0.,\n",
       "         0.,  16.,  93., 252., 253., 187.,   0.,   0.,   0.,   0.,   0.,\n",
       "         0.,   0.,   0.,   0.,   0.,   0.,   0.,   0.,   0.,   0.,   0.,\n",
       "         0.,   0.,   0.,   0.,   0.,   0.,   0.,   0.,   0., 249., 253.,\n",
       "       249.,  64.,   0.,   0.,   0.,   0.,   0.,   0.,   0.,   0.,   0.,\n",
       "         0.,   0.,   0.,   0.,   0.,   0.,   0.,   0.,   0.,   0.,   0.,\n",
       "         0.,  46., 130., 183., 253., 253., 207.,   2.,   0.,   0.,   0.,\n",
       "         0.,   0.,   0.,   0.,   0.,   0.,   0.,   0.,   0.,   0.,   0.,\n",
       "         0.,   0.,   0.,   0.,   0.,  39., 148., 229., 253., 253., 253.,\n",
       "       250., 182.,   0.,   0.,   0.,   0.,   0.,   0.,   0.,   0.,   0.,\n",
       "         0.,   0.,   0.,   0.,   0.,   0.,   0.,   0.,   0.,  24., 114.,\n",
       "       221., 253., 253., 253., 253., 201.,  78.,   0.,   0.,   0.,   0.,\n",
       "         0.,   0.,   0.,   0.,   0.,   0.,   0.,   0.,   0.,   0.,   0.,\n",
       "         0.,   0.,  23.,  66., 213., 253., 253., 253., 253., 198.,  81.,\n",
       "         2.,   0.,   0.,   0.,   0.,   0.,   0.,   0.,   0.,   0.,   0.,\n",
       "         0.,   0.,   0.,   0.,   0.,   0.,  18., 171., 219., 253., 253.,\n",
       "       253., 253., 195.,  80.,   9.,   0.,   0.,   0.,   0.,   0.,   0.,\n",
       "         0.,   0.,   0.,   0.,   0.,   0.,   0.,   0.,   0.,   0.,  55.,\n",
       "       172., 226., 253., 253., 253., 253., 244., 133.,  11.,   0.,   0.,\n",
       "         0.,   0.,   0.,   0.,   0.,   0.,   0.,   0.,   0.,   0.,   0.,\n",
       "         0.,   0.,   0.,   0.,   0., 136., 253., 253., 253., 212., 135.,\n",
       "       132.,  16.,   0.,   0.,   0.,   0.,   0.,   0.,   0.,   0.,   0.,\n",
       "         0.,   0.,   0.,   0.,   0.,   0.,   0.,   0.,   0.,   0.,   0.,\n",
       "         0.,   0.,   0.,   0.,   0.,   0.,   0.,   0.,   0.,   0.,   0.,\n",
       "         0.,   0.,   0.,   0.,   0.,   0.,   0.,   0.,   0.,   0.,   0.,\n",
       "         0.,   0.,   0.,   0.,   0.,   0.,   0.,   0.,   0.,   0.,   0.,\n",
       "         0.,   0.,   0.,   0.,   0.,   0.,   0.,   0.,   0.,   0.,   0.,\n",
       "         0.,   0.,   0.,   0.,   0.,   0.,   0.,   0.,   0.,   0.,   0.,\n",
       "         0.,   0.,   0.,   0.,   0.,   0.,   0.,   0.,   0.,   0.,   0.,\n",
       "         0.,   0.,   0.,   0.,   0.,   0.,   0.,   0.,   0.,   0.,   0.,\n",
       "         0.,   0.,   0.])"
      ]
     },
     "execution_count": 4,
     "metadata": {},
     "output_type": "execute_result"
    }
   ],
   "source": [
    "X[0]"
   ]
  },
  {
   "cell_type": "code",
   "execution_count": 5,
   "metadata": {},
   "outputs": [
    {
     "data": {
      "text/plain": [
       "'5'"
      ]
     },
     "execution_count": 5,
     "metadata": {},
     "output_type": "execute_result"
    }
   ],
   "source": [
    "Y[0]"
   ]
  },
  {
   "cell_type": "markdown",
   "metadata": {},
   "source": [
    "Notice that we have 70000 images data in this dataset, but columns are 784. This dataset is being provided in flatten image format. The process of flatten image format has been shown below:"
   ]
  },
  {
   "cell_type": "markdown",
   "metadata": {},
   "source": [
    "<img src='https://i1.wp.com/www.marktechpost.com/wp-content/uploads/2019/06/image-16.png?resize=653%2C299&ssl=1'>"
   ]
  },
  {
   "cell_type": "markdown",
   "metadata": {},
   "source": [
    "In above figure, you can see that 3x3 vector or matrix (2D) is being converted to 1x9 vector or matrix (1D). Hence in MNIST data set we have 1D vector of all pixels for a particluar image. So, 28x28 pixels image creates a 1D vector of 784 values.\n",
    "\n",
    "Let's plot first 10 images with their labels using matplotlib. Notice that 1D image has been reshaped to 2D image using numpy"
   ]
  },
  {
   "cell_type": "code",
   "execution_count": 6,
   "metadata": {},
   "outputs": [
    {
     "data": {
      "image/png": "[encoded data removed]",
      "text/plain": [
       "<Figure size 1296x576 with 10 Axes>"
      ]
     },
     "metadata": {
      "needs_background": "light"
     },
     "output_type": "display_data"
    }
   ],
   "source": [
    "fig, axs = plt.subplots(2,5, figsize=(18, 8))\n",
    "axs = axs.ravel()\n",
    "\n",
    "for i in range(0,10):\n",
    "    image = X[i]\n",
    "    image = np.array(image, dtype='int')\n",
    "    pixels = image.reshape((28, 28))\n",
    "    axs[i].imshow(pixels, cmap='gray')\n",
    "    axs[i].set_title('Label is '+str(Y[i]))"
   ]
  },
  {
   "cell_type": "markdown",
   "metadata": {},
   "source": [
    "Let's visualize one of the image content and check that how pixels are distrubted within 28x28 images"
   ]
  },
  {
   "cell_type": "code",
   "execution_count": 7,
   "metadata": {},
   "outputs": [
    {
     "data": {
      "image/png": "[encoded data removed]",
      "text/plain": [
       "<Figure size 720x720 with 1 Axes>"
      ]
     },
     "metadata": {
      "needs_background": "light"
     },
     "output_type": "display_data"
    }
   ],
   "source": [
    "def visualize_input(img, ax):\n",
    "    ax.imshow(img, cmap='gray')\n",
    "    width, height = img.shape\n",
    "    thresh = img.max()/2.5\n",
    "    for x in range(width):\n",
    "        for y in range(height):\n",
    "            ax.annotate(str(round(img[x][y],2)), xy=(y,x),\n",
    "                        horizontalalignment='center',\n",
    "                        verticalalignment='center',\n",
    "                        color='white' if img[x][y]<thresh else 'black')\n",
    "\n",
    "first_image = X[0]\n",
    "first_image = np.array(first_image, dtype='int')\n",
    "pixels = first_image.reshape((28, 28)) \n",
    "fig = plt.figure(figsize = (10,10)) \n",
    "ax = fig.add_subplot(111)\n",
    "visualize_input(pixels, ax)"
   ]
  },
  {
   "cell_type": "markdown",
   "metadata": {},
   "source": [
    "#### Task: Perform Train Test split with test size 15% and random_state=42"
   ]
  },
  {
   "cell_type": "code",
   "execution_count": 8,
   "metadata": {},
   "outputs": [
    {
     "name": "stdout",
     "output_type": "stream",
     "text": [
      "(59500, 784) (59500,)\n",
      "(10500, 784) (10500,)\n"
     ]
    }
   ],
   "source": [
    "from sklearn.model_selection import train_test_split\n",
    "\n",
    "xtrain, xtest, ytrain, ytest = train_test_split(X,Y,test_size=0.15,random_state=42,shuffle=True)\n",
    "\n",
    "print(xtrain.shape,ytrain.shape)\n",
    "print(xtest.shape,ytest.shape)"
   ]
  },
  {
   "cell_type": "markdown",
   "metadata": {},
   "source": [
    "Importing and Applying PCA. Notice the code below has .95 for the number of components parameter. It means that scikit-learn choose the minimum number of principal components such that 95% of the variance is retained."
   ]
  },
  {
   "cell_type": "code",
   "execution_count": 9,
   "metadata": {},
   "outputs": [],
   "source": [
    "from sklearn.decomposition import PCA\n",
    "# Make an instance of the Model\n",
    "pca = PCA(.95,random_state=42)"
   ]
  },
  {
   "cell_type": "markdown",
   "metadata": {},
   "source": [
    "Fit transform training and testing images using PCA model instance"
   ]
  },
  {
   "cell_type": "code",
   "execution_count": 10,
   "metadata": {},
   "outputs": [],
   "source": [
    "pca.fit(xtrain)\n",
    "\n",
    "\n",
    "train_img=pca.transform(xtrain)\n",
    "test_img=pca.transform(xtest)"
   ]
  },
  {
   "cell_type": "markdown",
   "metadata": {},
   "source": [
    "Now checking principal components of training and testing images after applying PCA which are represnting 95% variance of original images data"
   ]
  },
  {
   "cell_type": "code",
   "execution_count": 11,
   "metadata": {},
   "outputs": [
    {
     "name": "stdout",
     "output_type": "stream",
     "text": [
      "(59500, 154) (59500,)\n",
      "(10500, 154) (10500,)\n"
     ]
    }
   ],
   "source": [
    "print(train_img.shape,ytrain.shape)\n",
    "print(test_img.shape,ytest.shape)"
   ]
  },
  {
   "cell_type": "markdown",
   "metadata": {},
   "source": [
    "Now let's use Logistic regression to perform image classification"
   ]
  },
  {
   "cell_type": "code",
   "execution_count": 12,
   "metadata": {},
   "outputs": [],
   "source": [
    "from sklearn.linear_model import LogisticRegression\n",
    "import timeit"
   ]
  },
  {
   "cell_type": "markdown",
   "metadata": {},
   "source": [
    "#### Task: Define instance of Logistic regression with solver as 'lbfgs', multi_class as 'multinomial', max_iter=300 and random state as 42"
   ]
  },
  {
   "cell_type": "code",
   "execution_count": 13,
   "metadata": {},
   "outputs": [],
   "source": [
    "model=LogisticRegression(solver='lbfgs',multi_class='multinomial',max_iter=300,random_state=42)"
   ]
  },
  {
   "cell_type": "markdown",
   "metadata": {},
   "source": [
    "#### Task: Fit model on training images and training label"
   ]
  },
  {
   "cell_type": "code",
   "execution_count": 14,
   "metadata": {},
   "outputs": [
    {
     "name": "stderr",
     "output_type": "stream",
     "text": [
      "E:\\python\\anaconda\\lib\\site-packages\\sklearn\\linear_model\\logistic.py:947: ConvergenceWarning: lbfgs failed to converge. Increase the number of iterations.\n",
      "  \"of iterations.\", ConvergenceWarning)\n"
     ]
    },
    {
     "data": {
      "text/plain": [
       "LogisticRegression(C=1.0, class_weight=None, dual=False, fit_intercept=True,\n",
       "                   intercept_scaling=1, l1_ratio=None, max_iter=300,\n",
       "                   multi_class='multinomial', n_jobs=None, penalty='l2',\n",
       "                   random_state=42, solver='lbfgs', tol=0.0001, verbose=0,\n",
       "                   warm_start=False)"
      ]
     },
     "execution_count": 14,
     "metadata": {},
     "output_type": "execute_result"
    }
   ],
   "source": [
    "# write code here\n",
    "model.fit(train_img,ytrain)"
   ]
  },
  {
   "cell_type": "markdown",
   "metadata": {},
   "source": [
    "#### Task: Get Prediction on testing images"
   ]
  },
  {
   "cell_type": "code",
   "execution_count": 15,
   "metadata": {},
   "outputs": [],
   "source": [
    "pred=model.predict(test_img)"
   ]
  },
  {
   "cell_type": "markdown",
   "metadata": {},
   "source": [
    "#### Task: Calculate and print accuracy score for predictions"
   ]
  },
  {
   "cell_type": "code",
   "execution_count": 16,
   "metadata": {},
   "outputs": [
    {
     "name": "stdout",
     "output_type": "stream",
     "text": [
      "0.9144761904761904\n"
     ]
    }
   ],
   "source": [
    "from sklearn.metrics import accuracy_score\n",
    "\n",
    "accuracy=accuracy_score(ytest,pred)\n",
    "print(accuracy)"
   ]
  },
  {
   "cell_type": "markdown",
   "metadata": {},
   "source": [
    "#### Task: Print classification report  and analyze"
   ]
  },
  {
   "cell_type": "code",
   "execution_count": 17,
   "metadata": {},
   "outputs": [
    {
     "name": "stdout",
     "output_type": "stream",
     "text": [
      "              precision    recall  f1-score   support\n",
      "\n",
      "           0       0.95      0.96      0.96      1035\n",
      "           1       0.92      0.97      0.95      1205\n",
      "           2       0.91      0.89      0.90      1019\n",
      "           3       0.90      0.89      0.89      1081\n",
      "           4       0.91      0.92      0.91       968\n",
      "           5       0.89      0.86      0.88       970\n",
      "           6       0.93      0.95      0.94      1009\n",
      "           7       0.92      0.94      0.93      1110\n",
      "           8       0.91      0.83      0.87      1016\n",
      "           9       0.90      0.91      0.90      1087\n",
      "\n",
      "    accuracy                           0.91     10500\n",
      "   macro avg       0.91      0.91      0.91     10500\n",
      "weighted avg       0.91      0.91      0.91     10500\n",
      "\n"
     ]
    }
   ],
   "source": [
    "from sklearn.metrics import classification_report\n",
    "print(classification_report(ytest,pred))\n",
    "\n",
    "#write code here"
   ]
  },
  {
   "cell_type": "markdown",
   "metadata": {},
   "source": [
    "#### Task: Get weighted average of F1 score"
   ]
  },
  {
   "cell_type": "code",
   "execution_count": 18,
   "metadata": {},
   "outputs": [
    {
     "name": "stdout",
     "output_type": "stream",
     "text": [
      "0.9140543829677945\n"
     ]
    }
   ],
   "source": [
    "from sklearn.metrics import f1_score\n",
    "\n",
    "f1=f1_score(ytest,pred,average='weighted')\n",
    "print(f1)"
   ]
  },
  {
   "cell_type": "markdown",
   "metadata": {},
   "source": [
    "Hence we can see that both Acuracy and F1 Score are around 91.4% and it is really good score for 154 components instead of all 784 pixels"
   ]
  },
  {
   "cell_type": "markdown",
   "metadata": {},
   "source": [
    "Now let's do comparison of Model performance against difference Maximal Variance and Components"
   ]
  },
  {
   "cell_type": "code",
   "execution_count": 19,
   "metadata": {},
   "outputs": [],
   "source": [
    "#defining list of Variance\n",
    "pca_var=[1.0,.99,.95,.90,.85,.80,.75]\n",
    "\n",
    "#defining empty lists\n",
    "accuracy_list=[]\n",
    "f1_list=[]\n",
    "pca_components=[]\n",
    "training_time=[]\n",
    "prediction_time=[]"
   ]
  },
  {
   "cell_type": "code",
   "execution_count": 20,
   "metadata": {},
   "outputs": [
    {
     "name": "stderr",
     "output_type": "stream",
     "text": [
      "E:\\python\\anaconda\\lib\\site-packages\\sklearn\\linear_model\\logistic.py:947: ConvergenceWarning: lbfgs failed to converge. Increase the number of iterations.\n",
      "  \"of iterations.\", ConvergenceWarning)\n",
      "E:\\python\\anaconda\\lib\\site-packages\\sklearn\\linear_model\\logistic.py:947: ConvergenceWarning: lbfgs failed to converge. Increase the number of iterations.\n",
      "  \"of iterations.\", ConvergenceWarning)\n",
      "E:\\python\\anaconda\\lib\\site-packages\\sklearn\\linear_model\\logistic.py:947: ConvergenceWarning: lbfgs failed to converge. Increase the number of iterations.\n",
      "  \"of iterations.\", ConvergenceWarning)\n",
      "E:\\python\\anaconda\\lib\\site-packages\\sklearn\\linear_model\\logistic.py:947: ConvergenceWarning: lbfgs failed to converge. Increase the number of iterations.\n",
      "  \"of iterations.\", ConvergenceWarning)\n",
      "E:\\python\\anaconda\\lib\\site-packages\\sklearn\\linear_model\\logistic.py:947: ConvergenceWarning: lbfgs failed to converge. Increase the number of iterations.\n",
      "  \"of iterations.\", ConvergenceWarning)\n",
      "E:\\python\\anaconda\\lib\\site-packages\\sklearn\\linear_model\\logistic.py:947: ConvergenceWarning: lbfgs failed to converge. Increase the number of iterations.\n",
      "  \"of iterations.\", ConvergenceWarning)\n",
      "E:\\python\\anaconda\\lib\\site-packages\\sklearn\\linear_model\\logistic.py:947: ConvergenceWarning: lbfgs failed to converge. Increase the number of iterations.\n",
      "  \"of iterations.\", ConvergenceWarning)\n"
     ]
    }
   ],
   "source": [
    "for v in pca_var:\n",
    "    \n",
    "    #applying PCA\n",
    "    if v==1.0:\n",
    "        train_img=xtrain\n",
    "        test_img=xtest\n",
    "        \n",
    "    else:\n",
    "        pca = PCA(v,random_state=42)\n",
    "        pca.fit(xtrain)\n",
    "        train_img=pca.transform(xtrain)\n",
    "        test_img=pca.transform(xtest)\n",
    "    \n",
    "    #model\n",
    "    model=LogisticRegression(solver='lbfgs',multi_class='multinomial', max_iter=300, random_state=42)\n",
    "    \n",
    "    #training\n",
    "    t_start = timeit.default_timer()\n",
    "    model.fit(train_img,ytrain)\n",
    "    t_stop = timeit.default_timer()\n",
    "    \n",
    "    #prediction\n",
    "    p_start = timeit.default_timer()\n",
    "    pred=model.predict(test_img)\n",
    "    p_stop = timeit.default_timer()\n",
    "    \n",
    "    #Append data in lists\n",
    "    accuracy_list.append(np.round(accuracy_score(ytest,pred),4))\n",
    "    f1_list.append(np.round(f1_score(ytest,pred, average='weighted'),4))\n",
    "    pca_components.append(train_img.shape[1])\n",
    "    training_time.append(np.round(t_stop-t_start,0))\n",
    "    prediction_time.append(np.round(p_stop-p_start,0))"
   ]
  },
  {
   "cell_type": "markdown",
   "metadata": {},
   "source": [
    "Creating comparison data frame"
   ]
  },
  {
   "cell_type": "code",
   "execution_count": 21,
   "metadata": {},
   "outputs": [
    {
     "data": {
      "text/html": [
       "<div>\n",
       "<style scoped>\n",
       "    .dataframe tbody tr th:only-of-type {\n",
       "        vertical-align: middle;\n",
       "    }\n",
       "\n",
       "    .dataframe tbody tr th {\n",
       "        vertical-align: top;\n",
       "    }\n",
       "\n",
       "    .dataframe thead th {\n",
       "        text-align: right;\n",
       "    }\n",
       "</style>\n",
       "<table border=\"1\" class=\"dataframe\">\n",
       "  <thead>\n",
       "    <tr style=\"text-align: right;\">\n",
       "      <th></th>\n",
       "      <th>Variance Retained</th>\n",
       "      <th>Number of Components</th>\n",
       "      <th>Training Time</th>\n",
       "      <th>Prediction Time</th>\n",
       "      <th>Accuracy Score</th>\n",
       "      <th>F1 Score</th>\n",
       "    </tr>\n",
       "  </thead>\n",
       "  <tbody>\n",
       "    <tr>\n",
       "      <td>0</td>\n",
       "      <td>1.00</td>\n",
       "      <td>784</td>\n",
       "      <td>50.0</td>\n",
       "      <td>0.0</td>\n",
       "      <td>0.9202</td>\n",
       "      <td>0.9200</td>\n",
       "    </tr>\n",
       "    <tr>\n",
       "      <td>1</td>\n",
       "      <td>0.99</td>\n",
       "      <td>331</td>\n",
       "      <td>25.0</td>\n",
       "      <td>0.0</td>\n",
       "      <td>0.9167</td>\n",
       "      <td>0.9163</td>\n",
       "    </tr>\n",
       "    <tr>\n",
       "      <td>2</td>\n",
       "      <td>0.95</td>\n",
       "      <td>154</td>\n",
       "      <td>19.0</td>\n",
       "      <td>0.0</td>\n",
       "      <td>0.9145</td>\n",
       "      <td>0.9141</td>\n",
       "    </tr>\n",
       "    <tr>\n",
       "      <td>3</td>\n",
       "      <td>0.90</td>\n",
       "      <td>87</td>\n",
       "      <td>14.0</td>\n",
       "      <td>0.0</td>\n",
       "      <td>0.9156</td>\n",
       "      <td>0.9154</td>\n",
       "    </tr>\n",
       "    <tr>\n",
       "      <td>4</td>\n",
       "      <td>0.85</td>\n",
       "      <td>59</td>\n",
       "      <td>16.0</td>\n",
       "      <td>0.0</td>\n",
       "      <td>0.9116</td>\n",
       "      <td>0.9113</td>\n",
       "    </tr>\n",
       "    <tr>\n",
       "      <td>5</td>\n",
       "      <td>0.80</td>\n",
       "      <td>43</td>\n",
       "      <td>13.0</td>\n",
       "      <td>0.0</td>\n",
       "      <td>0.9037</td>\n",
       "      <td>0.9033</td>\n",
       "    </tr>\n",
       "    <tr>\n",
       "      <td>6</td>\n",
       "      <td>0.75</td>\n",
       "      <td>33</td>\n",
       "      <td>13.0</td>\n",
       "      <td>0.0</td>\n",
       "      <td>0.8977</td>\n",
       "      <td>0.8973</td>\n",
       "    </tr>\n",
       "  </tbody>\n",
       "</table>\n",
       "</div>"
      ],
      "text/plain": [
       "   Variance Retained  Number of Components  Training Time  Prediction Time  \\\n",
       "0               1.00                   784           50.0              0.0   \n",
       "1               0.99                   331           25.0              0.0   \n",
       "2               0.95                   154           19.0              0.0   \n",
       "3               0.90                    87           14.0              0.0   \n",
       "4               0.85                    59           16.0              0.0   \n",
       "5               0.80                    43           13.0              0.0   \n",
       "6               0.75                    33           13.0              0.0   \n",
       "\n",
       "   Accuracy Score  F1 Score  \n",
       "0          0.9202    0.9200  \n",
       "1          0.9167    0.9163  \n",
       "2          0.9145    0.9141  \n",
       "3          0.9156    0.9154  \n",
       "4          0.9116    0.9113  \n",
       "5          0.9037    0.9033  \n",
       "6          0.8977    0.8973  "
      ]
     },
     "execution_count": 21,
     "metadata": {},
     "output_type": "execute_result"
    }
   ],
   "source": [
    "comparison_dict={'Variance Retained':pca_var,'Number of Components':pca_components,\n",
    "               'Training Time':training_time,'Prediction Time':prediction_time,\n",
    "               'Accuracy Score':accuracy_list,'F1 Score':f1_list}\n",
    "comparison=pd.DataFrame(comparison_dict)\n",
    "comparison"
   ]
  },
  {
   "cell_type": "markdown",
   "metadata": {},
   "source": [
    "So we can see that Model performance is not much degraded untill 87 components compared to all 784 components. Hence we can use 90% Variance using PCA to perform image classification in this dataset."
   ]
  },
  {
   "cell_type": "markdown",
   "metadata": {},
   "source": [
    "## Exporting PCA and Model for deployment"
   ]
  },
  {
   "cell_type": "markdown",
   "metadata": {},
   "source": [
    "Python pickle module is used for serializing and de-serializing a Python object structure. Any object in Python can be pickled so that it can be saved on disk. What pickle does is that it “serializes” the object first before writing it to file. Pickling is a way to convert a python object (list, dict, etc.) into a character stream. The idea is that this character stream contains all the information necessary to reconstruct the object in another python script."
   ]
  },
  {
   "cell_type": "markdown",
   "metadata": {},
   "source": [
    "<img src='https://miro.medium.com/max/466/1*Menz4NWvM6Ca8H6B0d6VrQ.png' width=\"200\" height=\"400\">"
   ]
  },
  {
   "cell_type": "code",
   "execution_count": 22,
   "metadata": {},
   "outputs": [],
   "source": [
    "import pickle as pk"
   ]
  },
  {
   "cell_type": "markdown",
   "metadata": {},
   "source": [
    "Exporting pickle file for PCA at 90% Explained Variance to be used while transforming data in Model Deployment"
   ]
  },
  {
   "cell_type": "code",
   "execution_count": 23,
   "metadata": {},
   "outputs": [],
   "source": [
    "pca = PCA(.90,random_state=42)\n",
    "pca.fit(xtrain)\n",
    "train_img=pca.transform(xtrain)\n",
    "pk.dump(pca, open(\"pca.pkl\",\"wb\"))"
   ]
  },
  {
   "cell_type": "markdown",
   "metadata": {},
   "source": [
    "Exporting pickle file for Trained Model to be used for taking prediction of future images after Model Deployment"
   ]
  },
  {
   "cell_type": "code",
   "execution_count": 24,
   "metadata": {},
   "outputs": [
    {
     "name": "stderr",
     "output_type": "stream",
     "text": [
      "E:\\python\\anaconda\\lib\\site-packages\\sklearn\\linear_model\\logistic.py:947: ConvergenceWarning: lbfgs failed to converge. Increase the number of iterations.\n",
      "  \"of iterations.\", ConvergenceWarning)\n"
     ]
    }
   ],
   "source": [
    "model=LogisticRegression(solver='lbfgs',multi_class='multinomial', max_iter=300, random_state=42)\n",
    "model.fit(train_img,ytrain)\n",
    "pk.dump(model, open(\"model.pkl\",\"wb\"))"
   ]
  },
  {
   "cell_type": "markdown",
   "metadata": {},
   "source": [
    "## Visalizing PCA Components and Image Compression"
   ]
  },
  {
   "cell_type": "markdown",
   "metadata": {},
   "source": [
    "#### Task: Define empty PCA instance with randome state 42"
   ]
  },
  {
   "cell_type": "code",
   "execution_count": 25,
   "metadata": {},
   "outputs": [],
   "source": [
    "# if n_components is not set all components are kept (784 in this case)\n",
    "pca =PCA(random_state=42)"
   ]
  },
  {
   "cell_type": "markdown",
   "metadata": {},
   "source": [
    "#### Task: Fit PCA on X (without scaled)"
   ]
  },
  {
   "cell_type": "code",
   "execution_count": 26,
   "metadata": {},
   "outputs": [
    {
     "data": {
      "text/plain": [
       "PCA(copy=True, iterated_power='auto', n_components=None, random_state=42,\n",
       "    svd_solver='auto', tol=0.0, whiten=False)"
      ]
     },
     "execution_count": 26,
     "metadata": {},
     "output_type": "execute_result"
    }
   ],
   "source": [
    "# write code here\n",
    "pca.fit(X)"
   ]
  },
  {
   "cell_type": "markdown",
   "metadata": {},
   "source": [
    "#### Task: Check number of components using .n_components_ attribute"
   ]
  },
  {
   "cell_type": "code",
   "execution_count": 27,
   "metadata": {},
   "outputs": [
    {
     "data": {
      "text/plain": [
       "784"
      ]
     },
     "execution_count": 27,
     "metadata": {},
     "output_type": "execute_result"
    }
   ],
   "source": [
    "#write code here\n",
    "pca.n_components_"
   ]
  },
  {
   "cell_type": "code",
   "execution_count": 28,
   "metadata": {},
   "outputs": [
    {
     "data": {
      "text/plain": [
       "array([3.34294061e+05, 2.45433427e+05, 2.10930355e+05, 1.85337356e+05,\n",
       "       1.67691572e+05, 1.47670297e+05, 1.12445139e+05, 9.91153833e+04,\n",
       "       9.46125388e+04, 8.03359569e+04, 7.22599113e+04, 6.98885540e+04,\n",
       "       5.85527059e+04, 5.81052758e+04, 5.43103821e+04, 5.09819786e+04,\n",
       "       4.52543057e+04, 4.38704888e+04, 4.07237248e+04, 3.95459992e+04,\n",
       "       3.65654146e+04, 3.46361826e+04, 3.28991121e+04, 3.12006965e+04,\n",
       "       3.02969450e+04, 2.87716612e+04, 2.77774204e+04, 2.69503081e+04,\n",
       "       2.53911681e+04, 2.36676475e+04, 2.25058928e+04, 2.21397823e+04,\n",
       "       2.06082429e+04, 2.00866202e+04, 1.94397800e+04, 1.86411711e+04,\n",
       "       1.73119138e+04, 1.67069383e+04, 1.64282735e+04, 1.60385718e+04,\n",
       "       1.55849505e+04, 1.52607921e+04, 1.43449274e+04, 1.35885149e+04,\n",
       "       1.31612657e+04, 1.28895069e+04, 1.23970063e+04, 1.19716256e+04,\n",
       "       1.16185734e+04, 1.09656535e+04, 1.08681675e+04, 1.06380432e+04,\n",
       "       1.01693456e+04, 9.84764699e+03, 9.69028943e+03, 9.24126224e+03,\n",
       "       9.20591900e+03, 8.79833042e+03, 8.68371672e+03, 8.39148477e+03,\n",
       "       8.22184294e+03, 8.18338428e+03, 7.86277133e+03, 7.57860212e+03,\n",
       "       7.30802423e+03, 7.07673742e+03, 6.95544873e+03, 6.68975037e+03,\n",
       "       6.56748752e+03, 6.46729222e+03, 6.41332540e+03, 6.17761812e+03,\n",
       "       6.06383716e+03, 5.94624236e+03, 5.65437176e+03, 5.59906868e+03,\n",
       "       5.53633413e+03, 5.29266519e+03, 5.04283590e+03, 4.87747552e+03,\n",
       "       4.83688820e+03, 4.80704878e+03, 4.78847978e+03, 4.63137204e+03,\n",
       "       4.54037269e+03, 4.52395896e+03, 4.43150252e+03, 4.29342977e+03,\n",
       "       4.20279046e+03, 4.13040869e+03, 3.99127561e+03, 3.92116587e+03,\n",
       "       3.86038561e+03, 3.76828249e+03, 3.71619599e+03, 3.67613977e+03,\n",
       "       3.55666501e+03, 3.54727424e+03, 3.45028333e+03, 3.42770867e+03,\n",
       "       3.35022735e+03, 3.22975319e+03, 3.20991370e+03, 3.12702819e+03,\n",
       "       3.08956044e+03, 3.05100652e+03, 2.95524702e+03, 2.92426090e+03,\n",
       "       2.88465088e+03, 2.80310513e+03, 2.69608022e+03, 2.66685601e+03,\n",
       "       2.66104852e+03, 2.62323811e+03, 2.60877717e+03, 2.56835172e+03,\n",
       "       2.50474368e+03, 2.48801428e+03, 2.45533726e+03, 2.41269586e+03,\n",
       "       2.37270454e+03, 2.35615126e+03, 2.33028514e+03, 2.30409857e+03,\n",
       "       2.26817316e+03, 2.20437384e+03, 2.17042781e+03, 2.15544286e+03,\n",
       "       2.12533009e+03, 2.06282820e+03, 2.05891648e+03, 2.03673043e+03,\n",
       "       2.01095034e+03, 2.00124661e+03, 1.98565299e+03, 1.96453661e+03,\n",
       "       1.93239914e+03, 1.89439020e+03, 1.83703340e+03, 1.80324901e+03,\n",
       "       1.79300790e+03, 1.74898223e+03, 1.72288405e+03, 1.70863537e+03,\n",
       "       1.70077406e+03, 1.68875104e+03, 1.65938403e+03, 1.64949843e+03,\n",
       "       1.61749141e+03, 1.60083932e+03, 1.59231962e+03, 1.58464344e+03,\n",
       "       1.57192640e+03, 1.54180623e+03, 1.53381212e+03, 1.51231338e+03,\n",
       "       1.50234491e+03, 1.46247575e+03, 1.44355039e+03, 1.43434878e+03,\n",
       "       1.41660557e+03, 1.40087322e+03, 1.36602940e+03, 1.35140041e+03,\n",
       "       1.34373116e+03, 1.33469482e+03, 1.31506391e+03, 1.29821767e+03,\n",
       "       1.29120637e+03, 1.27618631e+03, 1.25649279e+03, 1.25127759e+03,\n",
       "       1.24178587e+03, 1.22394000e+03, 1.21336302e+03, 1.20837570e+03,\n",
       "       1.18890936e+03, 1.18263461e+03, 1.17256430e+03, 1.16234481e+03,\n",
       "       1.14888624e+03, 1.12885899e+03, 1.12460929e+03, 1.11191670e+03,\n",
       "       1.10717765e+03, 1.09814197e+03, 1.08599901e+03, 1.08166611e+03,\n",
       "       1.06285068e+03, 1.06117362e+03, 1.04910878e+03, 1.03774098e+03,\n",
       "       1.03320013e+03, 1.03009571e+03, 1.01362927e+03, 1.01226633e+03,\n",
       "       1.00444790e+03, 1.00071599e+03, 9.83122182e+02, 9.70453896e+02,\n",
       "       9.65766478e+02, 9.51371870e+02, 9.41016707e+02, 9.33139279e+02,\n",
       "       9.20980645e+02, 9.15644435e+02, 9.07533778e+02, 9.04266944e+02,\n",
       "       8.97183405e+02, 8.87268894e+02, 8.83039949e+02, 8.79986206e+02,\n",
       "       8.72783921e+02, 8.66942898e+02, 8.63449268e+02, 8.52335454e+02,\n",
       "       8.46801698e+02, 8.40840296e+02, 8.31977471e+02, 8.26843655e+02,\n",
       "       8.25706460e+02, 8.20316797e+02, 8.17611114e+02, 8.11082328e+02,\n",
       "       7.94869904e+02, 7.92853645e+02, 7.87115776e+02, 7.80329308e+02,\n",
       "       7.78815617e+02, 7.65525631e+02, 7.57643828e+02, 7.53784151e+02,\n",
       "       7.45588885e+02, 7.41297279e+02, 7.35729016e+02, 7.30506300e+02,\n",
       "       7.29086785e+02, 7.19897856e+02, 7.18113870e+02, 7.07672630e+02,\n",
       "       7.01877428e+02, 6.95436996e+02, 6.90511991e+02, 6.88779524e+02,\n",
       "       6.80603119e+02, 6.77369113e+02, 6.70595436e+02, 6.61580965e+02,\n",
       "       6.60737920e+02, 6.57721826e+02, 6.54544015e+02, 6.47150921e+02,\n",
       "       6.42414157e+02, 6.42154991e+02, 6.36525742e+02, 6.34570829e+02,\n",
       "       6.30726525e+02, 6.25191901e+02, 6.24237639e+02, 6.17318892e+02,\n",
       "       6.06989740e+02, 6.05311652e+02, 6.02232805e+02, 5.96068175e+02,\n",
       "       5.93660954e+02, 5.90721819e+02, 5.87313548e+02, 5.83580481e+02,\n",
       "       5.78769422e+02, 5.72956833e+02, 5.71389145e+02, 5.70443789e+02,\n",
       "       5.62485110e+02, 5.60750217e+02, 5.58826664e+02, 5.54712957e+02,\n",
       "       5.48743065e+02, 5.47443477e+02, 5.44818956e+02, 5.39829718e+02,\n",
       "       5.35094801e+02, 5.29985300e+02, 5.26828700e+02, 5.24932168e+02,\n",
       "       5.20370654e+02, 5.14228929e+02, 5.12693268e+02, 5.07544872e+02,\n",
       "       5.06868719e+02, 5.01124552e+02, 4.95725670e+02, 4.91247845e+02,\n",
       "       4.89707212e+02, 4.87355024e+02, 4.85235286e+02, 4.81088679e+02,\n",
       "       4.72512701e+02, 4.70981989e+02, 4.67361293e+02, 4.65506528e+02,\n",
       "       4.63284064e+02, 4.60868469e+02, 4.58059666e+02, 4.54250307e+02,\n",
       "       4.48811074e+02, 4.44093320e+02, 4.41488224e+02, 4.37997516e+02,\n",
       "       4.36776467e+02, 4.34795086e+02, 4.32673957e+02, 4.32049508e+02,\n",
       "       4.27475806e+02, 4.22593794e+02, 4.18240225e+02, 4.16613115e+02,\n",
       "       4.13605119e+02, 4.10750603e+02, 4.08435423e+02, 4.07583232e+02,\n",
       "       4.02276555e+02, 4.00879947e+02, 3.98012778e+02, 3.97472199e+02,\n",
       "       3.93885259e+02, 3.91973224e+02, 3.84745270e+02, 3.81080396e+02,\n",
       "       3.77887590e+02, 3.77390793e+02, 3.76417808e+02, 3.74324340e+02,\n",
       "       3.71268081e+02, 3.68562158e+02, 3.65422262e+02, 3.64487635e+02,\n",
       "       3.64252665e+02, 3.59601664e+02, 3.53875174e+02, 3.52054626e+02,\n",
       "       3.48792150e+02, 3.44467175e+02, 3.43484652e+02, 3.40825227e+02,\n",
       "       3.40391451e+02, 3.37263965e+02, 3.34450074e+02, 3.32322672e+02,\n",
       "       3.25609948e+02, 3.22787374e+02, 3.21978486e+02, 3.20045229e+02,\n",
       "       3.16699269e+02, 3.14203866e+02, 3.12710024e+02, 3.10008492e+02,\n",
       "       3.07955004e+02, 3.05863333e+02, 3.04802938e+02, 3.01717926e+02,\n",
       "       2.98299718e+02, 2.96001767e+02, 2.93708835e+02, 2.90942037e+02,\n",
       "       2.90408366e+02, 2.86783524e+02, 2.83510647e+02, 2.82587613e+02,\n",
       "       2.81330109e+02, 2.77494707e+02, 2.77277615e+02, 2.72246053e+02,\n",
       "       2.71613621e+02, 2.68315477e+02, 2.67123093e+02, 2.64663568e+02,\n",
       "       2.61500740e+02, 2.60332462e+02, 2.55427147e+02, 2.53401489e+02,\n",
       "       2.51502171e+02, 2.50415106e+02, 2.48340605e+02, 2.46816878e+02,\n",
       "       2.44433723e+02, 2.41021967e+02, 2.38708725e+02, 2.37701657e+02,\n",
       "       2.33183313e+02, 2.31217982e+02, 2.29398010e+02, 2.26042618e+02,\n",
       "       2.22133413e+02, 2.19511435e+02, 2.17260631e+02, 2.16558628e+02,\n",
       "       2.11872850e+02, 2.09339794e+02, 2.05982122e+02, 2.04931888e+02,\n",
       "       2.02095929e+02, 2.00813541e+02, 1.99055686e+02, 1.96627382e+02,\n",
       "       1.93535567e+02, 1.91976683e+02, 1.90006690e+02, 1.86867991e+02,\n",
       "       1.86474841e+02, 1.86070560e+02, 1.81545430e+02, 1.81043042e+02,\n",
       "       1.79289011e+02, 1.77107459e+02, 1.75441496e+02, 1.73735413e+02,\n",
       "       1.70615936e+02, 1.69376494e+02, 1.68030523e+02, 1.65553399e+02,\n",
       "       1.62905355e+02, 1.60953437e+02, 1.58957044e+02, 1.58681845e+02,\n",
       "       1.55148349e+02, 1.52989768e+02, 1.48942962e+02, 1.45454492e+02,\n",
       "       1.44278673e+02, 1.43862321e+02, 1.41392329e+02, 1.41344294e+02,\n",
       "       1.40088000e+02, 1.38884111e+02, 1.37856198e+02, 1.32053660e+02,\n",
       "       1.31056184e+02, 1.30323667e+02, 1.29317323e+02, 1.27618024e+02,\n",
       "       1.26521217e+02, 1.24957027e+02, 1.21029352e+02, 1.20353693e+02,\n",
       "       1.19895587e+02, 1.18285078e+02, 1.17809949e+02, 1.17484201e+02,\n",
       "       1.13105307e+02, 1.11944887e+02, 1.09901402e+02, 1.09014179e+02,\n",
       "       1.07672069e+02, 1.05671339e+02, 1.02403894e+02, 1.01860497e+02,\n",
       "       1.00226716e+02, 9.94276730e+01, 9.91975631e+01, 9.71223148e+01,\n",
       "       9.50073776e+01, 9.43027925e+01, 9.32044289e+01, 9.17585135e+01,\n",
       "       8.79770585e+01, 8.64857713e+01, 8.56228358e+01, 8.46033554e+01,\n",
       "       8.39068725e+01, 8.34881882e+01, 8.27950464e+01, 8.22567771e+01,\n",
       "       8.04449141e+01, 8.01310010e+01, 7.92257050e+01, 7.69575599e+01,\n",
       "       7.60195431e+01, 7.39180599e+01, 7.33611012e+01, 7.27710193e+01,\n",
       "       7.15478318e+01, 7.09164743e+01, 6.95617129e+01, 6.82547414e+01,\n",
       "       6.77381472e+01, 6.68445594e+01, 6.61846987e+01, 6.52596042e+01,\n",
       "       6.44580589e+01, 6.30487821e+01, 6.18745587e+01, 6.16083638e+01,\n",
       "       5.92281642e+01, 5.87259389e+01, 5.55681587e+01, 5.52421517e+01,\n",
       "       5.42613388e+01, 5.40587503e+01, 5.28388283e+01, 5.27246151e+01,\n",
       "       5.22800703e+01, 5.09584494e+01, 5.03200569e+01, 4.94719277e+01,\n",
       "       4.85160355e+01, 4.77649797e+01, 4.67659388e+01, 4.63784857e+01,\n",
       "       4.60690806e+01, 4.55850195e+01, 4.41545961e+01, 4.30681090e+01,\n",
       "       4.20654257e+01, 4.19654968e+01, 4.16678290e+01, 4.09604476e+01,\n",
       "       3.97677246e+01, 3.93914003e+01, 3.92100795e+01, 3.88220943e+01,\n",
       "       3.84544428e+01, 3.76811225e+01, 3.70830479e+01, 3.61700842e+01,\n",
       "       3.57315990e+01, 3.52209760e+01, 3.43780086e+01, 3.20880943e+01,\n",
       "       3.15524202e+01, 3.13620721e+01, 3.12128053e+01, 3.06867562e+01,\n",
       "       2.97070896e+01, 2.89713130e+01, 2.76450254e+01, 2.69704127e+01,\n",
       "       2.68320264e+01, 2.66986562e+01, 2.66464302e+01, 2.60994382e+01,\n",
       "       2.58130727e+01, 2.54389498e+01, 2.50172253e+01, 2.46571605e+01,\n",
       "       2.44733424e+01, 2.40600465e+01, 2.31487026e+01, 2.30859838e+01,\n",
       "       2.17020139e+01, 2.14546218e+01, 2.11504274e+01, 1.99964892e+01,\n",
       "       1.94320202e+01, 1.88959081e+01, 1.88061746e+01, 1.84273568e+01,\n",
       "       1.82422702e+01, 1.78584435e+01, 1.67979624e+01, 1.66227147e+01,\n",
       "       1.65794284e+01, 1.64371902e+01, 1.55950124e+01, 1.54337468e+01,\n",
       "       1.53154370e+01, 1.52458231e+01, 1.49835120e+01, 1.42212031e+01,\n",
       "       1.40792951e+01, 1.35580372e+01, 1.33203009e+01, 1.31661775e+01,\n",
       "       1.30536249e+01, 1.16221281e+01, 1.13899141e+01, 1.09860157e+01,\n",
       "       1.08799321e+01, 1.07964771e+01, 1.06809731e+01, 1.05417166e+01,\n",
       "       1.04775510e+01, 1.01340765e+01, 9.96158057e+00, 9.90497461e+00,\n",
       "       9.44371497e+00, 8.64393595e+00, 8.58145717e+00, 8.16598642e+00,\n",
       "       7.91066400e+00, 7.39226962e+00, 7.37736037e+00, 7.24677760e+00,\n",
       "       7.20591539e+00, 6.97811367e+00, 6.90271061e+00, 6.76901131e+00,\n",
       "       6.57523444e+00, 6.24210953e+00, 6.14615647e+00, 5.98781728e+00,\n",
       "       5.97010937e+00, 5.74558001e+00, 5.61019149e+00, 5.54851056e+00,\n",
       "       5.46241879e+00, 5.33855052e+00, 5.12031950e+00, 4.48443746e+00,\n",
       "       4.46329225e+00, 4.41310860e+00, 4.37018850e+00, 4.13008714e+00,\n",
       "       3.93612770e+00, 3.74608584e+00, 3.71500737e+00, 3.69715143e+00,\n",
       "       3.63464393e+00, 3.56646289e+00, 3.50350745e+00, 3.39321589e+00,\n",
       "       3.21592465e+00, 3.17141043e+00, 2.87654192e+00, 2.87462898e+00,\n",
       "       2.82833673e+00, 2.78327284e+00, 2.71600749e+00, 2.52762709e+00,\n",
       "       2.38764652e+00, 2.28270889e+00, 2.20768030e+00, 2.14535229e+00,\n",
       "       2.08692876e+00, 2.08360043e+00, 2.06200959e+00, 1.95841680e+00,\n",
       "       1.89671206e+00, 1.88192330e+00, 1.78007836e+00, 1.74651147e+00,\n",
       "       1.63905791e+00, 1.53715917e+00, 1.53558607e+00, 1.43996694e+00,\n",
       "       1.31417725e+00, 1.29960738e+00, 1.28380386e+00, 1.25650328e+00,\n",
       "       1.17520823e+00, 9.99086646e-01, 9.67715856e-01, 9.36507924e-01,\n",
       "       9.31565681e-01, 9.25573245e-01, 9.09481565e-01, 8.88833871e-01,\n",
       "       8.22284878e-01, 7.20876368e-01, 6.97560018e-01, 6.49827765e-01,\n",
       "       6.33148979e-01, 6.31385753e-01, 6.03598745e-01, 5.37361261e-01,\n",
       "       5.35011503e-01, 5.00124831e-01, 4.65125143e-01, 4.18022947e-01,\n",
       "       4.03373460e-01, 4.02041449e-01, 4.00662174e-01, 3.87867431e-01,\n",
       "       3.78106867e-01, 3.14970094e-01, 2.85741406e-01, 2.76058252e-01,\n",
       "       2.67894320e-01, 2.47911815e-01, 2.19580555e-01, 2.01378553e-01,\n",
       "       1.65324964e-01, 1.63951787e-01, 1.42953691e-01, 1.31157125e-01,\n",
       "       1.30989526e-01, 1.12592108e-01, 9.53051375e-02, 9.22791952e-02,\n",
       "       8.81727474e-02, 7.13983680e-02, 6.06084469e-02, 5.22779915e-02,\n",
       "       4.90832742e-02, 4.89875740e-02, 3.72057021e-02, 3.52902666e-02,\n",
       "       3.03281957e-02, 2.56356276e-02, 2.33999011e-02, 2.05654306e-02,\n",
       "       2.03673415e-02, 1.60992638e-02, 1.45986295e-02, 1.44693564e-02,\n",
       "       1.42508498e-02, 1.10613770e-02, 5.90299976e-03, 2.76611670e-03,\n",
       "       2.14459295e-03, 2.04925016e-03, 7.46198096e-04, 7.12285479e-04,\n",
       "       3.63788820e-04, 6.59618728e-26, 1.67724479e-26, 1.08308639e-26,\n",
       "       9.00943902e-27, 8.00128070e-27, 6.43901395e-27, 4.80544925e-27,\n",
       "       3.80016239e-27, 3.32374773e-27, 3.24898306e-27, 2.54063330e-27,\n",
       "       2.30262262e-27, 1.23584038e-27, 1.20516520e-27, 1.20516520e-27,\n",
       "       1.20516520e-27, 1.20516520e-27, 1.20516520e-27, 1.20516520e-27,\n",
       "       1.20516520e-27, 1.20516520e-27, 1.20516520e-27, 1.20516520e-27,\n",
       "       1.20516520e-27, 1.20516520e-27, 1.20516520e-27, 1.20516520e-27,\n",
       "       1.20516520e-27, 1.20516520e-27, 1.20516520e-27, 1.20516520e-27,\n",
       "       1.20516520e-27, 1.20516520e-27, 1.20516520e-27, 1.20516520e-27,\n",
       "       1.20516520e-27, 1.20516520e-27, 1.20516520e-27, 1.20516520e-27,\n",
       "       1.20516520e-27, 1.20516520e-27, 1.20516520e-27, 1.20516520e-27,\n",
       "       1.20516520e-27, 1.20516520e-27, 1.20516520e-27, 1.20516520e-27,\n",
       "       1.20516520e-27, 1.20516520e-27, 1.20516520e-27, 1.20516520e-27,\n",
       "       1.20516520e-27, 1.20516520e-27, 1.20516520e-27, 1.20516520e-27,\n",
       "       1.20516520e-27, 1.20516520e-27, 1.20516520e-27, 1.20516520e-27,\n",
       "       1.20516520e-27, 1.20516520e-27, 1.20516520e-27, 1.20516520e-27,\n",
       "       1.20516520e-27, 1.18676410e-27, 1.04522048e-27, 5.58568198e-28,\n",
       "       4.47039314e-28, 4.36983573e-28, 3.37035901e-28, 1.63161237e-28])"
      ]
     },
     "execution_count": 28,
     "metadata": {},
     "output_type": "execute_result"
    }
   ],
   "source": [
    "pca.explained_variance_"
   ]
  },
  {
   "cell_type": "markdown",
   "metadata": {},
   "source": [
    "Calculating total varaince"
   ]
  },
  {
   "cell_type": "code",
   "execution_count": 29,
   "metadata": {},
   "outputs": [
    {
     "data": {
      "text/plain": [
       "3430023.448079484"
      ]
     },
     "execution_count": 29,
     "metadata": {},
     "output_type": "execute_result"
    }
   ],
   "source": [
    "tot = sum(pca.explained_variance_)\n",
    "tot"
   ]
  },
  {
   "cell_type": "markdown",
   "metadata": {},
   "source": [
    "Calculating Percentage of Explained Variance against each component"
   ]
  },
  {
   "cell_type": "code",
   "execution_count": 30,
   "metadata": {},
   "outputs": [
    {
     "name": "stdout",
     "output_type": "stream",
     "text": [
      "[9.746115922494743, 7.155444586878714, 6.14953098072305, 5.403384528548179, 4.888933703877893]\n"
     ]
    }
   ],
   "source": [
    "var_exp = [(i/tot)*100 for i in sorted(pca.explained_variance_, reverse=True)] \n",
    "print(var_exp[0:5])"
   ]
  },
  {
   "cell_type": "markdown",
   "metadata": {},
   "source": [
    "Calculating Cumilative Explained Variance"
   ]
  },
  {
   "cell_type": "code",
   "execution_count": 31,
   "metadata": {},
   "outputs": [],
   "source": [
    "cum_var_exp = np.cumsum(var_exp)"
   ]
  },
  {
   "cell_type": "markdown",
   "metadata": {},
   "source": [
    "Plot can help you understand the level of redundancy/information present in multiple dimensions."
   ]
  },
  {
   "cell_type": "code",
   "execution_count": 32,
   "metadata": {},
   "outputs": [
    {
     "data": {
      "image/png": "[encoded data removed]",
      "text/plain": [
       "<Figure size 720x360 with 1 Axes>"
      ]
     },
     "metadata": {
      "needs_background": "light"
     },
     "output_type": "display_data"
    }
   ],
   "source": [
    "# PLOT OUT THE EXPLAINED VARIANCES SUPERIMPOSED \n",
    "plt.figure(figsize=(10, 5))\n",
    "plt.step(range(1, 785), cum_var_exp,label='cumulative explained variance')\n",
    "plt.title('Cumulative Explained Variance as a Function of the Number of Components')\n",
    "plt.ylabel('Cumulative Explained variance')\n",
    "plt.xlabel('Principal components')\n",
    "plt.axhline(y = 95, color='k', linestyle='--', label = '95% Explained Variance')\n",
    "plt.axhline(y = 90, color='c', linestyle='--', label = '90% Explained Variance')\n",
    "plt.axhline(y = 85, color='r', linestyle='--', label = '85% Explained Variance')\n",
    "plt.legend(loc='best')\n",
    "plt.show()"
   ]
  },
  {
   "cell_type": "markdown",
   "metadata": {},
   "source": [
    "Now plotting Image Compression against 100%, 99%, 95%, 90%, and 85% of Explained Variance"
   ]
  },
  {
   "cell_type": "code",
   "execution_count": 33,
   "metadata": {},
   "outputs": [],
   "source": [
    "def explainedVariance(percentage, images): \n",
    "    pca = PCA(percentage)\n",
    "    pca.fit(images)\n",
    "    components = pca.transform(images)\n",
    "    approxOriginal = pca.inverse_transform(components)\n",
    "    return approxOriginal"
   ]
  },
  {
   "cell_type": "code",
   "execution_count": 34,
   "metadata": {},
   "outputs": [],
   "source": [
    "pca_var=[1.0,.99,.95,.90,.85]"
   ]
  },
  {
   "cell_type": "code",
   "execution_count": 35,
   "metadata": {},
   "outputs": [
    {
     "data": {
      "text/plain": [
       "[784, 331, 154, 87, 59]"
      ]
     },
     "execution_count": 35,
     "metadata": {},
     "output_type": "execute_result"
    }
   ],
   "source": [
    "components = [784, np.argmax(cum_var_exp > 99) + 1, np.argmax(cum_var_exp > 95) + 1, np.argmax(cum_var_exp > 90) + 1, \n",
    "              np.argmax(cum_var_exp >= 85) + 1]\n",
    "components"
   ]
  },
  {
   "cell_type": "code",
   "execution_count": 36,
   "metadata": {},
   "outputs": [
    {
     "data": {
      "image/png": "[encoded data removed]",
      "text/plain": [
       "<Figure size 1296x576 with 5 Axes>"
      ]
     },
     "metadata": {
      "needs_background": "light"
     },
     "output_type": "display_data"
    }
   ],
   "source": [
    "fig, axs = plt.subplots(1,5, figsize=(18, 8))\n",
    "axs = axs.ravel()\n",
    "\n",
    "for i,perc in enumerate(pca_var):\n",
    "    if perc==1.0:\n",
    "        axs[i].imshow(X[17].reshape(28,28),cmap='gray');\n",
    "        axs[i].set_xlabel(str(components[i])+' Components', fontsize = 12)\n",
    "        axs[i].set_title('Original Image', fontsize = 14)\n",
    "    else:\n",
    "        axs[i].imshow(explainedVariance(perc,X)[17].reshape(28,28),cmap='gray');\n",
    "        axs[i].set_xlabel(str(components[i])+' Components', fontsize = 12)\n",
    "        axs[i].set_title(str(int(perc*100))+'% of Explained Variance', fontsize = 14)\n",
    "  "
   ]
  },
  {
   "cell_type": "code",
   "execution_count": null,
   "metadata": {},
   "outputs": [],
   "source": []
  }
 ],
 "metadata": {
  "kernelspec": {
   "display_name": "Python 3",
   "language": "python",
   "name": "python3"
  },
  "language_info": {
   "codemirror_mode": {
    "name": "ipython",
    "version": 3
   },
   "file_extension": ".py",
   "mimetype": "text/x-python",
   "name": "python",
   "nbconvert_exporter": "python",
   "pygments_lexer": "ipython3",
   "version": "3.7.4"
  }
 },
 "nbformat": 4,
 "nbformat_minor": 2
}
