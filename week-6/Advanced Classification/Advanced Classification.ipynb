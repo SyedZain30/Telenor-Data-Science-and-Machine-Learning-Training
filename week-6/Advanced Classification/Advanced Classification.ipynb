{
 "cells": [
  {
   "cell_type": "markdown",
   "metadata": {},
   "source": [
    "# Advanced Classification"
   ]
  },
  {
   "cell_type": "markdown",
   "metadata": {},
   "source": [
    "In this notebook, we will cover:\n",
    "\n",
    "* Decision Tree Classifier\n",
    "* Random Forest Classifier\n",
    "* AdaBoost\n",
    "* Hyperparameter Tuning by GridSearchCV\n",
    "* Tuning by Randomize Search\n",
    "* Voting Classifier"
   ]
  },
  {
   "cell_type": "markdown",
   "metadata": {},
   "source": [
    "Importing all necessary packages"
   ]
  },
  {
   "cell_type": "code",
   "execution_count": 1,
   "metadata": {},
   "outputs": [
    {
     "name": "stdout",
     "output_type": "stream",
     "text": [
      "Requirement already satisfied: pydotplus in e:\\python\\anaconda\\lib\\site-packages (2.0.2)\n",
      "Requirement already satisfied: pyparsing>=2.0.1 in e:\\python\\anaconda\\lib\\site-packages (from pydotplus) (2.4.2)\n"
     ]
    }
   ],
   "source": [
    "!pip install pydotplus"
   ]
  },
  {
   "cell_type": "code",
   "execution_count": 2,
   "metadata": {},
   "outputs": [],
   "source": [
    "import numpy as np\n",
    "import pandas as pd\n",
    "import matplotlib.pyplot as plt\n",
    "import seaborn as sns\n",
    "sns.set()\n",
    "%matplotlib inline"
   ]
  },
  {
   "cell_type": "markdown",
   "metadata": {},
   "source": [
    "### Task 1: Load Data 'titanic_clean.csv'"
   ]
  },
  {
   "cell_type": "code",
   "execution_count": 3,
   "metadata": {
    "scrolled": true
   },
   "outputs": [
    {
     "data": {
      "text/html": [
       "<div>\n",
       "<style scoped>\n",
       "    .dataframe tbody tr th:only-of-type {\n",
       "        vertical-align: middle;\n",
       "    }\n",
       "\n",
       "    .dataframe tbody tr th {\n",
       "        vertical-align: top;\n",
       "    }\n",
       "\n",
       "    .dataframe thead th {\n",
       "        text-align: right;\n",
       "    }\n",
       "</style>\n",
       "<table border=\"1\" class=\"dataframe\">\n",
       "  <thead>\n",
       "    <tr style=\"text-align: right;\">\n",
       "      <th></th>\n",
       "      <th>PassengerId</th>\n",
       "      <th>Survived</th>\n",
       "      <th>Pclass</th>\n",
       "      <th>Sex</th>\n",
       "      <th>SibSp</th>\n",
       "      <th>Parch</th>\n",
       "      <th>Embarked</th>\n",
       "      <th>Title</th>\n",
       "      <th>GrpSize</th>\n",
       "      <th>FareCat</th>\n",
       "      <th>AgeCat</th>\n",
       "    </tr>\n",
       "  </thead>\n",
       "  <tbody>\n",
       "    <tr>\n",
       "      <td>0</td>\n",
       "      <td>1</td>\n",
       "      <td>0</td>\n",
       "      <td>3</td>\n",
       "      <td>male</td>\n",
       "      <td>1</td>\n",
       "      <td>0</td>\n",
       "      <td>S</td>\n",
       "      <td>Mr</td>\n",
       "      <td>couple</td>\n",
       "      <td>0-10</td>\n",
       "      <td>16-32</td>\n",
       "    </tr>\n",
       "    <tr>\n",
       "      <td>1</td>\n",
       "      <td>2</td>\n",
       "      <td>1</td>\n",
       "      <td>1</td>\n",
       "      <td>female</td>\n",
       "      <td>1</td>\n",
       "      <td>0</td>\n",
       "      <td>C</td>\n",
       "      <td>Mrs</td>\n",
       "      <td>couple</td>\n",
       "      <td>70-100</td>\n",
       "      <td>32-48</td>\n",
       "    </tr>\n",
       "    <tr>\n",
       "      <td>2</td>\n",
       "      <td>3</td>\n",
       "      <td>1</td>\n",
       "      <td>3</td>\n",
       "      <td>female</td>\n",
       "      <td>0</td>\n",
       "      <td>0</td>\n",
       "      <td>S</td>\n",
       "      <td>Miss</td>\n",
       "      <td>solo</td>\n",
       "      <td>0-10</td>\n",
       "      <td>16-32</td>\n",
       "    </tr>\n",
       "    <tr>\n",
       "      <td>3</td>\n",
       "      <td>4</td>\n",
       "      <td>1</td>\n",
       "      <td>1</td>\n",
       "      <td>female</td>\n",
       "      <td>1</td>\n",
       "      <td>0</td>\n",
       "      <td>S</td>\n",
       "      <td>Mrs</td>\n",
       "      <td>couple</td>\n",
       "      <td>40-70</td>\n",
       "      <td>32-48</td>\n",
       "    </tr>\n",
       "    <tr>\n",
       "      <td>4</td>\n",
       "      <td>138</td>\n",
       "      <td>0</td>\n",
       "      <td>1</td>\n",
       "      <td>male</td>\n",
       "      <td>1</td>\n",
       "      <td>0</td>\n",
       "      <td>S</td>\n",
       "      <td>Mr</td>\n",
       "      <td>couple</td>\n",
       "      <td>40-70</td>\n",
       "      <td>32-48</td>\n",
       "    </tr>\n",
       "  </tbody>\n",
       "</table>\n",
       "</div>"
      ],
      "text/plain": [
       "   PassengerId  Survived  Pclass     Sex  SibSp  Parch Embarked Title GrpSize  \\\n",
       "0            1         0       3    male      1      0        S    Mr  couple   \n",
       "1            2         1       1  female      1      0        C   Mrs  couple   \n",
       "2            3         1       3  female      0      0        S  Miss    solo   \n",
       "3            4         1       1  female      1      0        S   Mrs  couple   \n",
       "4          138         0       1    male      1      0        S    Mr  couple   \n",
       "\n",
       "  FareCat AgeCat  \n",
       "0    0-10  16-32  \n",
       "1  70-100  32-48  \n",
       "2    0-10  16-32  \n",
       "3   40-70  32-48  \n",
       "4   40-70  32-48  "
      ]
     },
     "execution_count": 3,
     "metadata": {},
     "output_type": "execute_result"
    }
   ],
   "source": [
    "# write code here\n",
    "data = pd.read_csv(\"titanic_clean.csv\")\n",
    "df = data.copy()\n",
    "df.head()"
   ]
  },
  {
   "cell_type": "markdown",
   "metadata": {},
   "source": [
    "### Task 2: Do One Hot encoding for categorical varaibles and store in df"
   ]
  },
  {
   "cell_type": "code",
   "execution_count": 4,
   "metadata": {},
   "outputs": [
    {
     "data": {
      "text/html": [
       "<div>\n",
       "<style scoped>\n",
       "    .dataframe tbody tr th:only-of-type {\n",
       "        vertical-align: middle;\n",
       "    }\n",
       "\n",
       "    .dataframe tbody tr th {\n",
       "        vertical-align: top;\n",
       "    }\n",
       "\n",
       "    .dataframe thead th {\n",
       "        text-align: right;\n",
       "    }\n",
       "</style>\n",
       "<table border=\"1\" class=\"dataframe\">\n",
       "  <thead>\n",
       "    <tr style=\"text-align: right;\">\n",
       "      <th></th>\n",
       "      <th>PassengerId</th>\n",
       "      <th>Survived</th>\n",
       "      <th>SibSp</th>\n",
       "      <th>Parch</th>\n",
       "      <th>Pclass_1</th>\n",
       "      <th>Pclass_2</th>\n",
       "      <th>Pclass_3</th>\n",
       "      <th>Sex_female</th>\n",
       "      <th>Sex_male</th>\n",
       "      <th>Embarked_C</th>\n",
       "      <th>...</th>\n",
       "      <th>FareCat_100+</th>\n",
       "      <th>FareCat_25-40</th>\n",
       "      <th>FareCat_40-70</th>\n",
       "      <th>FareCat_70-100</th>\n",
       "      <th>FareCat_Oct-25</th>\n",
       "      <th>AgeCat_0-16</th>\n",
       "      <th>AgeCat_16-32</th>\n",
       "      <th>AgeCat_32-48</th>\n",
       "      <th>AgeCat_48-64</th>\n",
       "      <th>AgeCat_64+</th>\n",
       "    </tr>\n",
       "  </thead>\n",
       "  <tbody>\n",
       "    <tr>\n",
       "      <td>0</td>\n",
       "      <td>1</td>\n",
       "      <td>0</td>\n",
       "      <td>1</td>\n",
       "      <td>0</td>\n",
       "      <td>0</td>\n",
       "      <td>0</td>\n",
       "      <td>1</td>\n",
       "      <td>0</td>\n",
       "      <td>1</td>\n",
       "      <td>0</td>\n",
       "      <td>...</td>\n",
       "      <td>0</td>\n",
       "      <td>0</td>\n",
       "      <td>0</td>\n",
       "      <td>0</td>\n",
       "      <td>0</td>\n",
       "      <td>0</td>\n",
       "      <td>1</td>\n",
       "      <td>0</td>\n",
       "      <td>0</td>\n",
       "      <td>0</td>\n",
       "    </tr>\n",
       "    <tr>\n",
       "      <td>1</td>\n",
       "      <td>2</td>\n",
       "      <td>1</td>\n",
       "      <td>1</td>\n",
       "      <td>0</td>\n",
       "      <td>1</td>\n",
       "      <td>0</td>\n",
       "      <td>0</td>\n",
       "      <td>1</td>\n",
       "      <td>0</td>\n",
       "      <td>1</td>\n",
       "      <td>...</td>\n",
       "      <td>0</td>\n",
       "      <td>0</td>\n",
       "      <td>0</td>\n",
       "      <td>1</td>\n",
       "      <td>0</td>\n",
       "      <td>0</td>\n",
       "      <td>0</td>\n",
       "      <td>1</td>\n",
       "      <td>0</td>\n",
       "      <td>0</td>\n",
       "    </tr>\n",
       "    <tr>\n",
       "      <td>2</td>\n",
       "      <td>3</td>\n",
       "      <td>1</td>\n",
       "      <td>0</td>\n",
       "      <td>0</td>\n",
       "      <td>0</td>\n",
       "      <td>0</td>\n",
       "      <td>1</td>\n",
       "      <td>1</td>\n",
       "      <td>0</td>\n",
       "      <td>0</td>\n",
       "      <td>...</td>\n",
       "      <td>0</td>\n",
       "      <td>0</td>\n",
       "      <td>0</td>\n",
       "      <td>0</td>\n",
       "      <td>0</td>\n",
       "      <td>0</td>\n",
       "      <td>1</td>\n",
       "      <td>0</td>\n",
       "      <td>0</td>\n",
       "      <td>0</td>\n",
       "    </tr>\n",
       "    <tr>\n",
       "      <td>3</td>\n",
       "      <td>4</td>\n",
       "      <td>1</td>\n",
       "      <td>1</td>\n",
       "      <td>0</td>\n",
       "      <td>1</td>\n",
       "      <td>0</td>\n",
       "      <td>0</td>\n",
       "      <td>1</td>\n",
       "      <td>0</td>\n",
       "      <td>0</td>\n",
       "      <td>...</td>\n",
       "      <td>0</td>\n",
       "      <td>0</td>\n",
       "      <td>1</td>\n",
       "      <td>0</td>\n",
       "      <td>0</td>\n",
       "      <td>0</td>\n",
       "      <td>0</td>\n",
       "      <td>1</td>\n",
       "      <td>0</td>\n",
       "      <td>0</td>\n",
       "    </tr>\n",
       "    <tr>\n",
       "      <td>4</td>\n",
       "      <td>138</td>\n",
       "      <td>0</td>\n",
       "      <td>1</td>\n",
       "      <td>0</td>\n",
       "      <td>1</td>\n",
       "      <td>0</td>\n",
       "      <td>0</td>\n",
       "      <td>0</td>\n",
       "      <td>1</td>\n",
       "      <td>0</td>\n",
       "      <td>...</td>\n",
       "      <td>0</td>\n",
       "      <td>0</td>\n",
       "      <td>1</td>\n",
       "      <td>0</td>\n",
       "      <td>0</td>\n",
       "      <td>0</td>\n",
       "      <td>0</td>\n",
       "      <td>1</td>\n",
       "      <td>0</td>\n",
       "      <td>0</td>\n",
       "    </tr>\n",
       "  </tbody>\n",
       "</table>\n",
       "<p>5 rows × 32 columns</p>\n",
       "</div>"
      ],
      "text/plain": [
       "   PassengerId  Survived  SibSp  Parch  Pclass_1  Pclass_2  Pclass_3  \\\n",
       "0            1         0      1      0         0         0         1   \n",
       "1            2         1      1      0         1         0         0   \n",
       "2            3         1      0      0         0         0         1   \n",
       "3            4         1      1      0         1         0         0   \n",
       "4          138         0      1      0         1         0         0   \n",
       "\n",
       "   Sex_female  Sex_male  Embarked_C  ...  FareCat_100+  FareCat_25-40  \\\n",
       "0           0         1           0  ...             0              0   \n",
       "1           1         0           1  ...             0              0   \n",
       "2           1         0           0  ...             0              0   \n",
       "3           1         0           0  ...             0              0   \n",
       "4           0         1           0  ...             0              0   \n",
       "\n",
       "   FareCat_40-70  FareCat_70-100  FareCat_Oct-25  AgeCat_0-16  AgeCat_16-32  \\\n",
       "0              0               0               0            0             1   \n",
       "1              0               1               0            0             0   \n",
       "2              0               0               0            0             1   \n",
       "3              1               0               0            0             0   \n",
       "4              1               0               0            0             0   \n",
       "\n",
       "   AgeCat_32-48  AgeCat_48-64  AgeCat_64+  \n",
       "0             0             0           0  \n",
       "1             1             0           0  \n",
       "2             0             0           0  \n",
       "3             1             0           0  \n",
       "4             1             0           0  \n",
       "\n",
       "[5 rows x 32 columns]"
      ]
     },
     "execution_count": 4,
     "metadata": {},
     "output_type": "execute_result"
    }
   ],
   "source": [
    "# write code here\n",
    "df_OneHot = pd.get_dummies(df,columns=['Pclass','Sex','Embarked','Title','GrpSize','FareCat','AgeCat'])\n",
    "df_OneHot.head()"
   ]
  },
  {
   "cell_type": "code",
   "execution_count": 5,
   "metadata": {},
   "outputs": [],
   "source": [
    "# Write code here to copy into df\n",
    "df = df_OneHot.copy()"
   ]
  },
  {
   "cell_type": "markdown",
   "metadata": {},
   "source": [
    "### Task 3: Create dependent and independent varaibles"
   ]
  },
  {
   "cell_type": "code",
   "execution_count": 6,
   "metadata": {},
   "outputs": [],
   "source": [
    "# write code here\n",
    "X = df.drop(['PassengerId',\"Survived\"],axis=1)\n",
    "Y = df['Survived']"
   ]
  },
  {
   "cell_type": "markdown",
   "metadata": {},
   "source": [
    "### Task 4: Split the data into training and testing set and set the random state to 100"
   ]
  },
  {
   "cell_type": "code",
   "execution_count": 7,
   "metadata": {},
   "outputs": [],
   "source": [
    "from sklearn.model_selection import train_test_split"
   ]
  },
  {
   "cell_type": "code",
   "execution_count": 8,
   "metadata": {},
   "outputs": [
    {
     "name": "stdout",
     "output_type": "stream",
     "text": [
      "(623, 30) (623,)\n",
      "(268, 30) (268,)\n"
     ]
    }
   ],
   "source": [
    "# Write code here\n",
    "xtrain, xtest, ytrain, ytest = train_test_split(X,Y,test_size=0.3,random_state=100,shuffle=True)\n",
    "print(xtrain.shape, ytrain.shape)\n",
    "print(xtest.shape, ytest.shape)"
   ]
  },
  {
   "cell_type": "markdown",
   "metadata": {},
   "source": [
    "## Defining Decision Tree classifier"
   ]
  },
  {
   "cell_type": "code",
   "execution_count": 9,
   "metadata": {},
   "outputs": [],
   "source": [
    "from sklearn.tree import DecisionTreeClassifier"
   ]
  },
  {
   "cell_type": "code",
   "execution_count": 10,
   "metadata": {},
   "outputs": [],
   "source": [
    "clf_dt = DecisionTreeClassifier(\n",
    "    max_depth=3, criterion='gini', random_state=100)"
   ]
  },
  {
   "cell_type": "code",
   "execution_count": 11,
   "metadata": {},
   "outputs": [
    {
     "data": {
      "text/plain": [
       "DecisionTreeClassifier(class_weight=None, criterion='gini', max_depth=3,\n",
       "                       max_features=None, max_leaf_nodes=None,\n",
       "                       min_impurity_decrease=0.0, min_impurity_split=None,\n",
       "                       min_samples_leaf=1, min_samples_split=2,\n",
       "                       min_weight_fraction_leaf=0.0, presort=False,\n",
       "                       random_state=100, splitter='best')"
      ]
     },
     "execution_count": 11,
     "metadata": {},
     "output_type": "execute_result"
    }
   ],
   "source": [
    "clf_dt.fit(xtrain, ytrain)"
   ]
  },
  {
   "cell_type": "code",
   "execution_count": 12,
   "metadata": {},
   "outputs": [],
   "source": [
    "dt_pred = clf_dt.predict(xtest)\n",
    "dt_pred_prb = clf_dt.predict_proba(xtest)[:, 1]"
   ]
  },
  {
   "cell_type": "markdown",
   "metadata": {},
   "source": [
    "### Task 5: Find accuracy for Decision Tree"
   ]
  },
  {
   "cell_type": "code",
   "execution_count": 13,
   "metadata": {},
   "outputs": [],
   "source": [
    "from sklearn.metrics import accuracy_score"
   ]
  },
  {
   "cell_type": "code",
   "execution_count": 14,
   "metadata": {},
   "outputs": [
    {
     "name": "stdout",
     "output_type": "stream",
     "text": [
      "Accuracy: 0.8507462686567164\n"
     ]
    }
   ],
   "source": [
    "# write code here\n",
    "accuracy_dt = accuracy_score(ytest,dt_pred)\n",
    "print(\"Accuracy: {}\".format(accuracy_dt))"
   ]
  },
  {
   "cell_type": "markdown",
   "metadata": {},
   "source": [
    "### Task 6: Find precision for Decision Tree"
   ]
  },
  {
   "cell_type": "code",
   "execution_count": 15,
   "metadata": {},
   "outputs": [],
   "source": [
    "from sklearn.metrics import precision_score"
   ]
  },
  {
   "cell_type": "code",
   "execution_count": 16,
   "metadata": {},
   "outputs": [
    {
     "name": "stdout",
     "output_type": "stream",
     "text": [
      "Precision: 0.7857142857142857\n"
     ]
    }
   ],
   "source": [
    "# write code here\n",
    "precision_dt = precision_score(ytest,dt_pred)\n",
    "print(\"Precision: {}\".format(precision_dt))"
   ]
  },
  {
   "cell_type": "markdown",
   "metadata": {},
   "source": [
    "### Task 7: Find Recall for Decision Tree"
   ]
  },
  {
   "cell_type": "code",
   "execution_count": 17,
   "metadata": {},
   "outputs": [],
   "source": [
    "from sklearn.metrics import recall_score"
   ]
  },
  {
   "cell_type": "code",
   "execution_count": 18,
   "metadata": {},
   "outputs": [
    {
     "name": "stdout",
     "output_type": "stream",
     "text": [
      "Recall: 0.8020833333333334\n"
     ]
    }
   ],
   "source": [
    "# write code here\n",
    "recall_dt = recall_score(ytest,dt_pred)\n",
    "print(\"Recall: {}\".format(recall_dt))"
   ]
  },
  {
   "cell_type": "markdown",
   "metadata": {},
   "source": [
    "### Task 8: Find F1 Score for Decision Tree"
   ]
  },
  {
   "cell_type": "code",
   "execution_count": 19,
   "metadata": {},
   "outputs": [],
   "source": [
    "from sklearn.metrics import f1_score"
   ]
  },
  {
   "cell_type": "code",
   "execution_count": 20,
   "metadata": {},
   "outputs": [
    {
     "name": "stdout",
     "output_type": "stream",
     "text": [
      "F1 Score: 0.7938144329896908\n"
     ]
    }
   ],
   "source": [
    "# write code here\n",
    "dt_f1 = f1_score(ytest,dt_pred)\n",
    "print(\"F1 Score: {}\".format(dt_f1))"
   ]
  },
  {
   "cell_type": "markdown",
   "metadata": {},
   "source": [
    "### Task 9: Print Classification Report for Decision Tree"
   ]
  },
  {
   "cell_type": "code",
   "execution_count": 21,
   "metadata": {},
   "outputs": [],
   "source": [
    "from sklearn.metrics import classification_report"
   ]
  },
  {
   "cell_type": "code",
   "execution_count": 22,
   "metadata": {},
   "outputs": [
    {
     "name": "stdout",
     "output_type": "stream",
     "text": [
      "              precision    recall  f1-score   support\n",
      "\n",
      "           0       0.89      0.88      0.88       172\n",
      "           1       0.79      0.80      0.79        96\n",
      "\n",
      "    accuracy                           0.85       268\n",
      "   macro avg       0.84      0.84      0.84       268\n",
      "weighted avg       0.85      0.85      0.85       268\n",
      "\n"
     ]
    }
   ],
   "source": [
    "print(classification_report(ytest,dt_pred))"
   ]
  },
  {
   "cell_type": "markdown",
   "metadata": {},
   "source": [
    "### ROC Curve<br>\n",
    "Importing function to plot ROC AUC Curve"
   ]
  },
  {
   "cell_type": "code",
   "execution_count": 23,
   "metadata": {},
   "outputs": [],
   "source": [
    "from plot_roc_curve import plot_roc_curve"
   ]
  },
  {
   "cell_type": "code",
   "execution_count": 24,
   "metadata": {},
   "outputs": [],
   "source": [
    "from sklearn.metrics import auc, roc_curve, roc_auc_score"
   ]
  },
  {
   "cell_type": "code",
   "execution_count": 25,
   "metadata": {},
   "outputs": [
    {
     "data": {
      "image/png": "[encoded data removed]",
      "text/plain": [
       "<Figure size 576x432 with 1 Axes>"
      ]
     },
     "metadata": {
      "needs_background": "light"
     },
     "output_type": "display_data"
    }
   ],
   "source": [
    "sns.set_context('poster')\n",
    "auc_dt = roc_auc_score(ytest, dt_pred_prb)\n",
    "fpr, tpr, threshold = roc_curve(ytest, dt_pred_prb)\n",
    "plot_roc_curve(fpr, tpr, label='AUC = %0.3f' % auc_dt)"
   ]
  },
  {
   "cell_type": "markdown",
   "metadata": {},
   "source": [
    "## Ploting Decision Tree"
   ]
  },
  {
   "cell_type": "markdown",
   "metadata": {},
   "source": [
    "Loading packages"
   ]
  },
  {
   "cell_type": "code",
   "execution_count": 26,
   "metadata": {},
   "outputs": [
    {
     "name": "stderr",
     "output_type": "stream",
     "text": [
      "E:\\python\\anaconda\\lib\\site-packages\\sklearn\\externals\\six.py:31: DeprecationWarning: The module is deprecated in version 0.21 and will be removed in version 0.23 since we've dropped support for Python 2.7. Please rely on the official version of six (https://pypi.org/project/six/).\n",
      "  \"(https://pypi.org/project/six/).\", DeprecationWarning)\n"
     ]
    }
   ],
   "source": [
    "from sklearn.externals.six import StringIO\n",
    "from IPython.display import Image\n",
    "from sklearn.tree import export_graphviz\n",
    "import pydotplus"
   ]
  },
  {
   "cell_type": "markdown",
   "metadata": {},
   "source": [
    "Download Graphviz 2.38 from this [link](https://graphviz.gitlab.io/_pages/Download/Download_windows.html) and install. Then run below line as per your intallation path. (This step is one time)"
   ]
  },
  {
   "cell_type": "code",
   "execution_count": 27,
   "metadata": {},
   "outputs": [],
   "source": [
    "import os\n",
    "os.environ[\"Path\"] += os.pathsep + 'C:/Users/dell/Downloads/week-6/Advanced Classification/Advanced Classification/release/bin'"
   ]
  },
  {
   "cell_type": "code",
   "execution_count": 28,
   "metadata": {},
   "outputs": [],
   "source": [
    "dot_data = StringIO()"
   ]
  },
  {
   "cell_type": "code",
   "execution_count": 29,
   "metadata": {},
   "outputs": [],
   "source": [
    "export_graphviz(clf_dt, out_file=dot_data, filled=True, rounded=True, special_characters=True, feature_names=list(X.columns))"
   ]
  },
  {
   "cell_type": "code",
   "execution_count": 30,
   "metadata": {},
   "outputs": [],
   "source": [
    "graph = pydotplus.graph_from_dot_data(dot_data.getvalue())"
   ]
  },
  {
   "cell_type": "code",
   "execution_count": 31,
   "metadata": {},
   "outputs": [
    {
     "data": {
      "image/png": "[encoded data removed]",
      "text/plain": [
       "<IPython.core.display.Image object>"
      ]
     },
     "execution_count": 31,
     "metadata": {},
     "output_type": "execute_result"
    }
   ],
   "source": [
    "Image(graph.create_png())"
   ]
  },
  {
   "cell_type": "markdown",
   "metadata": {},
   "source": [
    "Exporting PNG file of Decision Trees"
   ]
  },
  {
   "cell_type": "code",
   "execution_count": 32,
   "metadata": {},
   "outputs": [
    {
     "data": {
      "text/plain": [
       "True"
      ]
     },
     "execution_count": 32,
     "metadata": {},
     "output_type": "execute_result"
    }
   ],
   "source": [
    "graph.write_png('Decision Tree_Titanic.png')"
   ]
  },
  {
   "cell_type": "markdown",
   "metadata": {},
   "source": [
    "## Features Importance"
   ]
  },
  {
   "cell_type": "code",
   "execution_count": 33,
   "metadata": {},
   "outputs": [
    {
     "data": {
      "text/plain": [
       "array([0.        , 0.        , 0.06720923, 0.        , 0.13844724,\n",
       "       0.        , 0.        , 0.        , 0.        , 0.        ,\n",
       "       0.        , 0.        , 0.59849287, 0.        , 0.06553138,\n",
       "       0.        , 0.        , 0.08715219, 0.        , 0.        ,\n",
       "       0.        , 0.        , 0.02084285, 0.        , 0.        ,\n",
       "       0.        , 0.        , 0.        , 0.02232423, 0.        ])"
      ]
     },
     "execution_count": 33,
     "metadata": {},
     "output_type": "execute_result"
    }
   ],
   "source": [
    "clf_dt.feature_importances_"
   ]
  },
  {
   "cell_type": "code",
   "execution_count": 34,
   "metadata": {},
   "outputs": [],
   "source": [
    "features_tuple = list(zip(X.columns, clf_dt.feature_importances_))"
   ]
  },
  {
   "cell_type": "code",
   "execution_count": 35,
   "metadata": {},
   "outputs": [
    {
     "data": {
      "text/plain": [
       "[('SibSp', 0.0),\n",
       " ('Parch', 0.0),\n",
       " ('Pclass_1', 0.06720923019824247),\n",
       " ('Pclass_2', 0.0),\n",
       " ('Pclass_3', 0.13844724222638327),\n",
       " ('Sex_female', 0.0),\n",
       " ('Sex_male', 0.0),\n",
       " ('Embarked_C', 0.0),\n",
       " ('Embarked_Q', 0.0),\n",
       " ('Embarked_S', 0.0),\n",
       " ('Title_Master', 0.0),\n",
       " ('Title_Miss', 0.0),\n",
       " ('Title_Mr', 0.5984928741149036),\n",
       " ('Title_Mrs', 0.0),\n",
       " ('Title_Rare Title', 0.06553137630060007),\n",
       " ('GrpSize_couple', 0.0),\n",
       " ('GrpSize_group', 0.0),\n",
       " ('GrpSize_large group', 0.08715219205067479),\n",
       " ('GrpSize_solo', 0.0),\n",
       " ('FareCat_0-10', 0.0),\n",
       " ('FareCat_100+', 0.0),\n",
       " ('FareCat_25-40', 0.0),\n",
       " ('FareCat_40-70', 0.02084285439629028),\n",
       " ('FareCat_70-100', 0.0),\n",
       " ('FareCat_Oct-25', 0.0),\n",
       " ('AgeCat_0-16', 0.0),\n",
       " ('AgeCat_16-32', 0.0),\n",
       " ('AgeCat_32-48', 0.0),\n",
       " ('AgeCat_48-64', 0.02232423071290549),\n",
       " ('AgeCat_64+', 0.0)]"
      ]
     },
     "execution_count": 35,
     "metadata": {},
     "output_type": "execute_result"
    }
   ],
   "source": [
    "features_tuple"
   ]
  },
  {
   "cell_type": "code",
   "execution_count": 36,
   "metadata": {},
   "outputs": [],
   "source": [
    "feature_imp = pd.DataFrame(features_tuple, columns=[\n",
    "                           \"Feature Names\", \"Importance\"])"
   ]
  },
  {
   "cell_type": "code",
   "execution_count": 37,
   "metadata": {},
   "outputs": [],
   "source": [
    "feature_imp = feature_imp.sort_values(\"Importance\", ascending=False)"
   ]
  },
  {
   "cell_type": "code",
   "execution_count": 45,
   "metadata": {},
   "outputs": [
    {
     "data": {
      "text/plain": [
       "Text(0.5, 1.0, 'Decision Classifier - Features Importance')"
      ]
     },
     "execution_count": 45,
     "metadata": {},
     "output_type": "execute_result"
    },
    {
     "data": {
      "image/png": "[encoded data removed]",
      "text/plain": [
       "<Figure size 864x432 with 1 Axes>"
      ]
     },
     "metadata": {
      "needs_background": "light"
     },
     "output_type": "display_data"
    }
   ],
   "source": [
    "plt.figure(figsize=(12, 6))\n",
    "sns.barplot(x=\"Feature Names\", y=\"Importance\", data=feature_imp, color='b')\n",
    "plt.xlabel(\"Titanic Features\")\n",
    "plt.ylabel(\"Importance\")\n",
    "plt.xticks(rotation=90)\n",
    "plt.title(\"Decision Classifier - Features Importance\")"
   ]
  },
  {
   "cell_type": "markdown",
   "metadata": {},
   "source": [
    "# Random Forest"
   ]
  },
  {
   "cell_type": "markdown",
   "metadata": {},
   "source": [
    "### Defining Random Forest classifier"
   ]
  },
  {
   "cell_type": "code",
   "execution_count": 38,
   "metadata": {},
   "outputs": [],
   "source": [
    "from sklearn.ensemble import RandomForestClassifier"
   ]
  },
  {
   "cell_type": "code",
   "execution_count": 39,
   "metadata": {},
   "outputs": [],
   "source": [
    "clf_rf = RandomForestClassifier(random_state=100)"
   ]
  },
  {
   "cell_type": "code",
   "execution_count": 40,
   "metadata": {
    "scrolled": true
   },
   "outputs": [
    {
     "name": "stderr",
     "output_type": "stream",
     "text": [
      "E:\\python\\anaconda\\lib\\site-packages\\sklearn\\ensemble\\forest.py:245: FutureWarning: The default value of n_estimators will change from 10 in version 0.20 to 100 in 0.22.\n",
      "  \"10 in version 0.20 to 100 in 0.22.\", FutureWarning)\n"
     ]
    },
    {
     "data": {
      "text/plain": [
       "RandomForestClassifier(bootstrap=True, class_weight=None, criterion='gini',\n",
       "                       max_depth=None, max_features='auto', max_leaf_nodes=None,\n",
       "                       min_impurity_decrease=0.0, min_impurity_split=None,\n",
       "                       min_samples_leaf=1, min_samples_split=2,\n",
       "                       min_weight_fraction_leaf=0.0, n_estimators=10,\n",
       "                       n_jobs=None, oob_score=False, random_state=100,\n",
       "                       verbose=0, warm_start=False)"
      ]
     },
     "execution_count": 40,
     "metadata": {},
     "output_type": "execute_result"
    }
   ],
   "source": [
    "clf_rf.fit(xtrain, ytrain)"
   ]
  },
  {
   "cell_type": "code",
   "execution_count": 41,
   "metadata": {},
   "outputs": [],
   "source": [
    "rf_pred = clf_rf.predict(xtest)\n",
    "rf_pred_prb = clf_rf.predict_proba(xtest)[:, 1]"
   ]
  },
  {
   "cell_type": "markdown",
   "metadata": {},
   "source": [
    "### Task 10: Find Precision for Random Forest"
   ]
  },
  {
   "cell_type": "code",
   "execution_count": 43,
   "metadata": {},
   "outputs": [
    {
     "name": "stdout",
     "output_type": "stream",
     "text": [
      "Precision: 0.7171717171717171\n"
     ]
    }
   ],
   "source": [
    "# write code here\n",
    "precision_rf = precision_score(ytest,rf_pred)\n",
    "print(\"Precision: {}\".format(precision_rf))"
   ]
  },
  {
   "cell_type": "markdown",
   "metadata": {},
   "source": [
    "### Task 11: Find Accuracy for Random Forest"
   ]
  },
  {
   "cell_type": "code",
   "execution_count": 44,
   "metadata": {
    "scrolled": true
   },
   "outputs": [
    {
     "name": "stdout",
     "output_type": "stream",
     "text": [
      "Accuracy: 0.8022388059701493\n"
     ]
    }
   ],
   "source": [
    "# write code here\n",
    "accuracy_rf = accuracy_score(ytest,rf_pred)\n",
    "print(\"Accuracy: {}\".format(accuracy_rf))"
   ]
  },
  {
   "cell_type": "markdown",
   "metadata": {},
   "source": [
    "### Task 12: Find Recall for Random Forest"
   ]
  },
  {
   "cell_type": "code",
   "execution_count": 45,
   "metadata": {},
   "outputs": [
    {
     "name": "stdout",
     "output_type": "stream",
     "text": [
      "Recall: 0.7395833333333334\n"
     ]
    }
   ],
   "source": [
    "# write code here\n",
    "recall_rf = recall_score(ytest,rf_pred)\n",
    "print(\"Recall: {}\".format(recall_rf))"
   ]
  },
  {
   "cell_type": "markdown",
   "metadata": {},
   "source": [
    "### Task 13: Find F1 Score for Random Forest"
   ]
  },
  {
   "cell_type": "code",
   "execution_count": 46,
   "metadata": {},
   "outputs": [
    {
     "name": "stdout",
     "output_type": "stream",
     "text": [
      "F1 Score: 0.7282051282051282\n"
     ]
    }
   ],
   "source": [
    "# write code here\n",
    "rf_f1 = f1_score(ytest,rf_pred)\n",
    "print(\"F1 Score: {}\".format(rf_f1))"
   ]
  },
  {
   "cell_type": "markdown",
   "metadata": {},
   "source": [
    "### Task 14: Print Classification Report for Random Forest"
   ]
  },
  {
   "cell_type": "code",
   "execution_count": null,
   "metadata": {},
   "outputs": [],
   "source": [
    "from sklearn.metrics import classification_report"
   ]
  },
  {
   "cell_type": "code",
   "execution_count": 47,
   "metadata": {
    "scrolled": false
   },
   "outputs": [
    {
     "name": "stdout",
     "output_type": "stream",
     "text": [
      "              precision    recall  f1-score   support\n",
      "\n",
      "           0       0.85      0.84      0.84       172\n",
      "           1       0.72      0.74      0.73        96\n",
      "\n",
      "    accuracy                           0.80       268\n",
      "   macro avg       0.78      0.79      0.79       268\n",
      "weighted avg       0.80      0.80      0.80       268\n",
      "\n"
     ]
    }
   ],
   "source": [
    "print(classification_report(ytest,rf_pred))"
   ]
  },
  {
   "cell_type": "markdown",
   "metadata": {},
   "source": [
    "### ROC Curve for Random Forest"
   ]
  },
  {
   "cell_type": "code",
   "execution_count": 48,
   "metadata": {},
   "outputs": [],
   "source": [
    "from sklearn.metrics import auc, roc_curve, roc_auc_score"
   ]
  },
  {
   "cell_type": "code",
   "execution_count": 49,
   "metadata": {},
   "outputs": [
    {
     "data": {
      "image/png": "[encoded data removed]",
      "text/plain": [
       "<Figure size 576x432 with 1 Axes>"
      ]
     },
     "metadata": {
      "needs_background": "light"
     },
     "output_type": "display_data"
    }
   ],
   "source": [
    "auc_rf = roc_auc_score(ytest, rf_pred_prb)\n",
    "fpr, tpr, threshold = roc_curve(ytest, rf_pred_prb)\n",
    "plot_roc_curve(fpr, tpr, label='AUC = %0.3f' % auc_rf)"
   ]
  },
  {
   "cell_type": "markdown",
   "metadata": {},
   "source": [
    "### Features Importance"
   ]
  },
  {
   "cell_type": "code",
   "execution_count": 50,
   "metadata": {},
   "outputs": [],
   "source": [
    "features_tuple = list(zip(X.columns, clf_rf.feature_importances_))"
   ]
  },
  {
   "cell_type": "code",
   "execution_count": 51,
   "metadata": {},
   "outputs": [],
   "source": [
    "feature_imp = pd.DataFrame(features_tuple, columns=[\n",
    "                           \"Feature Names\", \"Importance\"])"
   ]
  },
  {
   "cell_type": "code",
   "execution_count": 52,
   "metadata": {},
   "outputs": [],
   "source": [
    "feature_imp = feature_imp.sort_values(\"Importance\", ascending=False)"
   ]
  },
  {
   "cell_type": "code",
   "execution_count": 53,
   "metadata": {},
   "outputs": [
    {
     "data": {
      "text/plain": [
       "Text(0.5, 1.0, 'Random Forest Classifier - Features Importance')"
      ]
     },
     "execution_count": 53,
     "metadata": {},
     "output_type": "execute_result"
    },
    {
     "data": {
      "image/png": "[encoded data removed]",
      "text/plain": [
       "<Figure size 864x432 with 1 Axes>"
      ]
     },
     "metadata": {
      "needs_background": "light"
     },
     "output_type": "display_data"
    }
   ],
   "source": [
    "plt.figure(figsize=(12, 6))\n",
    "sns.barplot(x=\"Feature Names\", y=\"Importance\", data=feature_imp, color='b')\n",
    "plt.xlabel(\"Titanic Features\")\n",
    "plt.ylabel(\"Importance\")\n",
    "plt.xticks(rotation=90)\n",
    "plt.title(\"Random Forest Classifier - Features Importance\")"
   ]
  },
  {
   "cell_type": "markdown",
   "metadata": {},
   "source": [
    "## Hyperparameter Tuning using GridSearchCV"
   ]
  },
  {
   "cell_type": "markdown",
   "metadata": {},
   "source": [
    "Importing GridSearchCV"
   ]
  },
  {
   "cell_type": "code",
   "execution_count": 54,
   "metadata": {},
   "outputs": [],
   "source": [
    "from sklearn.model_selection import GridSearchCV"
   ]
  },
  {
   "cell_type": "markdown",
   "metadata": {},
   "source": [
    "Making grid of parameters and running GridSearch CV"
   ]
  },
  {
   "cell_type": "code",
   "execution_count": 55,
   "metadata": {},
   "outputs": [
    {
     "data": {
      "text/plain": [
       "({'max_depth': 10, 'min_samples_leaf': 2, 'n_estimators': 18},\n",
       " 0.8250401284109149)"
      ]
     },
     "execution_count": 55,
     "metadata": {},
     "output_type": "execute_result"
    }
   ],
   "source": [
    "param_grid1 = {\"n_estimators\": [9, 18, 27, 36, 45, 54, 63],\n",
    "               \"max_depth\": [1, 5, 10, 15, 20, 25, 30],\n",
    "               \"min_samples_leaf\": [1, 2, 4, 6, 8, 10]}\n",
    "\n",
    "RF = RandomForestClassifier(random_state=100)\n",
    "# Instantiate the GridSearchCV object: logreg_cv\n",
    "RF_cv1 = GridSearchCV(RF, param_grid1, cv=5, scoring='accuracy', n_jobs=4)\n",
    "\n",
    "# Fit it to the data\n",
    "RF_cv1.fit(xtrain, ytrain)\n",
    "\n",
    "# RF_cv1.cv_results_,\n",
    "RF_cv1.best_params_, RF_cv1.best_score_"
   ]
  },
  {
   "cell_type": "markdown",
   "metadata": {},
   "source": [
    "So we found **'max_depth': 10, 'min_samples_leaf': 2, 'n_estimators': 18** as optimum parameters"
   ]
  },
  {
   "cell_type": "markdown",
   "metadata": {},
   "source": [
    "Let's try new set of parameter values near to optimum."
   ]
  },
  {
   "cell_type": "code",
   "execution_count": 56,
   "metadata": {
    "scrolled": true
   },
   "outputs": [
    {
     "data": {
      "text/plain": [
       "({'max_depth': 10, 'min_samples_leaf': 2, 'n_estimators': 15},\n",
       " 0.826645264847512)"
      ]
     },
     "execution_count": 56,
     "metadata": {},
     "output_type": "execute_result"
    }
   ],
   "source": [
    "param_grid2 = {\"n_estimators\": [9, 12, 15, 18, 21, 24, 27],\n",
    "               \"max_depth\": [5, 6, 7, 8, 9, 10, 11, 12, 13, 14, 15],\n",
    "               \"min_samples_leaf\": [1, 2, 3, 4]}\n",
    "\n",
    "RF = RandomForestClassifier(random_state=100)\n",
    "# Instantiate the GridSearchCV object: logreg_cv\n",
    "RF_cv2 = GridSearchCV(RF, param_grid2, cv=5, scoring='accuracy', n_jobs=4)\n",
    "\n",
    "# Fit it to the data\n",
    "RF_cv2.fit(xtrain, ytrain)\n",
    "\n",
    "# RF_cv2.grid_scores_,\n",
    "RF_cv2.best_params_, RF_cv2.best_score_"
   ]
  },
  {
   "cell_type": "markdown",
   "metadata": {},
   "source": [
    " So we found **'max_depth': 10, 'min_samples_leaf': 2, 'n_estimators': 15** as optimum parameters"
   ]
  },
  {
   "cell_type": "markdown",
   "metadata": {},
   "source": [
    "### Tuned Random Forest"
   ]
  },
  {
   "cell_type": "code",
   "execution_count": 57,
   "metadata": {},
   "outputs": [],
   "source": [
    "RF_grid = RF_cv2.best_estimator_"
   ]
  },
  {
   "cell_type": "code",
   "execution_count": 58,
   "metadata": {
    "scrolled": true
   },
   "outputs": [
    {
     "data": {
      "text/plain": [
       "RandomForestClassifier(bootstrap=True, class_weight=None, criterion='gini',\n",
       "                       max_depth=10, max_features='auto', max_leaf_nodes=None,\n",
       "                       min_impurity_decrease=0.0, min_impurity_split=None,\n",
       "                       min_samples_leaf=2, min_samples_split=2,\n",
       "                       min_weight_fraction_leaf=0.0, n_estimators=15,\n",
       "                       n_jobs=None, oob_score=False, random_state=100,\n",
       "                       verbose=0, warm_start=False)"
      ]
     },
     "execution_count": 58,
     "metadata": {},
     "output_type": "execute_result"
    }
   ],
   "source": [
    "RF_grid.fit(xtrain, ytrain)"
   ]
  },
  {
   "cell_type": "code",
   "execution_count": 59,
   "metadata": {},
   "outputs": [],
   "source": [
    "rf_pred_t = RF_grid.predict(xtest)\n",
    "rf_pred_prb_t = RF_grid.predict_proba(xtest)[:, 1]"
   ]
  },
  {
   "cell_type": "markdown",
   "metadata": {},
   "source": [
    "### Task 15: Find Accuracy for Tuned Random Forest"
   ]
  },
  {
   "cell_type": "code",
   "execution_count": 60,
   "metadata": {},
   "outputs": [
    {
     "name": "stdout",
     "output_type": "stream",
     "text": [
      "Accuracy after tuning: 0.835820895522388\n"
     ]
    }
   ],
   "source": [
    "# write code here\n",
    "accuracy_rf_t = accuracy_score(ytest,rf_pred_t)\n",
    "print(\"Accuracy after tuning: {}\".format(accuracy_rf_t))"
   ]
  },
  {
   "cell_type": "markdown",
   "metadata": {},
   "source": [
    "### Task 16: Find Recall for Tuned Random Forest"
   ]
  },
  {
   "cell_type": "code",
   "execution_count": 61,
   "metadata": {},
   "outputs": [
    {
     "data": {
      "text/plain": [
       "0.8020833333333334"
      ]
     },
     "execution_count": 61,
     "metadata": {},
     "output_type": "execute_result"
    }
   ],
   "source": [
    "# write code here\n",
    "recall_rf_t = recall_score(ytest,rf_pred_t)\n",
    "recall_rf_t"
   ]
  },
  {
   "cell_type": "markdown",
   "metadata": {},
   "source": [
    "### Task 17: Find Precision for Tuned Random Forest"
   ]
  },
  {
   "cell_type": "code",
   "execution_count": 62,
   "metadata": {},
   "outputs": [
    {
     "data": {
      "text/plain": [
       "0.7549019607843137"
      ]
     },
     "execution_count": 62,
     "metadata": {},
     "output_type": "execute_result"
    }
   ],
   "source": [
    "# write code here\n",
    "precision_rf_t = precision_score(ytest,rf_pred_t)\n",
    "precision_rf_t"
   ]
  },
  {
   "cell_type": "markdown",
   "metadata": {},
   "source": [
    "### Task 18: Find F1 Score"
   ]
  },
  {
   "cell_type": "code",
   "execution_count": 63,
   "metadata": {},
   "outputs": [
    {
     "data": {
      "text/plain": [
       "0.7777777777777777"
      ]
     },
     "execution_count": 63,
     "metadata": {},
     "output_type": "execute_result"
    }
   ],
   "source": [
    "# write code here\n",
    "rf_t_f1 =f1_score(ytest,rf_pred_t)\n",
    "rf_t_f1"
   ]
  },
  {
   "cell_type": "markdown",
   "metadata": {},
   "source": [
    "### Task 19: Print Classification Report for Tuned Random Forest"
   ]
  },
  {
   "cell_type": "code",
   "execution_count": 66,
   "metadata": {
    "scrolled": true
   },
   "outputs": [
    {
     "name": "stdout",
     "output_type": "stream",
     "text": [
      "              precision    recall  f1-score   support\n",
      "\n",
      "           0       0.89      0.85      0.87       172\n",
      "           1       0.75      0.80      0.78        96\n",
      "\n",
      "    accuracy                           0.84       268\n",
      "   macro avg       0.82      0.83      0.82       268\n",
      "weighted avg       0.84      0.84      0.84       268\n",
      "\n"
     ]
    }
   ],
   "source": [
    "# write code here\n",
    "from sklearn.metrics import classification_report\n",
    "print(classification_report(ytest,rf_pred_t))"
   ]
  },
  {
   "cell_type": "markdown",
   "metadata": {},
   "source": [
    "### ROC Curve for Tuned Random Forest"
   ]
  },
  {
   "cell_type": "code",
   "execution_count": 67,
   "metadata": {},
   "outputs": [
    {
     "data": {
      "image/png": "[encoded data removed]",
      "text/plain": [
       "<Figure size 576x432 with 1 Axes>"
      ]
     },
     "metadata": {
      "needs_background": "light"
     },
     "output_type": "display_data"
    }
   ],
   "source": [
    "auc_rf_t = roc_auc_score(ytest, rf_pred_prb_t)\n",
    "fpr, tpr, threshold = roc_curve(ytest, rf_pred_prb_t)\n",
    "plot_roc_curve(fpr, tpr, label='AUC Tuned = %0.3f' % auc_rf_t)"
   ]
  },
  {
   "cell_type": "markdown",
   "metadata": {},
   "source": [
    "### Hyperparameters Tuning Using Randomized Search"
   ]
  },
  {
   "cell_type": "code",
   "execution_count": 68,
   "metadata": {},
   "outputs": [],
   "source": [
    "from sklearn.model_selection import RandomizedSearchCV"
   ]
  },
  {
   "cell_type": "code",
   "execution_count": 69,
   "metadata": {},
   "outputs": [],
   "source": [
    "rf_rs = RandomForestClassifier(random_state=100)"
   ]
  },
  {
   "cell_type": "code",
   "execution_count": 70,
   "metadata": {},
   "outputs": [],
   "source": [
    "# Number of trees in random forest\n",
    "n_estimators = [int(x) for x in np.linspace(start=10, stop=1000, num=10)]\n",
    "# Maximum number of levels in tree\n",
    "max_depth = [int(x) for x in np.linspace(10, 110, num=11)]\n",
    "max_depth.append(None)\n",
    "# Minimum number of samples required to split a node\n",
    "min_samples_split = [2, 5, 10]"
   ]
  },
  {
   "cell_type": "code",
   "execution_count": 71,
   "metadata": {},
   "outputs": [],
   "source": [
    "random_grid1 = {\"n_estimators\": n_estimators,\n",
    "                \"max_depth\": max_depth,\n",
    "                \"min_samples_split\": min_samples_split}"
   ]
  },
  {
   "cell_type": "code",
   "execution_count": 72,
   "metadata": {},
   "outputs": [
    {
     "name": "stdout",
     "output_type": "stream",
     "text": [
      "Fitting 5 folds for each of 50 candidates, totalling 250 fits\n",
      "[CV] n_estimators=450, min_samples_split=10, max_depth=80 ............\n"
     ]
    },
    {
     "name": "stderr",
     "output_type": "stream",
     "text": [
      "[Parallel(n_jobs=1)]: Using backend SequentialBackend with 1 concurrent workers.\n"
     ]
    },
    {
     "name": "stdout",
     "output_type": "stream",
     "text": [
      "[CV]  n_estimators=450, min_samples_split=10, max_depth=80, total=   0.5s\n",
      "[CV] n_estimators=450, min_samples_split=10, max_depth=80 ............\n"
     ]
    },
    {
     "name": "stderr",
     "output_type": "stream",
     "text": [
      "[Parallel(n_jobs=1)]: Done   1 out of   1 | elapsed:    0.4s remaining:    0.0s\n"
     ]
    },
    {
     "name": "stdout",
     "output_type": "stream",
     "text": [
      "[CV]  n_estimators=450, min_samples_split=10, max_depth=80, total=   0.4s\n",
      "[CV] n_estimators=450, min_samples_split=10, max_depth=80 ............\n",
      "[CV]  n_estimators=450, min_samples_split=10, max_depth=80, total=   0.5s\n",
      "[CV] n_estimators=450, min_samples_split=10, max_depth=80 ............\n",
      "[CV]  n_estimators=450, min_samples_split=10, max_depth=80, total=   0.5s\n",
      "[CV] n_estimators=450, min_samples_split=10, max_depth=80 ............\n",
      "[CV]  n_estimators=450, min_samples_split=10, max_depth=80, total=   0.4s\n",
      "[CV] n_estimators=560, min_samples_split=5, max_depth=30 .............\n",
      "[CV]  n_estimators=560, min_samples_split=5, max_depth=30, total=   0.6s\n",
      "[CV] n_estimators=560, min_samples_split=5, max_depth=30 .............\n",
      "[CV]  n_estimators=560, min_samples_split=5, max_depth=30, total=   0.6s\n",
      "[CV] n_estimators=560, min_samples_split=5, max_depth=30 .............\n",
      "[CV]  n_estimators=560, min_samples_split=5, max_depth=30, total=   0.6s\n",
      "[CV] n_estimators=560, min_samples_split=5, max_depth=30 .............\n",
      "[CV]  n_estimators=560, min_samples_split=5, max_depth=30, total=   0.5s\n",
      "[CV] n_estimators=560, min_samples_split=5, max_depth=30 .............\n",
      "[CV]  n_estimators=560, min_samples_split=5, max_depth=30, total=   0.6s\n",
      "[CV] n_estimators=1000, min_samples_split=2, max_depth=None ..........\n",
      "[CV]  n_estimators=1000, min_samples_split=2, max_depth=None, total=   1.1s\n",
      "[CV] n_estimators=1000, min_samples_split=2, max_depth=None ..........\n",
      "[CV]  n_estimators=1000, min_samples_split=2, max_depth=None, total=   1.0s\n",
      "[CV] n_estimators=1000, min_samples_split=2, max_depth=None ..........\n",
      "[CV]  n_estimators=1000, min_samples_split=2, max_depth=None, total=   1.0s\n",
      "[CV] n_estimators=1000, min_samples_split=2, max_depth=None ..........\n",
      "[CV]  n_estimators=1000, min_samples_split=2, max_depth=None, total=   1.0s\n",
      "[CV] n_estimators=1000, min_samples_split=2, max_depth=None ..........\n",
      "[CV]  n_estimators=1000, min_samples_split=2, max_depth=None, total=   1.1s\n",
      "[CV] n_estimators=890, min_samples_split=10, max_depth=30 ............\n",
      "[CV]  n_estimators=890, min_samples_split=10, max_depth=30, total=   1.1s\n",
      "[CV] n_estimators=890, min_samples_split=10, max_depth=30 ............\n",
      "[CV]  n_estimators=890, min_samples_split=10, max_depth=30, total=   1.0s\n",
      "[CV] n_estimators=890, min_samples_split=10, max_depth=30 ............\n",
      "[CV]  n_estimators=890, min_samples_split=10, max_depth=30, total=   1.0s\n",
      "[CV] n_estimators=890, min_samples_split=10, max_depth=30 ............\n",
      "[CV]  n_estimators=890, min_samples_split=10, max_depth=30, total=   1.0s\n",
      "[CV] n_estimators=890, min_samples_split=10, max_depth=30 ............\n",
      "[CV]  n_estimators=890, min_samples_split=10, max_depth=30, total=   1.0s\n",
      "[CV] n_estimators=230, min_samples_split=2, max_depth=60 .............\n",
      "[CV]  n_estimators=230, min_samples_split=2, max_depth=60, total=   0.3s\n",
      "[CV] n_estimators=230, min_samples_split=2, max_depth=60 .............\n",
      "[CV]  n_estimators=230, min_samples_split=2, max_depth=60, total=   0.3s\n",
      "[CV] n_estimators=230, min_samples_split=2, max_depth=60 .............\n",
      "[CV]  n_estimators=230, min_samples_split=2, max_depth=60, total=   0.3s\n",
      "[CV] n_estimators=230, min_samples_split=2, max_depth=60 .............\n",
      "[CV]  n_estimators=230, min_samples_split=2, max_depth=60, total=   0.3s\n",
      "[CV] n_estimators=230, min_samples_split=2, max_depth=60 .............\n",
      "[CV]  n_estimators=230, min_samples_split=2, max_depth=60, total=   0.3s\n",
      "[CV] n_estimators=120, min_samples_split=10, max_depth=10 ............\n",
      "[CV]  n_estimators=120, min_samples_split=10, max_depth=10, total=   0.2s\n",
      "[CV] n_estimators=120, min_samples_split=10, max_depth=10 ............\n",
      "[CV]  n_estimators=120, min_samples_split=10, max_depth=10, total=   0.2s\n",
      "[CV] n_estimators=120, min_samples_split=10, max_depth=10 ............\n",
      "[CV]  n_estimators=120, min_samples_split=10, max_depth=10, total=   0.1s\n",
      "[CV] n_estimators=120, min_samples_split=10, max_depth=10 ............\n",
      "[CV]  n_estimators=120, min_samples_split=10, max_depth=10, total=   0.2s\n",
      "[CV] n_estimators=120, min_samples_split=10, max_depth=10 ............\n",
      "[CV]  n_estimators=120, min_samples_split=10, max_depth=10, total=   0.1s\n",
      "[CV] n_estimators=780, min_samples_split=5, max_depth=80 .............\n",
      "[CV]  n_estimators=780, min_samples_split=5, max_depth=80, total=   0.9s\n",
      "[CV] n_estimators=780, min_samples_split=5, max_depth=80 .............\n",
      "[CV]  n_estimators=780, min_samples_split=5, max_depth=80, total=   0.9s\n",
      "[CV] n_estimators=780, min_samples_split=5, max_depth=80 .............\n",
      "[CV]  n_estimators=780, min_samples_split=5, max_depth=80, total=   0.9s\n",
      "[CV] n_estimators=780, min_samples_split=5, max_depth=80 .............\n",
      "[CV]  n_estimators=780, min_samples_split=5, max_depth=80, total=   1.0s\n",
      "[CV] n_estimators=780, min_samples_split=5, max_depth=80 .............\n",
      "[CV]  n_estimators=780, min_samples_split=5, max_depth=80, total=   1.2s\n",
      "[CV] n_estimators=670, min_samples_split=2, max_depth=40 .............\n",
      "[CV]  n_estimators=670, min_samples_split=2, max_depth=40, total=   0.7s\n",
      "[CV] n_estimators=670, min_samples_split=2, max_depth=40 .............\n",
      "[CV]  n_estimators=670, min_samples_split=2, max_depth=40, total=   0.7s\n",
      "[CV] n_estimators=670, min_samples_split=2, max_depth=40 .............\n",
      "[CV]  n_estimators=670, min_samples_split=2, max_depth=40, total=   0.7s\n",
      "[CV] n_estimators=670, min_samples_split=2, max_depth=40 .............\n",
      "[CV]  n_estimators=670, min_samples_split=2, max_depth=40, total=   0.7s\n",
      "[CV] n_estimators=670, min_samples_split=2, max_depth=40 .............\n",
      "[CV]  n_estimators=670, min_samples_split=2, max_depth=40, total=   0.7s\n",
      "[CV] n_estimators=120, min_samples_split=2, max_depth=10 .............\n",
      "[CV]  n_estimators=120, min_samples_split=2, max_depth=10, total=   0.1s\n",
      "[CV] n_estimators=120, min_samples_split=2, max_depth=10 .............\n",
      "[CV]  n_estimators=120, min_samples_split=2, max_depth=10, total=   0.1s\n",
      "[CV] n_estimators=120, min_samples_split=2, max_depth=10 .............\n",
      "[CV]  n_estimators=120, min_samples_split=2, max_depth=10, total=   0.1s\n",
      "[CV] n_estimators=120, min_samples_split=2, max_depth=10 .............\n",
      "[CV]  n_estimators=120, min_samples_split=2, max_depth=10, total=   0.1s\n",
      "[CV] n_estimators=120, min_samples_split=2, max_depth=10 .............\n",
      "[CV]  n_estimators=120, min_samples_split=2, max_depth=10, total=   0.1s\n",
      "[CV] n_estimators=890, min_samples_split=2, max_depth=50 .............\n",
      "[CV]  n_estimators=890, min_samples_split=2, max_depth=50, total=   0.9s\n",
      "[CV] n_estimators=890, min_samples_split=2, max_depth=50 .............\n",
      "[CV]  n_estimators=890, min_samples_split=2, max_depth=50, total=   0.9s\n",
      "[CV] n_estimators=890, min_samples_split=2, max_depth=50 .............\n",
      "[CV]  n_estimators=890, min_samples_split=2, max_depth=50, total=   0.9s\n",
      "[CV] n_estimators=890, min_samples_split=2, max_depth=50 .............\n",
      "[CV]  n_estimators=890, min_samples_split=2, max_depth=50, total=   0.9s\n",
      "[CV] n_estimators=890, min_samples_split=2, max_depth=50 .............\n",
      "[CV]  n_estimators=890, min_samples_split=2, max_depth=50, total=   0.9s\n",
      "[CV] n_estimators=10, min_samples_split=10, max_depth=30 .............\n",
      "[CV]  n_estimators=10, min_samples_split=10, max_depth=30, total=   0.0s\n",
      "[CV] n_estimators=10, min_samples_split=10, max_depth=30 .............\n",
      "[CV]  n_estimators=10, min_samples_split=10, max_depth=30, total=   0.0s\n",
      "[CV] n_estimators=10, min_samples_split=10, max_depth=30 .............\n",
      "[CV]  n_estimators=10, min_samples_split=10, max_depth=30, total=   0.0s\n",
      "[CV] n_estimators=10, min_samples_split=10, max_depth=30 .............\n",
      "[CV]  n_estimators=10, min_samples_split=10, max_depth=30, total=   0.0s\n",
      "[CV] n_estimators=10, min_samples_split=10, max_depth=30 .............\n",
      "[CV]  n_estimators=10, min_samples_split=10, max_depth=30, total=   0.0s\n",
      "[CV] n_estimators=890, min_samples_split=2, max_depth=40 .............\n",
      "[CV]  n_estimators=890, min_samples_split=2, max_depth=40, total=   1.0s\n",
      "[CV] n_estimators=890, min_samples_split=2, max_depth=40 .............\n",
      "[CV]  n_estimators=890, min_samples_split=2, max_depth=40, total=   0.9s\n",
      "[CV] n_estimators=890, min_samples_split=2, max_depth=40 .............\n",
      "[CV]  n_estimators=890, min_samples_split=2, max_depth=40, total=   0.9s\n",
      "[CV] n_estimators=890, min_samples_split=2, max_depth=40 .............\n"
     ]
    },
    {
     "name": "stdout",
     "output_type": "stream",
     "text": [
      "[CV]  n_estimators=890, min_samples_split=2, max_depth=40, total=   0.9s\n",
      "[CV] n_estimators=890, min_samples_split=2, max_depth=40 .............\n",
      "[CV]  n_estimators=890, min_samples_split=2, max_depth=40, total=   0.9s\n",
      "[CV] n_estimators=560, min_samples_split=5, max_depth=80 .............\n",
      "[CV]  n_estimators=560, min_samples_split=5, max_depth=80, total=   0.5s\n",
      "[CV] n_estimators=560, min_samples_split=5, max_depth=80 .............\n",
      "[CV]  n_estimators=560, min_samples_split=5, max_depth=80, total=   0.5s\n",
      "[CV] n_estimators=560, min_samples_split=5, max_depth=80 .............\n",
      "[CV]  n_estimators=560, min_samples_split=5, max_depth=80, total=   0.5s\n",
      "[CV] n_estimators=560, min_samples_split=5, max_depth=80 .............\n",
      "[CV]  n_estimators=560, min_samples_split=5, max_depth=80, total=   0.6s\n",
      "[CV] n_estimators=560, min_samples_split=5, max_depth=80 .............\n",
      "[CV]  n_estimators=560, min_samples_split=5, max_depth=80, total=   0.6s\n",
      "[CV] n_estimators=780, min_samples_split=10, max_depth=50 ............\n",
      "[CV]  n_estimators=780, min_samples_split=10, max_depth=50, total=   0.7s\n",
      "[CV] n_estimators=780, min_samples_split=10, max_depth=50 ............\n",
      "[CV]  n_estimators=780, min_samples_split=10, max_depth=50, total=   0.8s\n",
      "[CV] n_estimators=780, min_samples_split=10, max_depth=50 ............\n",
      "[CV]  n_estimators=780, min_samples_split=10, max_depth=50, total=   0.7s\n",
      "[CV] n_estimators=780, min_samples_split=10, max_depth=50 ............\n",
      "[CV]  n_estimators=780, min_samples_split=10, max_depth=50, total=   0.7s\n",
      "[CV] n_estimators=780, min_samples_split=10, max_depth=50 ............\n",
      "[CV]  n_estimators=780, min_samples_split=10, max_depth=50, total=   0.7s\n",
      "[CV] n_estimators=450, min_samples_split=5, max_depth=80 .............\n",
      "[CV]  n_estimators=450, min_samples_split=5, max_depth=80, total=   0.4s\n",
      "[CV] n_estimators=450, min_samples_split=5, max_depth=80 .............\n",
      "[CV]  n_estimators=450, min_samples_split=5, max_depth=80, total=   0.4s\n",
      "[CV] n_estimators=450, min_samples_split=5, max_depth=80 .............\n",
      "[CV]  n_estimators=450, min_samples_split=5, max_depth=80, total=   0.4s\n",
      "[CV] n_estimators=450, min_samples_split=5, max_depth=80 .............\n",
      "[CV]  n_estimators=450, min_samples_split=5, max_depth=80, total=   0.5s\n",
      "[CV] n_estimators=450, min_samples_split=5, max_depth=80 .............\n",
      "[CV]  n_estimators=450, min_samples_split=5, max_depth=80, total=   0.5s\n",
      "[CV] n_estimators=120, min_samples_split=10, max_depth=60 ............\n",
      "[CV]  n_estimators=120, min_samples_split=10, max_depth=60, total=   0.1s\n",
      "[CV] n_estimators=120, min_samples_split=10, max_depth=60 ............\n",
      "[CV]  n_estimators=120, min_samples_split=10, max_depth=60, total=   0.1s\n",
      "[CV] n_estimators=120, min_samples_split=10, max_depth=60 ............\n",
      "[CV]  n_estimators=120, min_samples_split=10, max_depth=60, total=   0.1s\n",
      "[CV] n_estimators=120, min_samples_split=10, max_depth=60 ............\n",
      "[CV]  n_estimators=120, min_samples_split=10, max_depth=60, total=   0.1s\n",
      "[CV] n_estimators=120, min_samples_split=10, max_depth=60 ............\n",
      "[CV]  n_estimators=120, min_samples_split=10, max_depth=60, total=   0.1s\n",
      "[CV] n_estimators=780, min_samples_split=2, max_depth=10 .............\n",
      "[CV]  n_estimators=780, min_samples_split=2, max_depth=10, total=   0.8s\n",
      "[CV] n_estimators=780, min_samples_split=2, max_depth=10 .............\n",
      "[CV]  n_estimators=780, min_samples_split=2, max_depth=10, total=   0.7s\n",
      "[CV] n_estimators=780, min_samples_split=2, max_depth=10 .............\n",
      "[CV]  n_estimators=780, min_samples_split=2, max_depth=10, total=   0.8s\n",
      "[CV] n_estimators=780, min_samples_split=2, max_depth=10 .............\n",
      "[CV]  n_estimators=780, min_samples_split=2, max_depth=10, total=   0.8s\n",
      "[CV] n_estimators=780, min_samples_split=2, max_depth=10 .............\n",
      "[CV]  n_estimators=780, min_samples_split=2, max_depth=10, total=   0.8s\n",
      "[CV] n_estimators=890, min_samples_split=10, max_depth=70 ............\n",
      "[CV]  n_estimators=890, min_samples_split=10, max_depth=70, total=   0.8s\n",
      "[CV] n_estimators=890, min_samples_split=10, max_depth=70 ............\n",
      "[CV]  n_estimators=890, min_samples_split=10, max_depth=70, total=   0.9s\n",
      "[CV] n_estimators=890, min_samples_split=10, max_depth=70 ............\n",
      "[CV]  n_estimators=890, min_samples_split=10, max_depth=70, total=   0.9s\n",
      "[CV] n_estimators=890, min_samples_split=10, max_depth=70 ............\n",
      "[CV]  n_estimators=890, min_samples_split=10, max_depth=70, total=   0.8s\n",
      "[CV] n_estimators=890, min_samples_split=10, max_depth=70 ............\n",
      "[CV]  n_estimators=890, min_samples_split=10, max_depth=70, total=   0.8s\n",
      "[CV] n_estimators=890, min_samples_split=5, max_depth=70 .............\n",
      "[CV]  n_estimators=890, min_samples_split=5, max_depth=70, total=   1.1s\n",
      "[CV] n_estimators=890, min_samples_split=5, max_depth=70 .............\n",
      "[CV]  n_estimators=890, min_samples_split=5, max_depth=70, total=   1.0s\n",
      "[CV] n_estimators=890, min_samples_split=5, max_depth=70 .............\n",
      "[CV]  n_estimators=890, min_samples_split=5, max_depth=70, total=   0.9s\n",
      "[CV] n_estimators=890, min_samples_split=5, max_depth=70 .............\n",
      "[CV]  n_estimators=890, min_samples_split=5, max_depth=70, total=   0.9s\n",
      "[CV] n_estimators=890, min_samples_split=5, max_depth=70 .............\n",
      "[CV]  n_estimators=890, min_samples_split=5, max_depth=70, total=   0.9s\n",
      "[CV] n_estimators=120, min_samples_split=10, max_depth=70 ............\n",
      "[CV]  n_estimators=120, min_samples_split=10, max_depth=70, total=   0.1s\n",
      "[CV] n_estimators=120, min_samples_split=10, max_depth=70 ............\n",
      "[CV]  n_estimators=120, min_samples_split=10, max_depth=70, total=   0.1s\n",
      "[CV] n_estimators=120, min_samples_split=10, max_depth=70 ............\n",
      "[CV]  n_estimators=120, min_samples_split=10, max_depth=70, total=   0.1s\n",
      "[CV] n_estimators=120, min_samples_split=10, max_depth=70 ............\n",
      "[CV]  n_estimators=120, min_samples_split=10, max_depth=70, total=   0.1s\n",
      "[CV] n_estimators=120, min_samples_split=10, max_depth=70 ............\n",
      "[CV]  n_estimators=120, min_samples_split=10, max_depth=70, total=   0.1s\n",
      "[CV] n_estimators=670, min_samples_split=10, max_depth=20 ............\n",
      "[CV]  n_estimators=670, min_samples_split=10, max_depth=20, total=   0.6s\n",
      "[CV] n_estimators=670, min_samples_split=10, max_depth=20 ............\n",
      "[CV]  n_estimators=670, min_samples_split=10, max_depth=20, total=   0.6s\n",
      "[CV] n_estimators=670, min_samples_split=10, max_depth=20 ............\n",
      "[CV]  n_estimators=670, min_samples_split=10, max_depth=20, total=   0.6s\n",
      "[CV] n_estimators=670, min_samples_split=10, max_depth=20 ............\n",
      "[CV]  n_estimators=670, min_samples_split=10, max_depth=20, total=   0.6s\n",
      "[CV] n_estimators=670, min_samples_split=10, max_depth=20 ............\n",
      "[CV]  n_estimators=670, min_samples_split=10, max_depth=20, total=   0.6s\n",
      "[CV] n_estimators=340, min_samples_split=5, max_depth=60 .............\n",
      "[CV]  n_estimators=340, min_samples_split=5, max_depth=60, total=   0.3s\n",
      "[CV] n_estimators=340, min_samples_split=5, max_depth=60 .............\n",
      "[CV]  n_estimators=340, min_samples_split=5, max_depth=60, total=   0.3s\n",
      "[CV] n_estimators=340, min_samples_split=5, max_depth=60 .............\n",
      "[CV]  n_estimators=340, min_samples_split=5, max_depth=60, total=   0.3s\n",
      "[CV] n_estimators=340, min_samples_split=5, max_depth=60 .............\n",
      "[CV]  n_estimators=340, min_samples_split=5, max_depth=60, total=   0.3s\n",
      "[CV] n_estimators=340, min_samples_split=5, max_depth=60 .............\n",
      "[CV]  n_estimators=340, min_samples_split=5, max_depth=60, total=   0.4s\n",
      "[CV] n_estimators=120, min_samples_split=5, max_depth=60 .............\n",
      "[CV]  n_estimators=120, min_samples_split=5, max_depth=60, total=   0.1s\n",
      "[CV] n_estimators=120, min_samples_split=5, max_depth=60 .............\n",
      "[CV]  n_estimators=120, min_samples_split=5, max_depth=60, total=   0.1s\n",
      "[CV] n_estimators=120, min_samples_split=5, max_depth=60 .............\n",
      "[CV]  n_estimators=120, min_samples_split=5, max_depth=60, total=   0.1s\n",
      "[CV] n_estimators=120, min_samples_split=5, max_depth=60 .............\n",
      "[CV]  n_estimators=120, min_samples_split=5, max_depth=60, total=   0.1s\n",
      "[CV] n_estimators=120, min_samples_split=5, max_depth=60 .............\n",
      "[CV]  n_estimators=120, min_samples_split=5, max_depth=60, total=   0.1s\n",
      "[CV] n_estimators=780, min_samples_split=2, max_depth=60 .............\n"
     ]
    },
    {
     "name": "stdout",
     "output_type": "stream",
     "text": [
      "[CV]  n_estimators=780, min_samples_split=2, max_depth=60, total=   0.8s\n",
      "[CV] n_estimators=780, min_samples_split=2, max_depth=60 .............\n",
      "[CV]  n_estimators=780, min_samples_split=2, max_depth=60, total=   0.8s\n",
      "[CV] n_estimators=780, min_samples_split=2, max_depth=60 .............\n",
      "[CV]  n_estimators=780, min_samples_split=2, max_depth=60, total=   0.8s\n",
      "[CV] n_estimators=780, min_samples_split=2, max_depth=60 .............\n",
      "[CV]  n_estimators=780, min_samples_split=2, max_depth=60, total=   0.8s\n",
      "[CV] n_estimators=780, min_samples_split=2, max_depth=60 .............\n",
      "[CV]  n_estimators=780, min_samples_split=2, max_depth=60, total=   0.9s\n",
      "[CV] n_estimators=340, min_samples_split=5, max_depth=110 ............\n",
      "[CV]  n_estimators=340, min_samples_split=5, max_depth=110, total=   0.3s\n",
      "[CV] n_estimators=340, min_samples_split=5, max_depth=110 ............\n",
      "[CV]  n_estimators=340, min_samples_split=5, max_depth=110, total=   0.3s\n",
      "[CV] n_estimators=340, min_samples_split=5, max_depth=110 ............\n",
      "[CV]  n_estimators=340, min_samples_split=5, max_depth=110, total=   0.3s\n",
      "[CV] n_estimators=340, min_samples_split=5, max_depth=110 ............\n",
      "[CV]  n_estimators=340, min_samples_split=5, max_depth=110, total=   0.4s\n",
      "[CV] n_estimators=340, min_samples_split=5, max_depth=110 ............\n",
      "[CV]  n_estimators=340, min_samples_split=5, max_depth=110, total=   0.4s\n",
      "[CV] n_estimators=1000, min_samples_split=2, max_depth=110 ...........\n",
      "[CV]  n_estimators=1000, min_samples_split=2, max_depth=110, total=   1.5s\n",
      "[CV] n_estimators=1000, min_samples_split=2, max_depth=110 ...........\n",
      "[CV]  n_estimators=1000, min_samples_split=2, max_depth=110, total=   1.2s\n",
      "[CV] n_estimators=1000, min_samples_split=2, max_depth=110 ...........\n",
      "[CV]  n_estimators=1000, min_samples_split=2, max_depth=110, total=   1.3s\n",
      "[CV] n_estimators=1000, min_samples_split=2, max_depth=110 ...........\n",
      "[CV]  n_estimators=1000, min_samples_split=2, max_depth=110, total=   1.3s\n",
      "[CV] n_estimators=1000, min_samples_split=2, max_depth=110 ...........\n",
      "[CV]  n_estimators=1000, min_samples_split=2, max_depth=110, total=   1.2s\n",
      "[CV] n_estimators=10, min_samples_split=10, max_depth=20 .............\n",
      "[CV]  n_estimators=10, min_samples_split=10, max_depth=20, total=   0.0s\n",
      "[CV] n_estimators=10, min_samples_split=10, max_depth=20 .............\n",
      "[CV]  n_estimators=10, min_samples_split=10, max_depth=20, total=   0.0s\n",
      "[CV] n_estimators=10, min_samples_split=10, max_depth=20 .............\n",
      "[CV]  n_estimators=10, min_samples_split=10, max_depth=20, total=   0.0s\n",
      "[CV] n_estimators=10, min_samples_split=10, max_depth=20 .............\n",
      "[CV]  n_estimators=10, min_samples_split=10, max_depth=20, total=   0.0s\n",
      "[CV] n_estimators=10, min_samples_split=10, max_depth=20 .............\n",
      "[CV]  n_estimators=10, min_samples_split=10, max_depth=20, total=   0.0s\n",
      "[CV] n_estimators=450, min_samples_split=5, max_depth=70 .............\n",
      "[CV]  n_estimators=450, min_samples_split=5, max_depth=70, total=   0.7s\n",
      "[CV] n_estimators=450, min_samples_split=5, max_depth=70 .............\n",
      "[CV]  n_estimators=450, min_samples_split=5, max_depth=70, total=   0.5s\n",
      "[CV] n_estimators=450, min_samples_split=5, max_depth=70 .............\n",
      "[CV]  n_estimators=450, min_samples_split=5, max_depth=70, total=   0.6s\n",
      "[CV] n_estimators=450, min_samples_split=5, max_depth=70 .............\n",
      "[CV]  n_estimators=450, min_samples_split=5, max_depth=70, total=   0.6s\n",
      "[CV] n_estimators=450, min_samples_split=5, max_depth=70 .............\n",
      "[CV]  n_estimators=450, min_samples_split=5, max_depth=70, total=   0.6s\n",
      "[CV] n_estimators=340, min_samples_split=2, max_depth=80 .............\n",
      "[CV]  n_estimators=340, min_samples_split=2, max_depth=80, total=   0.4s\n",
      "[CV] n_estimators=340, min_samples_split=2, max_depth=80 .............\n",
      "[CV]  n_estimators=340, min_samples_split=2, max_depth=80, total=   0.5s\n",
      "[CV] n_estimators=340, min_samples_split=2, max_depth=80 .............\n",
      "[CV]  n_estimators=340, min_samples_split=2, max_depth=80, total=   0.5s\n",
      "[CV] n_estimators=340, min_samples_split=2, max_depth=80 .............\n",
      "[CV]  n_estimators=340, min_samples_split=2, max_depth=80, total=   0.5s\n",
      "[CV] n_estimators=340, min_samples_split=2, max_depth=80 .............\n",
      "[CV]  n_estimators=340, min_samples_split=2, max_depth=80, total=   0.5s\n",
      "[CV] n_estimators=780, min_samples_split=10, max_depth=110 ...........\n",
      "[CV]  n_estimators=780, min_samples_split=10, max_depth=110, total=   0.9s\n",
      "[CV] n_estimators=780, min_samples_split=10, max_depth=110 ...........\n",
      "[CV]  n_estimators=780, min_samples_split=10, max_depth=110, total=   0.9s\n",
      "[CV] n_estimators=780, min_samples_split=10, max_depth=110 ...........\n",
      "[CV]  n_estimators=780, min_samples_split=10, max_depth=110, total=   0.9s\n",
      "[CV] n_estimators=780, min_samples_split=10, max_depth=110 ...........\n",
      "[CV]  n_estimators=780, min_samples_split=10, max_depth=110, total=   0.8s\n",
      "[CV] n_estimators=780, min_samples_split=10, max_depth=110 ...........\n",
      "[CV]  n_estimators=780, min_samples_split=10, max_depth=110, total=   0.9s\n",
      "[CV] n_estimators=890, min_samples_split=2, max_depth=90 .............\n",
      "[CV]  n_estimators=890, min_samples_split=2, max_depth=90, total=   1.1s\n",
      "[CV] n_estimators=890, min_samples_split=2, max_depth=90 .............\n",
      "[CV]  n_estimators=890, min_samples_split=2, max_depth=90, total=   0.9s\n",
      "[CV] n_estimators=890, min_samples_split=2, max_depth=90 .............\n",
      "[CV]  n_estimators=890, min_samples_split=2, max_depth=90, total=   0.9s\n",
      "[CV] n_estimators=890, min_samples_split=2, max_depth=90 .............\n",
      "[CV]  n_estimators=890, min_samples_split=2, max_depth=90, total=   0.9s\n",
      "[CV] n_estimators=890, min_samples_split=2, max_depth=90 .............\n",
      "[CV]  n_estimators=890, min_samples_split=2, max_depth=90, total=   0.9s\n",
      "[CV] n_estimators=10, min_samples_split=10, max_depth=90 .............\n",
      "[CV]  n_estimators=10, min_samples_split=10, max_depth=90, total=   0.0s\n",
      "[CV] n_estimators=10, min_samples_split=10, max_depth=90 .............\n",
      "[CV]  n_estimators=10, min_samples_split=10, max_depth=90, total=   0.0s\n",
      "[CV] n_estimators=10, min_samples_split=10, max_depth=90 .............\n",
      "[CV]  n_estimators=10, min_samples_split=10, max_depth=90, total=   0.0s\n",
      "[CV] n_estimators=10, min_samples_split=10, max_depth=90 .............\n",
      "[CV]  n_estimators=10, min_samples_split=10, max_depth=90, total=   0.0s\n",
      "[CV] n_estimators=10, min_samples_split=10, max_depth=90 .............\n",
      "[CV]  n_estimators=10, min_samples_split=10, max_depth=90, total=   0.0s\n",
      "[CV] n_estimators=780, min_samples_split=2, max_depth=90 .............\n",
      "[CV]  n_estimators=780, min_samples_split=2, max_depth=90, total=   0.8s\n",
      "[CV] n_estimators=780, min_samples_split=2, max_depth=90 .............\n",
      "[CV]  n_estimators=780, min_samples_split=2, max_depth=90, total=   0.8s\n",
      "[CV] n_estimators=780, min_samples_split=2, max_depth=90 .............\n",
      "[CV]  n_estimators=780, min_samples_split=2, max_depth=90, total=   0.8s\n",
      "[CV] n_estimators=780, min_samples_split=2, max_depth=90 .............\n",
      "[CV]  n_estimators=780, min_samples_split=2, max_depth=90, total=   0.8s\n",
      "[CV] n_estimators=780, min_samples_split=2, max_depth=90 .............\n",
      "[CV]  n_estimators=780, min_samples_split=2, max_depth=90, total=   0.8s\n",
      "[CV] n_estimators=1000, min_samples_split=2, max_depth=70 ............\n",
      "[CV]  n_estimators=1000, min_samples_split=2, max_depth=70, total=   1.0s\n",
      "[CV] n_estimators=1000, min_samples_split=2, max_depth=70 ............\n",
      "[CV]  n_estimators=1000, min_samples_split=2, max_depth=70, total=   1.1s\n",
      "[CV] n_estimators=1000, min_samples_split=2, max_depth=70 ............\n",
      "[CV]  n_estimators=1000, min_samples_split=2, max_depth=70, total=   1.1s\n",
      "[CV] n_estimators=1000, min_samples_split=2, max_depth=70 ............\n",
      "[CV]  n_estimators=1000, min_samples_split=2, max_depth=70, total=   1.0s\n",
      "[CV] n_estimators=1000, min_samples_split=2, max_depth=70 ............\n",
      "[CV]  n_estimators=1000, min_samples_split=2, max_depth=70, total=   1.0s\n",
      "[CV] n_estimators=340, min_samples_split=5, max_depth=20 .............\n",
      "[CV]  n_estimators=340, min_samples_split=5, max_depth=20, total=   0.3s\n",
      "[CV] n_estimators=340, min_samples_split=5, max_depth=20 .............\n",
      "[CV]  n_estimators=340, min_samples_split=5, max_depth=20, total=   0.3s\n",
      "[CV] n_estimators=340, min_samples_split=5, max_depth=20 .............\n"
     ]
    },
    {
     "name": "stdout",
     "output_type": "stream",
     "text": [
      "[CV]  n_estimators=340, min_samples_split=5, max_depth=20, total=   0.3s\n",
      "[CV] n_estimators=340, min_samples_split=5, max_depth=20 .............\n",
      "[CV]  n_estimators=340, min_samples_split=5, max_depth=20, total=   0.3s\n",
      "[CV] n_estimators=340, min_samples_split=5, max_depth=20 .............\n",
      "[CV]  n_estimators=340, min_samples_split=5, max_depth=20, total=   0.4s\n",
      "[CV] n_estimators=890, min_samples_split=5, max_depth=30 .............\n",
      "[CV]  n_estimators=890, min_samples_split=5, max_depth=30, total=   1.0s\n",
      "[CV] n_estimators=890, min_samples_split=5, max_depth=30 .............\n",
      "[CV]  n_estimators=890, min_samples_split=5, max_depth=30, total=   0.9s\n",
      "[CV] n_estimators=890, min_samples_split=5, max_depth=30 .............\n",
      "[CV]  n_estimators=890, min_samples_split=5, max_depth=30, total=   0.9s\n",
      "[CV] n_estimators=890, min_samples_split=5, max_depth=30 .............\n",
      "[CV]  n_estimators=890, min_samples_split=5, max_depth=30, total=   0.9s\n",
      "[CV] n_estimators=890, min_samples_split=5, max_depth=30 .............\n",
      "[CV]  n_estimators=890, min_samples_split=5, max_depth=30, total=   0.9s\n",
      "[CV] n_estimators=450, min_samples_split=5, max_depth=60 .............\n",
      "[CV]  n_estimators=450, min_samples_split=5, max_depth=60, total=   0.4s\n",
      "[CV] n_estimators=450, min_samples_split=5, max_depth=60 .............\n",
      "[CV]  n_estimators=450, min_samples_split=5, max_depth=60, total=   0.4s\n",
      "[CV] n_estimators=450, min_samples_split=5, max_depth=60 .............\n",
      "[CV]  n_estimators=450, min_samples_split=5, max_depth=60, total=   0.4s\n",
      "[CV] n_estimators=450, min_samples_split=5, max_depth=60 .............\n",
      "[CV]  n_estimators=450, min_samples_split=5, max_depth=60, total=   0.4s\n",
      "[CV] n_estimators=450, min_samples_split=5, max_depth=60 .............\n",
      "[CV]  n_estimators=450, min_samples_split=5, max_depth=60, total=   0.4s\n",
      "[CV] n_estimators=1000, min_samples_split=2, max_depth=30 ............\n",
      "[CV]  n_estimators=1000, min_samples_split=2, max_depth=30, total=   1.0s\n",
      "[CV] n_estimators=1000, min_samples_split=2, max_depth=30 ............\n",
      "[CV]  n_estimators=1000, min_samples_split=2, max_depth=30, total=   1.0s\n",
      "[CV] n_estimators=1000, min_samples_split=2, max_depth=30 ............\n",
      "[CV]  n_estimators=1000, min_samples_split=2, max_depth=30, total=   1.0s\n",
      "[CV] n_estimators=1000, min_samples_split=2, max_depth=30 ............\n",
      "[CV]  n_estimators=1000, min_samples_split=2, max_depth=30, total=   1.0s\n",
      "[CV] n_estimators=1000, min_samples_split=2, max_depth=30 ............\n",
      "[CV]  n_estimators=1000, min_samples_split=2, max_depth=30, total=   1.0s\n",
      "[CV] n_estimators=340, min_samples_split=2, max_depth=None ...........\n",
      "[CV]  n_estimators=340, min_samples_split=2, max_depth=None, total=   0.4s\n",
      "[CV] n_estimators=340, min_samples_split=2, max_depth=None ...........\n",
      "[CV]  n_estimators=340, min_samples_split=2, max_depth=None, total=   0.4s\n",
      "[CV] n_estimators=340, min_samples_split=2, max_depth=None ...........\n",
      "[CV]  n_estimators=340, min_samples_split=2, max_depth=None, total=   0.3s\n",
      "[CV] n_estimators=340, min_samples_split=2, max_depth=None ...........\n",
      "[CV]  n_estimators=340, min_samples_split=2, max_depth=None, total=   0.4s\n",
      "[CV] n_estimators=340, min_samples_split=2, max_depth=None ...........\n",
      "[CV]  n_estimators=340, min_samples_split=2, max_depth=None, total=   0.4s\n",
      "[CV] n_estimators=450, min_samples_split=2, max_depth=70 .............\n",
      "[CV]  n_estimators=450, min_samples_split=2, max_depth=70, total=   0.5s\n",
      "[CV] n_estimators=450, min_samples_split=2, max_depth=70 .............\n",
      "[CV]  n_estimators=450, min_samples_split=2, max_depth=70, total=   0.5s\n",
      "[CV] n_estimators=450, min_samples_split=2, max_depth=70 .............\n",
      "[CV]  n_estimators=450, min_samples_split=2, max_depth=70, total=   0.5s\n",
      "[CV] n_estimators=450, min_samples_split=2, max_depth=70 .............\n",
      "[CV]  n_estimators=450, min_samples_split=2, max_depth=70, total=   0.5s\n",
      "[CV] n_estimators=450, min_samples_split=2, max_depth=70 .............\n",
      "[CV]  n_estimators=450, min_samples_split=2, max_depth=70, total=   0.5s\n",
      "[CV] n_estimators=450, min_samples_split=2, max_depth=30 .............\n",
      "[CV]  n_estimators=450, min_samples_split=2, max_depth=30, total=   0.7s\n",
      "[CV] n_estimators=450, min_samples_split=2, max_depth=30 .............\n",
      "[CV]  n_estimators=450, min_samples_split=2, max_depth=30, total=   0.5s\n",
      "[CV] n_estimators=450, min_samples_split=2, max_depth=30 .............\n",
      "[CV]  n_estimators=450, min_samples_split=2, max_depth=30, total=   0.5s\n",
      "[CV] n_estimators=450, min_samples_split=2, max_depth=30 .............\n",
      "[CV]  n_estimators=450, min_samples_split=2, max_depth=30, total=   0.5s\n",
      "[CV] n_estimators=450, min_samples_split=2, max_depth=30 .............\n",
      "[CV]  n_estimators=450, min_samples_split=2, max_depth=30, total=   0.5s\n",
      "[CV] n_estimators=560, min_samples_split=5, max_depth=None ...........\n",
      "[CV]  n_estimators=560, min_samples_split=5, max_depth=None, total=   0.5s\n",
      "[CV] n_estimators=560, min_samples_split=5, max_depth=None ...........\n",
      "[CV]  n_estimators=560, min_samples_split=5, max_depth=None, total=   0.6s\n",
      "[CV] n_estimators=560, min_samples_split=5, max_depth=None ...........\n",
      "[CV]  n_estimators=560, min_samples_split=5, max_depth=None, total=   0.6s\n",
      "[CV] n_estimators=560, min_samples_split=5, max_depth=None ...........\n",
      "[CV]  n_estimators=560, min_samples_split=5, max_depth=None, total=   0.6s\n",
      "[CV] n_estimators=560, min_samples_split=5, max_depth=None ...........\n",
      "[CV]  n_estimators=560, min_samples_split=5, max_depth=None, total=   0.6s\n",
      "[CV] n_estimators=1000, min_samples_split=5, max_depth=80 ............\n",
      "[CV]  n_estimators=1000, min_samples_split=5, max_depth=80, total=   1.0s\n",
      "[CV] n_estimators=1000, min_samples_split=5, max_depth=80 ............\n",
      "[CV]  n_estimators=1000, min_samples_split=5, max_depth=80, total=   1.0s\n",
      "[CV] n_estimators=1000, min_samples_split=5, max_depth=80 ............\n",
      "[CV]  n_estimators=1000, min_samples_split=5, max_depth=80, total=   1.0s\n",
      "[CV] n_estimators=1000, min_samples_split=5, max_depth=80 ............\n",
      "[CV]  n_estimators=1000, min_samples_split=5, max_depth=80, total=   1.2s\n",
      "[CV] n_estimators=1000, min_samples_split=5, max_depth=80 ............\n",
      "[CV]  n_estimators=1000, min_samples_split=5, max_depth=80, total=   1.0s\n",
      "[CV] n_estimators=560, min_samples_split=2, max_depth=10 .............\n",
      "[CV]  n_estimators=560, min_samples_split=2, max_depth=10, total=   0.6s\n",
      "[CV] n_estimators=560, min_samples_split=2, max_depth=10 .............\n",
      "[CV]  n_estimators=560, min_samples_split=2, max_depth=10, total=   0.6s\n",
      "[CV] n_estimators=560, min_samples_split=2, max_depth=10 .............\n",
      "[CV]  n_estimators=560, min_samples_split=2, max_depth=10, total=   0.7s\n",
      "[CV] n_estimators=560, min_samples_split=2, max_depth=10 .............\n",
      "[CV]  n_estimators=560, min_samples_split=2, max_depth=10, total=   0.8s\n",
      "[CV] n_estimators=560, min_samples_split=2, max_depth=10 .............\n",
      "[CV]  n_estimators=560, min_samples_split=2, max_depth=10, total=   0.8s\n",
      "[CV] n_estimators=230, min_samples_split=5, max_depth=60 .............\n",
      "[CV]  n_estimators=230, min_samples_split=5, max_depth=60, total=   0.4s\n",
      "[CV] n_estimators=230, min_samples_split=5, max_depth=60 .............\n",
      "[CV]  n_estimators=230, min_samples_split=5, max_depth=60, total=   0.3s\n",
      "[CV] n_estimators=230, min_samples_split=5, max_depth=60 .............\n",
      "[CV]  n_estimators=230, min_samples_split=5, max_depth=60, total=   0.3s\n",
      "[CV] n_estimators=230, min_samples_split=5, max_depth=60 .............\n",
      "[CV]  n_estimators=230, min_samples_split=5, max_depth=60, total=   0.3s\n",
      "[CV] n_estimators=230, min_samples_split=5, max_depth=60 .............\n",
      "[CV]  n_estimators=230, min_samples_split=5, max_depth=60, total=   0.3s\n",
      "[CV] n_estimators=340, min_samples_split=10, max_depth=100 ...........\n",
      "[CV]  n_estimators=340, min_samples_split=10, max_depth=100, total=   0.6s\n",
      "[CV] n_estimators=340, min_samples_split=10, max_depth=100 ...........\n",
      "[CV]  n_estimators=340, min_samples_split=10, max_depth=100, total=   0.6s\n",
      "[CV] n_estimators=340, min_samples_split=10, max_depth=100 ...........\n",
      "[CV]  n_estimators=340, min_samples_split=10, max_depth=100, total=   0.4s\n",
      "[CV] n_estimators=340, min_samples_split=10, max_depth=100 ...........\n",
      "[CV]  n_estimators=340, min_samples_split=10, max_depth=100, total=   0.5s\n",
      "[CV] n_estimators=340, min_samples_split=10, max_depth=100 ...........\n"
     ]
    },
    {
     "name": "stdout",
     "output_type": "stream",
     "text": [
      "[CV]  n_estimators=340, min_samples_split=10, max_depth=100, total=   0.4s\n",
      "[CV] n_estimators=340, min_samples_split=2, max_depth=60 .............\n",
      "[CV]  n_estimators=340, min_samples_split=2, max_depth=60, total=   0.4s\n",
      "[CV] n_estimators=340, min_samples_split=2, max_depth=60 .............\n",
      "[CV]  n_estimators=340, min_samples_split=2, max_depth=60, total=   0.4s\n",
      "[CV] n_estimators=340, min_samples_split=2, max_depth=60 .............\n",
      "[CV]  n_estimators=340, min_samples_split=2, max_depth=60, total=   0.5s\n",
      "[CV] n_estimators=340, min_samples_split=2, max_depth=60 .............\n",
      "[CV]  n_estimators=340, min_samples_split=2, max_depth=60, total=   0.4s\n",
      "[CV] n_estimators=340, min_samples_split=2, max_depth=60 .............\n",
      "[CV]  n_estimators=340, min_samples_split=2, max_depth=60, total=   0.5s\n",
      "[CV] n_estimators=670, min_samples_split=2, max_depth=90 .............\n",
      "[CV]  n_estimators=670, min_samples_split=2, max_depth=90, total=   0.9s\n",
      "[CV] n_estimators=670, min_samples_split=2, max_depth=90 .............\n",
      "[CV]  n_estimators=670, min_samples_split=2, max_depth=90, total=   0.9s\n",
      "[CV] n_estimators=670, min_samples_split=2, max_depth=90 .............\n",
      "[CV]  n_estimators=670, min_samples_split=2, max_depth=90, total=   0.9s\n",
      "[CV] n_estimators=670, min_samples_split=2, max_depth=90 .............\n",
      "[CV]  n_estimators=670, min_samples_split=2, max_depth=90, total=   0.9s\n",
      "[CV] n_estimators=670, min_samples_split=2, max_depth=90 .............\n",
      "[CV]  n_estimators=670, min_samples_split=2, max_depth=90, total=   0.8s\n",
      "[CV] n_estimators=120, min_samples_split=10, max_depth=80 ............\n",
      "[CV]  n_estimators=120, min_samples_split=10, max_depth=80, total=   0.1s\n",
      "[CV] n_estimators=120, min_samples_split=10, max_depth=80 ............\n",
      "[CV]  n_estimators=120, min_samples_split=10, max_depth=80, total=   0.2s\n",
      "[CV] n_estimators=120, min_samples_split=10, max_depth=80 ............\n",
      "[CV]  n_estimators=120, min_samples_split=10, max_depth=80, total=   0.2s\n",
      "[CV] n_estimators=120, min_samples_split=10, max_depth=80 ............\n",
      "[CV]  n_estimators=120, min_samples_split=10, max_depth=80, total=   0.2s\n",
      "[CV] n_estimators=120, min_samples_split=10, max_depth=80 ............\n",
      "[CV]  n_estimators=120, min_samples_split=10, max_depth=80, total=   0.1s\n",
      "[CV] n_estimators=230, min_samples_split=5, max_depth=100 ............\n",
      "[CV]  n_estimators=230, min_samples_split=5, max_depth=100, total=   0.3s\n",
      "[CV] n_estimators=230, min_samples_split=5, max_depth=100 ............\n",
      "[CV]  n_estimators=230, min_samples_split=5, max_depth=100, total=   0.2s\n",
      "[CV] n_estimators=230, min_samples_split=5, max_depth=100 ............\n",
      "[CV]  n_estimators=230, min_samples_split=5, max_depth=100, total=   0.2s\n",
      "[CV] n_estimators=230, min_samples_split=5, max_depth=100 ............\n",
      "[CV]  n_estimators=230, min_samples_split=5, max_depth=100, total=   0.2s\n",
      "[CV] n_estimators=230, min_samples_split=5, max_depth=100 ............\n",
      "[CV]  n_estimators=230, min_samples_split=5, max_depth=100, total=   0.2s\n"
     ]
    },
    {
     "name": "stderr",
     "output_type": "stream",
     "text": [
      "[Parallel(n_jobs=1)]: Done 250 out of 250 | elapsed:  2.4min finished\n"
     ]
    },
    {
     "data": {
      "text/plain": [
       "RandomizedSearchCV(cv=5, error_score='raise-deprecating',\n",
       "                   estimator=RandomForestClassifier(bootstrap=True,\n",
       "                                                    class_weight=None,\n",
       "                                                    criterion='gini',\n",
       "                                                    max_depth=None,\n",
       "                                                    max_features='auto',\n",
       "                                                    max_leaf_nodes=None,\n",
       "                                                    min_impurity_decrease=0.0,\n",
       "                                                    min_impurity_split=None,\n",
       "                                                    min_samples_leaf=1,\n",
       "                                                    min_samples_split=2,\n",
       "                                                    min_weight_fraction_leaf=0.0,\n",
       "                                                    n_estimators='warn',\n",
       "                                                    n_jobs=None,\n",
       "                                                    oob_score=False,\n",
       "                                                    random_state=100, verbose=0,\n",
       "                                                    warm_start=False),\n",
       "                   iid='warn', n_iter=50, n_jobs=None,\n",
       "                   param_distributions={'max_depth': [10, 20, 30, 40, 50, 60,\n",
       "                                                      70, 80, 90, 100, 110,\n",
       "                                                      None],\n",
       "                                        'min_samples_split': [2, 5, 10],\n",
       "                                        'n_estimators': [10, 120, 230, 340, 450,\n",
       "                                                         560, 670, 780, 890,\n",
       "                                                         1000]},\n",
       "                   pre_dispatch='2*n_jobs', random_state=100, refit=True,\n",
       "                   return_train_score=False, scoring=None, verbose=2)"
      ]
     },
     "execution_count": 72,
     "metadata": {},
     "output_type": "execute_result"
    }
   ],
   "source": [
    "rf_random = RandomizedSearchCV(\n",
    "    estimator=rf_rs, param_distributions=random_grid1, n_iter=50, cv=5, verbose=2, random_state=100)\n",
    "# Fit the random search model\n",
    "rf_random.fit(xtrain, ytrain)"
   ]
  },
  {
   "cell_type": "markdown",
   "metadata": {},
   "source": [
    "**Selecting the best classifier**"
   ]
  },
  {
   "cell_type": "code",
   "execution_count": 73,
   "metadata": {},
   "outputs": [],
   "source": [
    "clf_rf_rand = rf_random.best_estimator_"
   ]
  },
  {
   "cell_type": "code",
   "execution_count": 74,
   "metadata": {},
   "outputs": [
    {
     "data": {
      "text/plain": [
       "RandomForestClassifier(bootstrap=True, class_weight=None, criterion='gini',\n",
       "                       max_depth=80, max_features='auto', max_leaf_nodes=None,\n",
       "                       min_impurity_decrease=0.0, min_impurity_split=None,\n",
       "                       min_samples_leaf=1, min_samples_split=10,\n",
       "                       min_weight_fraction_leaf=0.0, n_estimators=450,\n",
       "                       n_jobs=None, oob_score=False, random_state=100,\n",
       "                       verbose=0, warm_start=False)"
      ]
     },
     "execution_count": 74,
     "metadata": {},
     "output_type": "execute_result"
    }
   ],
   "source": [
    "clf_rf_rand.fit(xtrain, ytrain)"
   ]
  },
  {
   "cell_type": "code",
   "execution_count": 75,
   "metadata": {},
   "outputs": [],
   "source": [
    "pred_rf_rand = clf_rf_rand.predict(xtest)"
   ]
  },
  {
   "cell_type": "code",
   "execution_count": 76,
   "metadata": {},
   "outputs": [],
   "source": [
    "prb_rf_rand = clf_rf_rand.predict_proba(xtest)[:, 1]"
   ]
  },
  {
   "cell_type": "markdown",
   "metadata": {},
   "source": [
    "### Task 20: Find the Accuracy of Tuned Random Forest through Randomized Search"
   ]
  },
  {
   "cell_type": "code",
   "execution_count": 77,
   "metadata": {},
   "outputs": [
    {
     "data": {
      "text/plain": [
       "0.832089552238806"
      ]
     },
     "execution_count": 77,
     "metadata": {},
     "output_type": "execute_result"
    }
   ],
   "source": [
    "# write code here\n",
    "accuracy_rf_r = accuracy_score(ytest,pred_rf_rand)\n",
    "accuracy_rf_r"
   ]
  },
  {
   "cell_type": "markdown",
   "metadata": {},
   "source": [
    "### Task 21: Find the Precision of Tuned Random Forest through Randomized Search"
   ]
  },
  {
   "cell_type": "code",
   "execution_count": 78,
   "metadata": {},
   "outputs": [
    {
     "data": {
      "text/plain": [
       "0.7475728155339806"
      ]
     },
     "execution_count": 78,
     "metadata": {},
     "output_type": "execute_result"
    }
   ],
   "source": [
    "# write code here\n",
    "precision_rf_r = precision_score(ytest,pred_rf_rand)\n",
    "precision_rf_r"
   ]
  },
  {
   "cell_type": "markdown",
   "metadata": {},
   "source": [
    "### Task 22: Find the Recall of Tuned Random Forest through Randomized Search"
   ]
  },
  {
   "cell_type": "code",
   "execution_count": 79,
   "metadata": {},
   "outputs": [
    {
     "data": {
      "text/plain": [
       "0.8020833333333334"
      ]
     },
     "execution_count": 79,
     "metadata": {},
     "output_type": "execute_result"
    }
   ],
   "source": [
    "# write code here\n",
    "recall_rf_r = recall_score(ytest,pred_rf_rand)\n",
    "recall_rf_r"
   ]
  },
  {
   "cell_type": "markdown",
   "metadata": {},
   "source": [
    "### Task 23: Find the F1-Score of Tuned Random Forest through Randomized Search"
   ]
  },
  {
   "cell_type": "code",
   "execution_count": 80,
   "metadata": {},
   "outputs": [
    {
     "data": {
      "text/plain": [
       "0.7738693467336684"
      ]
     },
     "execution_count": 80,
     "metadata": {},
     "output_type": "execute_result"
    }
   ],
   "source": [
    "# write code here\n",
    "f1_rf_r = f1_score(ytest,pred_rf_rand)\n",
    "f1_rf_r"
   ]
  },
  {
   "cell_type": "markdown",
   "metadata": {},
   "source": [
    "### Task 24: Print the Classification Report of Tuned Random Forest through Randomized Search"
   ]
  },
  {
   "cell_type": "code",
   "execution_count": 81,
   "metadata": {},
   "outputs": [
    {
     "name": "stdout",
     "output_type": "stream",
     "text": [
      "              precision    recall  f1-score   support\n",
      "\n",
      "           0       0.88      0.85      0.87       172\n",
      "           1       0.75      0.80      0.77        96\n",
      "\n",
      "    accuracy                           0.83       268\n",
      "   macro avg       0.82      0.83      0.82       268\n",
      "weighted avg       0.84      0.83      0.83       268\n",
      "\n"
     ]
    }
   ],
   "source": [
    "# write code here\n",
    "print(classification_report(ytest,pred_rf_rand))"
   ]
  },
  {
   "cell_type": "markdown",
   "metadata": {},
   "source": [
    "### ROC Curve"
   ]
  },
  {
   "cell_type": "code",
   "execution_count": 82,
   "metadata": {},
   "outputs": [
    {
     "data": {
      "image/png": "[encoded data removed]",
      "text/plain": [
       "<Figure size 576x432 with 1 Axes>"
      ]
     },
     "metadata": {
      "needs_background": "light"
     },
     "output_type": "display_data"
    }
   ],
   "source": [
    "auc_rf_r = roc_auc_score(ytest, prb_rf_rand)\n",
    "fpr, tpr, threshold = roc_curve(ytest, prb_rf_rand)\n",
    "plot_roc_curve(fpr, tpr, label='AUC Tuned Random = %0.3f' % auc_rf_r)"
   ]
  },
  {
   "cell_type": "markdown",
   "metadata": {},
   "source": [
    "# Ada Boost"
   ]
  },
  {
   "cell_type": "code",
   "execution_count": null,
   "metadata": {},
   "outputs": [],
   "source": [
    "from sklearn.ensemble import AdaBoostClassifier"
   ]
  },
  {
   "cell_type": "code",
   "execution_count": null,
   "metadata": {},
   "outputs": [],
   "source": [
    "clf_adb = AdaBoostClassifier(random_state=100)\n",
    "clf_adb.fit(xtrain, ytrain)"
   ]
  },
  {
   "cell_type": "code",
   "execution_count": null,
   "metadata": {},
   "outputs": [],
   "source": [
    "pred_clf_adb = clf_adb.predict(xtest)"
   ]
  },
  {
   "cell_type": "code",
   "execution_count": null,
   "metadata": {},
   "outputs": [],
   "source": [
    "adb_pred_prb = clf_adb.predict_proba(xtest)[:, 1]"
   ]
  },
  {
   "cell_type": "markdown",
   "metadata": {},
   "source": [
    "### Task 25: Find Accuracy for Ada Boost"
   ]
  },
  {
   "cell_type": "code",
   "execution_count": null,
   "metadata": {},
   "outputs": [],
   "source": [
    "# write code here\n",
    "accuracy_adb = None\n",
    "accuracy_adb"
   ]
  },
  {
   "cell_type": "markdown",
   "metadata": {},
   "source": [
    "### Task 26: Find Precision for Ada Boost"
   ]
  },
  {
   "cell_type": "code",
   "execution_count": null,
   "metadata": {},
   "outputs": [],
   "source": [
    "# write code here\n",
    "precision_adb = None\n",
    "precision_adb"
   ]
  },
  {
   "cell_type": "markdown",
   "metadata": {},
   "source": [
    "### Task 27: Find Recall for Ada Boost"
   ]
  },
  {
   "cell_type": "code",
   "execution_count": null,
   "metadata": {},
   "outputs": [],
   "source": [
    "# write code here\n",
    "recall_adb = None\n",
    "recall_adb"
   ]
  },
  {
   "cell_type": "markdown",
   "metadata": {},
   "source": [
    "### Task 28: Find F1 Score for Ada Boost"
   ]
  },
  {
   "cell_type": "code",
   "execution_count": null,
   "metadata": {},
   "outputs": [],
   "source": [
    "# write code here\n",
    "f1_adb = None\n",
    "f1_adb"
   ]
  },
  {
   "cell_type": "markdown",
   "metadata": {},
   "source": [
    "### Task 29: Print Classification Report for Ada Boost"
   ]
  },
  {
   "cell_type": "code",
   "execution_count": null,
   "metadata": {},
   "outputs": [],
   "source": [
    "# write code here"
   ]
  },
  {
   "cell_type": "markdown",
   "metadata": {},
   "source": [
    "### ROC Curve"
   ]
  },
  {
   "cell_type": "code",
   "execution_count": null,
   "metadata": {},
   "outputs": [],
   "source": [
    "auc_adb = roc_auc_score(ytest, adb_pred_prb)\n",
    "fpr, tpr, threshold = roc_curve(ytest, adb_pred_prb)\n",
    "plot_roc_curve(fpr, tpr, label='AUC = %0.3f' % auc_adb)"
   ]
  },
  {
   "cell_type": "markdown",
   "metadata": {},
   "source": [
    "# Comparison"
   ]
  },
  {
   "cell_type": "code",
   "execution_count": null,
   "metadata": {},
   "outputs": [],
   "source": [
    "comparison_dict = {\"Algorithm\": [\"Decision Tree\", \"Random Forest\", \"Tuned Random Forest(Grid)\", \"Tuned Random Forest(Random)\", \"Ada Boost\"],\n",
    "                   \"Accuracy\": [accuracy_dt, accuracy_rf, accuracy_rf_t, accuracy_rf_r, accuracy_adb],\n",
    "                   \"Precision\": [precision_dt, precision_rf, precision_rf_t, precision_rf_r, precision_adb],\n",
    "                   \"Recall\": [recall_dt, recall_rf, recall_rf_t, recall_rf_r, recall_adb],\n",
    "                   \"AUC\": [auc_dt, auc_rf, auc_rf_t, auc_rf_r, auc_adb],\n",
    "                   \"F1 Score\": [dt_f1, rf_f1, rf_t_f1, f1_rf_r, f1_adb]\n",
    "                   }"
   ]
  },
  {
   "cell_type": "code",
   "execution_count": null,
   "metadata": {},
   "outputs": [],
   "source": [
    "comparison = pd.DataFrame(comparison_dict)\n",
    "comparison.sort_values(['Recall', 'Accuracy', 'AUC'], ascending=False)"
   ]
  },
  {
   "cell_type": "markdown",
   "metadata": {},
   "source": [
    "# Submission on Kaggle"
   ]
  },
  {
   "cell_type": "markdown",
   "metadata": {},
   "source": [
    "### Task 30: Import test data"
   ]
  },
  {
   "cell_type": "code",
   "execution_count": null,
   "metadata": {},
   "outputs": [],
   "source": [
    "# Write code here\n",
    "test = None\n",
    "df_test = None\n",
    "df_test.head()"
   ]
  },
  {
   "cell_type": "markdown",
   "metadata": {},
   "source": [
    "### Task 31: Do One Hot encoding of test data"
   ]
  },
  {
   "cell_type": "code",
   "execution_count": null,
   "metadata": {},
   "outputs": [],
   "source": [
    "# write code here\n",
    "df_OneHot = None\n",
    "df_OneHot.head()\n",
    "df_test = None"
   ]
  },
  {
   "cell_type": "markdown",
   "metadata": {},
   "source": [
    "### Task 32: Separate Passenger ID for submission"
   ]
  },
  {
   "cell_type": "code",
   "execution_count": null,
   "metadata": {},
   "outputs": [],
   "source": [
    "# Write code here"
   ]
  },
  {
   "cell_type": "markdown",
   "metadata": {},
   "source": [
    "### Task 33: Do prediction through final model"
   ]
  },
  {
   "cell_type": "code",
   "execution_count": null,
   "metadata": {},
   "outputs": [],
   "source": [
    "# write code here\n",
    "pred_final = None"
   ]
  },
  {
   "cell_type": "markdown",
   "metadata": {},
   "source": [
    "#### Creating Data Frame for submission"
   ]
  },
  {
   "cell_type": "code",
   "execution_count": null,
   "metadata": {},
   "outputs": [],
   "source": [
    "submission = pd.DataFrame({'PassengerId': PassengerID, 'Survived': pred_final})"
   ]
  },
  {
   "cell_type": "code",
   "execution_count": null,
   "metadata": {},
   "outputs": [],
   "source": [
    "submission.head()"
   ]
  },
  {
   "cell_type": "markdown",
   "metadata": {},
   "source": [
    "### Task 34: Export the dataset into csv file"
   ]
  },
  {
   "cell_type": "code",
   "execution_count": null,
   "metadata": {},
   "outputs": [],
   "source": [
    "# Write code here\n",
    "submission.to_csv('my_submission v2.0.csv', index=False)"
   ]
  }
 ],
 "metadata": {
  "kernelspec": {
   "display_name": "Python 3",
   "language": "python",
   "name": "python3"
  },
  "language_info": {
   "codemirror_mode": {
    "name": "ipython",
    "version": 3
   },
   "file_extension": ".py",
   "mimetype": "text/x-python",
   "name": "python",
   "nbconvert_exporter": "python",
   "pygments_lexer": "ipython3",
   "version": "3.7.4"
  },
  "toc": {
   "base_numbering": 1,
   "nav_menu": {},
   "number_sections": false,
   "sideBar": true,
   "skip_h1_title": false,
   "title_cell": "Table of Contents",
   "title_sidebar": "Contents",
   "toc_cell": false,
   "toc_position": {},
   "toc_section_display": true,
   "toc_window_display": false
  },
  "varInspector": {
   "cols": {
    "lenName": 16,
    "lenType": 16,
    "lenVar": 40
   },
   "kernels_config": {
    "python": {
     "delete_cmd_postfix": "",
     "delete_cmd_prefix": "del ",
     "library": "var_list.py",
     "varRefreshCmd": "print(var_dic_list())"
    },
    "r": {
     "delete_cmd_postfix": ") ",
     "delete_cmd_prefix": "rm(",
     "library": "var_list.r",
     "varRefreshCmd": "cat(var_dic_list()) "
    }
   },
   "types_to_exclude": [
    "module",
    "function",
    "builtin_function_or_method",
    "instance",
    "_Feature"
   ],
   "window_display": false
  }
 },
 "nbformat": 4,
 "nbformat_minor": 2
}
