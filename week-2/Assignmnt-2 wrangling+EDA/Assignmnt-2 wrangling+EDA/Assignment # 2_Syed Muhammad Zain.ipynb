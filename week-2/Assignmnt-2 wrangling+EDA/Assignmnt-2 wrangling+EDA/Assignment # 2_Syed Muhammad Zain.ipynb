{
 "cells": [
  {
   "cell_type": "markdown",
   "metadata": {},
   "source": [
    "<center> <h2> Assignment # 2 Syed Muhammad Zain </h2> </center>  \n",
    "<center> <h3> Perform the basic wrangling on the data <h3> </center> "
   ]
  },
  {
   "cell_type": "markdown",
   "metadata": {},
   "source": [
    "### Task 1: Importing Files and Libraries\n",
    "**i. Import Required libraries and Data File**"
   ]
  },
  {
   "cell_type": "code",
   "execution_count": 1,
   "metadata": {},
   "outputs": [],
   "source": [
    "#write code here\n",
    "import pandas as pd\n",
    "import matplotlib.pyplot as plt\n",
    "import seaborn as sns\n",
    "import numpy as np\n",
    "sns.set()\n",
    "%matplotlib inline"
   ]
  },
  {
   "cell_type": "markdown",
   "metadata": {},
   "source": [
    "**ii. Read Fifa.csv file**"
   ]
  },
  {
   "cell_type": "code",
   "execution_count": 2,
   "metadata": {},
   "outputs": [],
   "source": [
    "#write code here\n",
    "fifa_data=pd.read_csv(\"fifa.csv\")"
   ]
  },
  {
   "cell_type": "markdown",
   "metadata": {},
   "source": [
    "**iii. Copy dataframe in df**"
   ]
  },
  {
   "cell_type": "code",
   "execution_count": 3,
   "metadata": {},
   "outputs": [],
   "source": [
    "#write code here\n",
    "df=fifa_data.copy()"
   ]
  },
  {
   "cell_type": "markdown",
   "metadata": {},
   "source": [
    "### Task 2: Some Basic Operations on Data Frame </h3>"
   ]
  },
  {
   "cell_type": "markdown",
   "metadata": {},
   "source": [
    "**i. Display the first five rows of the dataframe**"
   ]
  },
  {
   "cell_type": "code",
   "execution_count": 4,
   "metadata": {},
   "outputs": [
    {
     "data": {
      "text/html": [
       "<div>\n",
       "<style scoped>\n",
       "    .dataframe tbody tr th:only-of-type {\n",
       "        vertical-align: middle;\n",
       "    }\n",
       "\n",
       "    .dataframe tbody tr th {\n",
       "        vertical-align: top;\n",
       "    }\n",
       "\n",
       "    .dataframe thead th {\n",
       "        text-align: right;\n",
       "    }\n",
       "</style>\n",
       "<table border=\"1\" class=\"dataframe\">\n",
       "  <thead>\n",
       "    <tr style=\"text-align: right;\">\n",
       "      <th></th>\n",
       "      <th>id</th>\n",
       "      <th>name</th>\n",
       "      <th>rating</th>\n",
       "      <th>position</th>\n",
       "      <th>height</th>\n",
       "      <th>foot</th>\n",
       "      <th>rare</th>\n",
       "      <th>pace</th>\n",
       "      <th>shooting</th>\n",
       "      <th>passing</th>\n",
       "      <th>dribbling</th>\n",
       "      <th>defending</th>\n",
       "      <th>heading</th>\n",
       "      <th>diving</th>\n",
       "      <th>handling</th>\n",
       "      <th>kicking</th>\n",
       "      <th>reflexes</th>\n",
       "      <th>speed</th>\n",
       "      <th>positioning</th>\n",
       "    </tr>\n",
       "  </thead>\n",
       "  <tbody>\n",
       "    <tr>\n",
       "      <td>0</td>\n",
       "      <td>1001</td>\n",
       "      <td>Gábor Király</td>\n",
       "      <td>69</td>\n",
       "      <td>GK</td>\n",
       "      <td>191</td>\n",
       "      <td>Right</td>\n",
       "      <td>0</td>\n",
       "      <td></td>\n",
       "      <td></td>\n",
       "      <td></td>\n",
       "      <td></td>\n",
       "      <td></td>\n",
       "      <td></td>\n",
       "      <td>70</td>\n",
       "      <td>66</td>\n",
       "      <td>63</td>\n",
       "      <td>74</td>\n",
       "      <td>35</td>\n",
       "      <td>66.0</td>\n",
       "    </tr>\n",
       "    <tr>\n",
       "      <td>1</td>\n",
       "      <td>100143</td>\n",
       "      <td>Frederik Boi</td>\n",
       "      <td>65</td>\n",
       "      <td>M</td>\n",
       "      <td>184</td>\n",
       "      <td>Right</td>\n",
       "      <td>0</td>\n",
       "      <td>61</td>\n",
       "      <td>65</td>\n",
       "      <td>63</td>\n",
       "      <td>59</td>\n",
       "      <td>62</td>\n",
       "      <td>62</td>\n",
       "      <td></td>\n",
       "      <td></td>\n",
       "      <td></td>\n",
       "      <td></td>\n",
       "      <td></td>\n",
       "      <td>NaN</td>\n",
       "    </tr>\n",
       "    <tr>\n",
       "      <td>2</td>\n",
       "      <td>100264</td>\n",
       "      <td>Tomasz Szewczuk</td>\n",
       "      <td>57</td>\n",
       "      <td>A</td>\n",
       "      <td>185</td>\n",
       "      <td>Right</td>\n",
       "      <td>0</td>\n",
       "      <td>65</td>\n",
       "      <td>54</td>\n",
       "      <td>43</td>\n",
       "      <td>53</td>\n",
       "      <td>55</td>\n",
       "      <td>74</td>\n",
       "      <td></td>\n",
       "      <td></td>\n",
       "      <td></td>\n",
       "      <td></td>\n",
       "      <td></td>\n",
       "      <td>NaN</td>\n",
       "    </tr>\n",
       "    <tr>\n",
       "      <td>3</td>\n",
       "      <td>100325</td>\n",
       "      <td>Steeve Joseph-Reinette</td>\n",
       "      <td>63</td>\n",
       "      <td>D</td>\n",
       "      <td>180</td>\n",
       "      <td>Left</td>\n",
       "      <td>0</td>\n",
       "      <td>68</td>\n",
       "      <td>38</td>\n",
       "      <td>51</td>\n",
       "      <td>46</td>\n",
       "      <td>64</td>\n",
       "      <td>71</td>\n",
       "      <td></td>\n",
       "      <td></td>\n",
       "      <td></td>\n",
       "      <td></td>\n",
       "      <td></td>\n",
       "      <td>NaN</td>\n",
       "    </tr>\n",
       "    <tr>\n",
       "      <td>4</td>\n",
       "      <td>100326</td>\n",
       "      <td>Kamel Chafni</td>\n",
       "      <td>72</td>\n",
       "      <td>M</td>\n",
       "      <td>181</td>\n",
       "      <td>Right</td>\n",
       "      <td>0</td>\n",
       "      <td>75</td>\n",
       "      <td>64</td>\n",
       "      <td>67</td>\n",
       "      <td>72</td>\n",
       "      <td>57</td>\n",
       "      <td>66</td>\n",
       "      <td></td>\n",
       "      <td></td>\n",
       "      <td></td>\n",
       "      <td></td>\n",
       "      <td></td>\n",
       "      <td>NaN</td>\n",
       "    </tr>\n",
       "  </tbody>\n",
       "</table>\n",
       "</div>"
      ],
      "text/plain": [
       "       id                     name   rating  position   height    foot   rare  \\\n",
       "0    1001             Gábor Király       69        GK      191   Right      0   \n",
       "1  100143             Frederik Boi       65         M      184   Right      0   \n",
       "2  100264          Tomasz Szewczuk       57         A      185   Right      0   \n",
       "3  100325   Steeve Joseph-Reinette       63         D      180    Left      0   \n",
       "4  100326             Kamel Chafni       72         M      181   Right      0   \n",
       "\n",
       "   pace  shooting  passing  dribbling  defending  heading  diving  handling  \\\n",
       "0                                                              70        66   \n",
       "1    61        65       63         59         62       62                     \n",
       "2    65        54       43         53         55       74                     \n",
       "3    68        38       51         46         64       71                     \n",
       "4    75        64       67         72         57       66                     \n",
       "\n",
       "   kicking  reflexes  speed   positioning  \n",
       "0       63        74     35          66.0  \n",
       "1                                     NaN  \n",
       "2                                     NaN  \n",
       "3                                     NaN  \n",
       "4                                     NaN  "
      ]
     },
     "execution_count": 4,
     "metadata": {},
     "output_type": "execute_result"
    }
   ],
   "source": [
    "#Write Your Code Here\n",
    "df.head()"
   ]
  },
  {
   "cell_type": "markdown",
   "metadata": {},
   "source": [
    "**ii. Display columns names of the dataframe**"
   ]
  },
  {
   "cell_type": "code",
   "execution_count": 5,
   "metadata": {},
   "outputs": [
    {
     "data": {
      "text/plain": [
       "Index(['id', ' name', ' rating', ' position', ' height', ' foot', ' rare',\n",
       "       ' pace', ' shooting', ' passing', ' dribbling', ' defending',\n",
       "       ' heading', ' diving', ' handling', ' kicking', ' reflexes', ' speed',\n",
       "       ' positioning'],\n",
       "      dtype='object')"
      ]
     },
     "execution_count": 5,
     "metadata": {},
     "output_type": "execute_result"
    }
   ],
   "source": [
    "#Write Your Code Here\n",
    "df.columns"
   ]
  },
  {
   "cell_type": "markdown",
   "metadata": {},
   "source": [
    "**iii. Remove extra space in column names**"
   ]
  },
  {
   "cell_type": "code",
   "execution_count": 6,
   "metadata": {},
   "outputs": [],
   "source": [
    "#Write Your Code Here\n",
    "df.columns=df.columns.str.replace(\" \",\"\")"
   ]
  },
  {
   "cell_type": "markdown",
   "metadata": {},
   "source": [
    "**iv. Check data type of columns**"
   ]
  },
  {
   "cell_type": "code",
   "execution_count": 7,
   "metadata": {},
   "outputs": [
    {
     "data": {
      "text/plain": [
       "id               int64\n",
       "name            object\n",
       "rating           int64\n",
       "position        object\n",
       "height           int64\n",
       "foot            object\n",
       "rare             int64\n",
       "pace            object\n",
       "shooting        object\n",
       "passing         object\n",
       "dribbling       object\n",
       "defending       object\n",
       "heading         object\n",
       "diving          object\n",
       "handling        object\n",
       "kicking         object\n",
       "reflexes        object\n",
       "speed           object\n",
       "positioning    float64\n",
       "dtype: object"
      ]
     },
     "execution_count": 7,
     "metadata": {},
     "output_type": "execute_result"
    }
   ],
   "source": [
    "#Write Your Code Here\n",
    "df.dtypes"
   ]
  },
  {
   "cell_type": "markdown",
   "metadata": {},
   "source": [
    "**v. Get the Last five rows of dataframe**"
   ]
  },
  {
   "cell_type": "code",
   "execution_count": 8,
   "metadata": {},
   "outputs": [
    {
     "data": {
      "text/html": [
       "<div>\n",
       "<style scoped>\n",
       "    .dataframe tbody tr th:only-of-type {\n",
       "        vertical-align: middle;\n",
       "    }\n",
       "\n",
       "    .dataframe tbody tr th {\n",
       "        vertical-align: top;\n",
       "    }\n",
       "\n",
       "    .dataframe thead th {\n",
       "        text-align: right;\n",
       "    }\n",
       "</style>\n",
       "<table border=\"1\" class=\"dataframe\">\n",
       "  <thead>\n",
       "    <tr style=\"text-align: right;\">\n",
       "      <th></th>\n",
       "      <th>id</th>\n",
       "      <th>name</th>\n",
       "      <th>rating</th>\n",
       "      <th>position</th>\n",
       "      <th>height</th>\n",
       "      <th>foot</th>\n",
       "      <th>rare</th>\n",
       "      <th>pace</th>\n",
       "      <th>shooting</th>\n",
       "      <th>passing</th>\n",
       "      <th>dribbling</th>\n",
       "      <th>defending</th>\n",
       "      <th>heading</th>\n",
       "      <th>diving</th>\n",
       "      <th>handling</th>\n",
       "      <th>kicking</th>\n",
       "      <th>reflexes</th>\n",
       "      <th>speed</th>\n",
       "      <th>positioning</th>\n",
       "    </tr>\n",
       "  </thead>\n",
       "  <tbody>\n",
       "    <tr>\n",
       "      <td>8842</td>\n",
       "      <td>9801</td>\n",
       "      <td>Danijel Ljuboja</td>\n",
       "      <td>73</td>\n",
       "      <td>A</td>\n",
       "      <td>189</td>\n",
       "      <td>Left</td>\n",
       "      <td>1</td>\n",
       "      <td>62</td>\n",
       "      <td>73</td>\n",
       "      <td>64</td>\n",
       "      <td>74</td>\n",
       "      <td>56</td>\n",
       "      <td>68</td>\n",
       "      <td></td>\n",
       "      <td></td>\n",
       "      <td></td>\n",
       "      <td></td>\n",
       "      <td></td>\n",
       "      <td>NaN</td>\n",
       "    </tr>\n",
       "    <tr>\n",
       "      <td>8843</td>\n",
       "      <td>9805</td>\n",
       "      <td>Craig Bellamy</td>\n",
       "      <td>79</td>\n",
       "      <td>A</td>\n",
       "      <td>175</td>\n",
       "      <td>Right</td>\n",
       "      <td>0</td>\n",
       "      <td>80</td>\n",
       "      <td>78</td>\n",
       "      <td>67</td>\n",
       "      <td>81</td>\n",
       "      <td>62</td>\n",
       "      <td>71</td>\n",
       "      <td></td>\n",
       "      <td></td>\n",
       "      <td></td>\n",
       "      <td></td>\n",
       "      <td></td>\n",
       "      <td>NaN</td>\n",
       "    </tr>\n",
       "    <tr>\n",
       "      <td>8844</td>\n",
       "      <td>9807</td>\n",
       "      <td>Michel Breuer</td>\n",
       "      <td>68</td>\n",
       "      <td>D</td>\n",
       "      <td>183</td>\n",
       "      <td>Right</td>\n",
       "      <td>0</td>\n",
       "      <td>61</td>\n",
       "      <td>40</td>\n",
       "      <td>56</td>\n",
       "      <td>51</td>\n",
       "      <td>70</td>\n",
       "      <td>74</td>\n",
       "      <td></td>\n",
       "      <td></td>\n",
       "      <td></td>\n",
       "      <td></td>\n",
       "      <td></td>\n",
       "      <td>NaN</td>\n",
       "    </tr>\n",
       "    <tr>\n",
       "      <td>8845</td>\n",
       "      <td>9815</td>\n",
       "      <td>Gill Swerts</td>\n",
       "      <td>65</td>\n",
       "      <td>D</td>\n",
       "      <td>179</td>\n",
       "      <td>Right</td>\n",
       "      <td>0</td>\n",
       "      <td>65</td>\n",
       "      <td>48</td>\n",
       "      <td>63</td>\n",
       "      <td>65</td>\n",
       "      <td>67</td>\n",
       "      <td>69</td>\n",
       "      <td></td>\n",
       "      <td></td>\n",
       "      <td></td>\n",
       "      <td></td>\n",
       "      <td></td>\n",
       "      <td>NaN</td>\n",
       "    </tr>\n",
       "    <tr>\n",
       "      <td>8846</td>\n",
       "      <td>9913</td>\n",
       "      <td>Mehdi Nafti</td>\n",
       "      <td>69</td>\n",
       "      <td>M</td>\n",
       "      <td>179</td>\n",
       "      <td>Right</td>\n",
       "      <td>0</td>\n",
       "      <td>55</td>\n",
       "      <td>56</td>\n",
       "      <td>64</td>\n",
       "      <td>65</td>\n",
       "      <td>69</td>\n",
       "      <td>60</td>\n",
       "      <td></td>\n",
       "      <td></td>\n",
       "      <td></td>\n",
       "      <td></td>\n",
       "      <td></td>\n",
       "      <td>NaN</td>\n",
       "    </tr>\n",
       "  </tbody>\n",
       "</table>\n",
       "</div>"
      ],
      "text/plain": [
       "        id              name  rating position  height    foot  rare pace  \\\n",
       "8842  9801   Danijel Ljuboja      73        A     189    Left     1   62   \n",
       "8843  9805     Craig Bellamy      79        A     175   Right     0   80   \n",
       "8844  9807     Michel Breuer      68        D     183   Right     0   61   \n",
       "8845  9815       Gill Swerts      65        D     179   Right     0   65   \n",
       "8846  9913       Mehdi Nafti      69        M     179   Right     0   55   \n",
       "\n",
       "     shooting passing dribbling defending heading diving handling kicking  \\\n",
       "8842       73      64        74        56      68                           \n",
       "8843       78      67        81        62      71                           \n",
       "8844       40      56        51        70      74                           \n",
       "8845       48      63        65        67      69                           \n",
       "8846       56      64        65        69      60                           \n",
       "\n",
       "     reflexes speed  positioning  \n",
       "8842                         NaN  \n",
       "8843                         NaN  \n",
       "8844                         NaN  \n",
       "8845                         NaN  \n",
       "8846                         NaN  "
      ]
     },
     "execution_count": 8,
     "metadata": {},
     "output_type": "execute_result"
    }
   ],
   "source": [
    "#Write Your Code Here\n",
    "df.tail()"
   ]
  },
  {
   "cell_type": "markdown",
   "metadata": {},
   "source": [
    "### Question: What do you understand by having a look at the top five and last 5 rows of data? "
   ]
  },
  {
   "cell_type": "markdown",
   "metadata": {},
   "source": [
    "**There are some missing values in the data that are clearly visible and we need to clean them**"
   ]
  },
  {
   "cell_type": "markdown",
   "metadata": {},
   "source": [
    "*Hint: Some values are not filled for certain types of positions.* "
   ]
  },
  {
   "cell_type": "markdown",
   "metadata": {},
   "source": [
    "### Answer: "
   ]
  },
  {
   "cell_type": "markdown",
   "metadata": {},
   "source": [
    "**vi. Get the statistical summary for the numerical columns**"
   ]
  },
  {
   "cell_type": "code",
   "execution_count": 9,
   "metadata": {},
   "outputs": [
    {
     "data": {
      "text/html": [
       "<div>\n",
       "<style scoped>\n",
       "    .dataframe tbody tr th:only-of-type {\n",
       "        vertical-align: middle;\n",
       "    }\n",
       "\n",
       "    .dataframe tbody tr th {\n",
       "        vertical-align: top;\n",
       "    }\n",
       "\n",
       "    .dataframe thead th {\n",
       "        text-align: right;\n",
       "    }\n",
       "</style>\n",
       "<table border=\"1\" class=\"dataframe\">\n",
       "  <thead>\n",
       "    <tr style=\"text-align: right;\">\n",
       "      <th></th>\n",
       "      <th>id</th>\n",
       "      <th>rating</th>\n",
       "      <th>height</th>\n",
       "      <th>rare</th>\n",
       "      <th>positioning</th>\n",
       "    </tr>\n",
       "  </thead>\n",
       "  <tbody>\n",
       "    <tr>\n",
       "      <td>count</td>\n",
       "      <td>8847.000000</td>\n",
       "      <td>8847.000000</td>\n",
       "      <td>8847.000000</td>\n",
       "      <td>8847.000000</td>\n",
       "      <td>930.000000</td>\n",
       "    </tr>\n",
       "    <tr>\n",
       "      <td>mean</td>\n",
       "      <td>152337.538035</td>\n",
       "      <td>66.680457</td>\n",
       "      <td>181.750424</td>\n",
       "      <td>0.353114</td>\n",
       "      <td>64.955914</td>\n",
       "    </tr>\n",
       "    <tr>\n",
       "      <td>std</td>\n",
       "      <td>54506.606056</td>\n",
       "      <td>7.146679</td>\n",
       "      <td>6.454356</td>\n",
       "      <td>0.477965</td>\n",
       "      <td>8.854231</td>\n",
       "    </tr>\n",
       "    <tr>\n",
       "      <td>min</td>\n",
       "      <td>2.000000</td>\n",
       "      <td>40.000000</td>\n",
       "      <td>158.000000</td>\n",
       "      <td>0.000000</td>\n",
       "      <td>37.000000</td>\n",
       "    </tr>\n",
       "    <tr>\n",
       "      <td>25%</td>\n",
       "      <td>140001.500000</td>\n",
       "      <td>62.000000</td>\n",
       "      <td>178.000000</td>\n",
       "      <td>0.000000</td>\n",
       "      <td>59.000000</td>\n",
       "    </tr>\n",
       "    <tr>\n",
       "      <td>50%</td>\n",
       "      <td>171578.000000</td>\n",
       "      <td>66.000000</td>\n",
       "      <td>182.000000</td>\n",
       "      <td>0.000000</td>\n",
       "      <td>65.000000</td>\n",
       "    </tr>\n",
       "    <tr>\n",
       "      <td>75%</td>\n",
       "      <td>189185.000000</td>\n",
       "      <td>72.000000</td>\n",
       "      <td>186.000000</td>\n",
       "      <td>1.000000</td>\n",
       "      <td>71.000000</td>\n",
       "    </tr>\n",
       "    <tr>\n",
       "      <td>max</td>\n",
       "      <td>205583.000000</td>\n",
       "      <td>94.000000</td>\n",
       "      <td>208.000000</td>\n",
       "      <td>1.000000</td>\n",
       "      <td>91.000000</td>\n",
       "    </tr>\n",
       "  </tbody>\n",
       "</table>\n",
       "</div>"
      ],
      "text/plain": [
       "                  id       rating       height         rare  positioning\n",
       "count    8847.000000  8847.000000  8847.000000  8847.000000   930.000000\n",
       "mean   152337.538035    66.680457   181.750424     0.353114    64.955914\n",
       "std     54506.606056     7.146679     6.454356     0.477965     8.854231\n",
       "min         2.000000    40.000000   158.000000     0.000000    37.000000\n",
       "25%    140001.500000    62.000000   178.000000     0.000000    59.000000\n",
       "50%    171578.000000    66.000000   182.000000     0.000000    65.000000\n",
       "75%    189185.000000    72.000000   186.000000     1.000000    71.000000\n",
       "max    205583.000000    94.000000   208.000000     1.000000    91.000000"
      ]
     },
     "execution_count": 9,
     "metadata": {},
     "output_type": "execute_result"
    }
   ],
   "source": [
    "#Write Your Code Here\n",
    "df.describe()"
   ]
  },
  {
   "cell_type": "markdown",
   "metadata": {},
   "source": [
    "**vii. Show the statistical summary of object type columns in dataframe**"
   ]
  },
  {
   "cell_type": "code",
   "execution_count": 10,
   "metadata": {},
   "outputs": [
    {
     "data": {
      "text/html": [
       "<div>\n",
       "<style scoped>\n",
       "    .dataframe tbody tr th:only-of-type {\n",
       "        vertical-align: middle;\n",
       "    }\n",
       "\n",
       "    .dataframe tbody tr th {\n",
       "        vertical-align: top;\n",
       "    }\n",
       "\n",
       "    .dataframe thead th {\n",
       "        text-align: right;\n",
       "    }\n",
       "</style>\n",
       "<table border=\"1\" class=\"dataframe\">\n",
       "  <thead>\n",
       "    <tr style=\"text-align: right;\">\n",
       "      <th></th>\n",
       "      <th>name</th>\n",
       "      <th>position</th>\n",
       "      <th>foot</th>\n",
       "      <th>pace</th>\n",
       "      <th>shooting</th>\n",
       "      <th>passing</th>\n",
       "      <th>dribbling</th>\n",
       "      <th>defending</th>\n",
       "      <th>heading</th>\n",
       "      <th>diving</th>\n",
       "      <th>handling</th>\n",
       "      <th>kicking</th>\n",
       "      <th>reflexes</th>\n",
       "      <th>speed</th>\n",
       "    </tr>\n",
       "  </thead>\n",
       "  <tbody>\n",
       "    <tr>\n",
       "      <td>count</td>\n",
       "      <td>8847</td>\n",
       "      <td>8847</td>\n",
       "      <td>8847</td>\n",
       "      <td>8847</td>\n",
       "      <td>8847</td>\n",
       "      <td>8847</td>\n",
       "      <td>8847</td>\n",
       "      <td>8847</td>\n",
       "      <td>8847</td>\n",
       "      <td>8847</td>\n",
       "      <td>8847</td>\n",
       "      <td>8847</td>\n",
       "      <td>8847</td>\n",
       "      <td>8847</td>\n",
       "    </tr>\n",
       "    <tr>\n",
       "      <td>unique</td>\n",
       "      <td>8678</td>\n",
       "      <td>4</td>\n",
       "      <td>2</td>\n",
       "      <td>73</td>\n",
       "      <td>80</td>\n",
       "      <td>76</td>\n",
       "      <td>76</td>\n",
       "      <td>64</td>\n",
       "      <td>67</td>\n",
       "      <td>49</td>\n",
       "      <td>45</td>\n",
       "      <td>53</td>\n",
       "      <td>53</td>\n",
       "      <td>54</td>\n",
       "    </tr>\n",
       "    <tr>\n",
       "      <td>top</td>\n",
       "      <td>Felipe</td>\n",
       "      <td>M</td>\n",
       "      <td>Right</td>\n",
       "      <td></td>\n",
       "      <td></td>\n",
       "      <td></td>\n",
       "      <td></td>\n",
       "      <td></td>\n",
       "      <td></td>\n",
       "      <td></td>\n",
       "      <td></td>\n",
       "      <td></td>\n",
       "      <td></td>\n",
       "      <td></td>\n",
       "    </tr>\n",
       "    <tr>\n",
       "      <td>freq</td>\n",
       "      <td>5</td>\n",
       "      <td>3041</td>\n",
       "      <td>6762</td>\n",
       "      <td>930</td>\n",
       "      <td>930</td>\n",
       "      <td>930</td>\n",
       "      <td>930</td>\n",
       "      <td>930</td>\n",
       "      <td>930</td>\n",
       "      <td>7917</td>\n",
       "      <td>7917</td>\n",
       "      <td>7917</td>\n",
       "      <td>7917</td>\n",
       "      <td>7917</td>\n",
       "    </tr>\n",
       "  </tbody>\n",
       "</table>\n",
       "</div>"
      ],
      "text/plain": [
       "           name position    foot  pace shooting passing dribbling defending  \\\n",
       "count      8847     8847    8847  8847     8847    8847      8847      8847   \n",
       "unique     8678        4       2    73       80      76        76        64   \n",
       "top      Felipe        M   Right                                              \n",
       "freq          5     3041    6762   930      930     930       930       930   \n",
       "\n",
       "       heading diving handling kicking reflexes speed  \n",
       "count     8847   8847     8847    8847     8847  8847  \n",
       "unique      67     49       45      53       53    54  \n",
       "top                                                    \n",
       "freq       930   7917     7917    7917     7917  7917  "
      ]
     },
     "execution_count": 10,
     "metadata": {},
     "output_type": "execute_result"
    }
   ],
   "source": [
    "#Write Your Code Here\n",
    "df.describe(include=\"O\")"
   ]
  },
  {
   "cell_type": "markdown",
   "metadata": {},
   "source": [
    "**viii. Show the statistical summary of all the columns in dataframe**"
   ]
  },
  {
   "cell_type": "code",
   "execution_count": 11,
   "metadata": {
    "scrolled": true
   },
   "outputs": [
    {
     "data": {
      "text/html": [
       "<div>\n",
       "<style scoped>\n",
       "    .dataframe tbody tr th:only-of-type {\n",
       "        vertical-align: middle;\n",
       "    }\n",
       "\n",
       "    .dataframe tbody tr th {\n",
       "        vertical-align: top;\n",
       "    }\n",
       "\n",
       "    .dataframe thead th {\n",
       "        text-align: right;\n",
       "    }\n",
       "</style>\n",
       "<table border=\"1\" class=\"dataframe\">\n",
       "  <thead>\n",
       "    <tr style=\"text-align: right;\">\n",
       "      <th></th>\n",
       "      <th>id</th>\n",
       "      <th>name</th>\n",
       "      <th>rating</th>\n",
       "      <th>position</th>\n",
       "      <th>height</th>\n",
       "      <th>foot</th>\n",
       "      <th>rare</th>\n",
       "      <th>pace</th>\n",
       "      <th>shooting</th>\n",
       "      <th>passing</th>\n",
       "      <th>dribbling</th>\n",
       "      <th>defending</th>\n",
       "      <th>heading</th>\n",
       "      <th>diving</th>\n",
       "      <th>handling</th>\n",
       "      <th>kicking</th>\n",
       "      <th>reflexes</th>\n",
       "      <th>speed</th>\n",
       "      <th>positioning</th>\n",
       "    </tr>\n",
       "  </thead>\n",
       "  <tbody>\n",
       "    <tr>\n",
       "      <td>count</td>\n",
       "      <td>8847.000000</td>\n",
       "      <td>8847</td>\n",
       "      <td>8847.000000</td>\n",
       "      <td>8847</td>\n",
       "      <td>8847.000000</td>\n",
       "      <td>8847</td>\n",
       "      <td>8847.000000</td>\n",
       "      <td>8847</td>\n",
       "      <td>8847</td>\n",
       "      <td>8847</td>\n",
       "      <td>8847</td>\n",
       "      <td>8847</td>\n",
       "      <td>8847</td>\n",
       "      <td>8847</td>\n",
       "      <td>8847</td>\n",
       "      <td>8847</td>\n",
       "      <td>8847</td>\n",
       "      <td>8847</td>\n",
       "      <td>930.000000</td>\n",
       "    </tr>\n",
       "    <tr>\n",
       "      <td>unique</td>\n",
       "      <td>NaN</td>\n",
       "      <td>8678</td>\n",
       "      <td>NaN</td>\n",
       "      <td>4</td>\n",
       "      <td>NaN</td>\n",
       "      <td>2</td>\n",
       "      <td>NaN</td>\n",
       "      <td>73</td>\n",
       "      <td>80</td>\n",
       "      <td>76</td>\n",
       "      <td>76</td>\n",
       "      <td>64</td>\n",
       "      <td>67</td>\n",
       "      <td>49</td>\n",
       "      <td>45</td>\n",
       "      <td>53</td>\n",
       "      <td>53</td>\n",
       "      <td>54</td>\n",
       "      <td>NaN</td>\n",
       "    </tr>\n",
       "    <tr>\n",
       "      <td>top</td>\n",
       "      <td>NaN</td>\n",
       "      <td>Felipe</td>\n",
       "      <td>NaN</td>\n",
       "      <td>M</td>\n",
       "      <td>NaN</td>\n",
       "      <td>Right</td>\n",
       "      <td>NaN</td>\n",
       "      <td></td>\n",
       "      <td></td>\n",
       "      <td></td>\n",
       "      <td></td>\n",
       "      <td></td>\n",
       "      <td></td>\n",
       "      <td></td>\n",
       "      <td></td>\n",
       "      <td></td>\n",
       "      <td></td>\n",
       "      <td></td>\n",
       "      <td>NaN</td>\n",
       "    </tr>\n",
       "    <tr>\n",
       "      <td>freq</td>\n",
       "      <td>NaN</td>\n",
       "      <td>5</td>\n",
       "      <td>NaN</td>\n",
       "      <td>3041</td>\n",
       "      <td>NaN</td>\n",
       "      <td>6762</td>\n",
       "      <td>NaN</td>\n",
       "      <td>930</td>\n",
       "      <td>930</td>\n",
       "      <td>930</td>\n",
       "      <td>930</td>\n",
       "      <td>930</td>\n",
       "      <td>930</td>\n",
       "      <td>7917</td>\n",
       "      <td>7917</td>\n",
       "      <td>7917</td>\n",
       "      <td>7917</td>\n",
       "      <td>7917</td>\n",
       "      <td>NaN</td>\n",
       "    </tr>\n",
       "    <tr>\n",
       "      <td>mean</td>\n",
       "      <td>152337.538035</td>\n",
       "      <td>NaN</td>\n",
       "      <td>66.680457</td>\n",
       "      <td>NaN</td>\n",
       "      <td>181.750424</td>\n",
       "      <td>NaN</td>\n",
       "      <td>0.353114</td>\n",
       "      <td>NaN</td>\n",
       "      <td>NaN</td>\n",
       "      <td>NaN</td>\n",
       "      <td>NaN</td>\n",
       "      <td>NaN</td>\n",
       "      <td>NaN</td>\n",
       "      <td>NaN</td>\n",
       "      <td>NaN</td>\n",
       "      <td>NaN</td>\n",
       "      <td>NaN</td>\n",
       "      <td>NaN</td>\n",
       "      <td>64.955914</td>\n",
       "    </tr>\n",
       "    <tr>\n",
       "      <td>std</td>\n",
       "      <td>54506.606056</td>\n",
       "      <td>NaN</td>\n",
       "      <td>7.146679</td>\n",
       "      <td>NaN</td>\n",
       "      <td>6.454356</td>\n",
       "      <td>NaN</td>\n",
       "      <td>0.477965</td>\n",
       "      <td>NaN</td>\n",
       "      <td>NaN</td>\n",
       "      <td>NaN</td>\n",
       "      <td>NaN</td>\n",
       "      <td>NaN</td>\n",
       "      <td>NaN</td>\n",
       "      <td>NaN</td>\n",
       "      <td>NaN</td>\n",
       "      <td>NaN</td>\n",
       "      <td>NaN</td>\n",
       "      <td>NaN</td>\n",
       "      <td>8.854231</td>\n",
       "    </tr>\n",
       "    <tr>\n",
       "      <td>min</td>\n",
       "      <td>2.000000</td>\n",
       "      <td>NaN</td>\n",
       "      <td>40.000000</td>\n",
       "      <td>NaN</td>\n",
       "      <td>158.000000</td>\n",
       "      <td>NaN</td>\n",
       "      <td>0.000000</td>\n",
       "      <td>NaN</td>\n",
       "      <td>NaN</td>\n",
       "      <td>NaN</td>\n",
       "      <td>NaN</td>\n",
       "      <td>NaN</td>\n",
       "      <td>NaN</td>\n",
       "      <td>NaN</td>\n",
       "      <td>NaN</td>\n",
       "      <td>NaN</td>\n",
       "      <td>NaN</td>\n",
       "      <td>NaN</td>\n",
       "      <td>37.000000</td>\n",
       "    </tr>\n",
       "    <tr>\n",
       "      <td>25%</td>\n",
       "      <td>140001.500000</td>\n",
       "      <td>NaN</td>\n",
       "      <td>62.000000</td>\n",
       "      <td>NaN</td>\n",
       "      <td>178.000000</td>\n",
       "      <td>NaN</td>\n",
       "      <td>0.000000</td>\n",
       "      <td>NaN</td>\n",
       "      <td>NaN</td>\n",
       "      <td>NaN</td>\n",
       "      <td>NaN</td>\n",
       "      <td>NaN</td>\n",
       "      <td>NaN</td>\n",
       "      <td>NaN</td>\n",
       "      <td>NaN</td>\n",
       "      <td>NaN</td>\n",
       "      <td>NaN</td>\n",
       "      <td>NaN</td>\n",
       "      <td>59.000000</td>\n",
       "    </tr>\n",
       "    <tr>\n",
       "      <td>50%</td>\n",
       "      <td>171578.000000</td>\n",
       "      <td>NaN</td>\n",
       "      <td>66.000000</td>\n",
       "      <td>NaN</td>\n",
       "      <td>182.000000</td>\n",
       "      <td>NaN</td>\n",
       "      <td>0.000000</td>\n",
       "      <td>NaN</td>\n",
       "      <td>NaN</td>\n",
       "      <td>NaN</td>\n",
       "      <td>NaN</td>\n",
       "      <td>NaN</td>\n",
       "      <td>NaN</td>\n",
       "      <td>NaN</td>\n",
       "      <td>NaN</td>\n",
       "      <td>NaN</td>\n",
       "      <td>NaN</td>\n",
       "      <td>NaN</td>\n",
       "      <td>65.000000</td>\n",
       "    </tr>\n",
       "    <tr>\n",
       "      <td>75%</td>\n",
       "      <td>189185.000000</td>\n",
       "      <td>NaN</td>\n",
       "      <td>72.000000</td>\n",
       "      <td>NaN</td>\n",
       "      <td>186.000000</td>\n",
       "      <td>NaN</td>\n",
       "      <td>1.000000</td>\n",
       "      <td>NaN</td>\n",
       "      <td>NaN</td>\n",
       "      <td>NaN</td>\n",
       "      <td>NaN</td>\n",
       "      <td>NaN</td>\n",
       "      <td>NaN</td>\n",
       "      <td>NaN</td>\n",
       "      <td>NaN</td>\n",
       "      <td>NaN</td>\n",
       "      <td>NaN</td>\n",
       "      <td>NaN</td>\n",
       "      <td>71.000000</td>\n",
       "    </tr>\n",
       "    <tr>\n",
       "      <td>max</td>\n",
       "      <td>205583.000000</td>\n",
       "      <td>NaN</td>\n",
       "      <td>94.000000</td>\n",
       "      <td>NaN</td>\n",
       "      <td>208.000000</td>\n",
       "      <td>NaN</td>\n",
       "      <td>1.000000</td>\n",
       "      <td>NaN</td>\n",
       "      <td>NaN</td>\n",
       "      <td>NaN</td>\n",
       "      <td>NaN</td>\n",
       "      <td>NaN</td>\n",
       "      <td>NaN</td>\n",
       "      <td>NaN</td>\n",
       "      <td>NaN</td>\n",
       "      <td>NaN</td>\n",
       "      <td>NaN</td>\n",
       "      <td>NaN</td>\n",
       "      <td>91.000000</td>\n",
       "    </tr>\n",
       "  </tbody>\n",
       "</table>\n",
       "</div>"
      ],
      "text/plain": [
       "                   id     name       rating position       height    foot  \\\n",
       "count     8847.000000     8847  8847.000000     8847  8847.000000    8847   \n",
       "unique            NaN     8678          NaN        4          NaN       2   \n",
       "top               NaN   Felipe          NaN        M          NaN   Right   \n",
       "freq              NaN        5          NaN     3041          NaN    6762   \n",
       "mean    152337.538035      NaN    66.680457      NaN   181.750424     NaN   \n",
       "std      54506.606056      NaN     7.146679      NaN     6.454356     NaN   \n",
       "min          2.000000      NaN    40.000000      NaN   158.000000     NaN   \n",
       "25%     140001.500000      NaN    62.000000      NaN   178.000000     NaN   \n",
       "50%     171578.000000      NaN    66.000000      NaN   182.000000     NaN   \n",
       "75%     189185.000000      NaN    72.000000      NaN   186.000000     NaN   \n",
       "max     205583.000000      NaN    94.000000      NaN   208.000000     NaN   \n",
       "\n",
       "               rare  pace shooting passing dribbling defending heading diving  \\\n",
       "count   8847.000000  8847     8847    8847      8847      8847    8847   8847   \n",
       "unique          NaN    73       80      76        76        64      67     49   \n",
       "top             NaN                                                             \n",
       "freq            NaN   930      930     930       930       930     930   7917   \n",
       "mean       0.353114   NaN      NaN     NaN       NaN       NaN     NaN    NaN   \n",
       "std        0.477965   NaN      NaN     NaN       NaN       NaN     NaN    NaN   \n",
       "min        0.000000   NaN      NaN     NaN       NaN       NaN     NaN    NaN   \n",
       "25%        0.000000   NaN      NaN     NaN       NaN       NaN     NaN    NaN   \n",
       "50%        0.000000   NaN      NaN     NaN       NaN       NaN     NaN    NaN   \n",
       "75%        1.000000   NaN      NaN     NaN       NaN       NaN     NaN    NaN   \n",
       "max        1.000000   NaN      NaN     NaN       NaN       NaN     NaN    NaN   \n",
       "\n",
       "       handling kicking reflexes speed  positioning  \n",
       "count      8847    8847     8847  8847   930.000000  \n",
       "unique       45      53       53    54          NaN  \n",
       "top                                             NaN  \n",
       "freq       7917    7917     7917  7917          NaN  \n",
       "mean        NaN     NaN      NaN   NaN    64.955914  \n",
       "std         NaN     NaN      NaN   NaN     8.854231  \n",
       "min         NaN     NaN      NaN   NaN    37.000000  \n",
       "25%         NaN     NaN      NaN   NaN    59.000000  \n",
       "50%         NaN     NaN      NaN   NaN    65.000000  \n",
       "75%         NaN     NaN      NaN   NaN    71.000000  \n",
       "max         NaN     NaN      NaN   NaN    91.000000  "
      ]
     },
     "execution_count": 11,
     "metadata": {},
     "output_type": "execute_result"
    }
   ],
   "source": [
    "#Write Your Code Here\n",
    "df.describe(include=\"all\")"
   ]
  },
  {
   "cell_type": "markdown",
   "metadata": {},
   "source": [
    "### Task 3: Dealing with Missing Value "
   ]
  },
  {
   "cell_type": "markdown",
   "metadata": {},
   "source": [
    "**i. Count the number of missing values in each column**"
   ]
  },
  {
   "cell_type": "code",
   "execution_count": 12,
   "metadata": {},
   "outputs": [
    {
     "data": {
      "text/plain": [
       "id                0\n",
       "name              0\n",
       "rating            0\n",
       "position          0\n",
       "height            0\n",
       "foot              0\n",
       "rare              0\n",
       "pace              0\n",
       "shooting          0\n",
       "passing           0\n",
       "dribbling         0\n",
       "defending         0\n",
       "heading           0\n",
       "diving            0\n",
       "handling          0\n",
       "kicking           0\n",
       "reflexes          0\n",
       "speed             0\n",
       "positioning    7917\n",
       "dtype: int64"
      ]
     },
     "execution_count": 12,
     "metadata": {},
     "output_type": "execute_result"
    }
   ],
   "source": [
    "#Write Your Code Here\n",
    "df.isnull().sum()"
   ]
  },
  {
   "cell_type": "markdown",
   "metadata": {},
   "source": [
    "**ii. Replace extra space with NaN**"
   ]
  },
  {
   "cell_type": "code",
   "execution_count": 13,
   "metadata": {},
   "outputs": [],
   "source": [
    "#write code here\n",
    "df.replace(\" \",np.nan,inplace=True)"
   ]
  },
  {
   "cell_type": "markdown",
   "metadata": {},
   "source": [
    "**iii. Fill all null values of dataframe with 0**"
   ]
  },
  {
   "cell_type": "code",
   "execution_count": 14,
   "metadata": {},
   "outputs": [
    {
     "data": {
      "text/html": [
       "<div>\n",
       "<style scoped>\n",
       "    .dataframe tbody tr th:only-of-type {\n",
       "        vertical-align: middle;\n",
       "    }\n",
       "\n",
       "    .dataframe tbody tr th {\n",
       "        vertical-align: top;\n",
       "    }\n",
       "\n",
       "    .dataframe thead th {\n",
       "        text-align: right;\n",
       "    }\n",
       "</style>\n",
       "<table border=\"1\" class=\"dataframe\">\n",
       "  <thead>\n",
       "    <tr style=\"text-align: right;\">\n",
       "      <th></th>\n",
       "      <th>id</th>\n",
       "      <th>name</th>\n",
       "      <th>rating</th>\n",
       "      <th>position</th>\n",
       "      <th>height</th>\n",
       "      <th>foot</th>\n",
       "      <th>rare</th>\n",
       "      <th>pace</th>\n",
       "      <th>shooting</th>\n",
       "      <th>passing</th>\n",
       "      <th>dribbling</th>\n",
       "      <th>defending</th>\n",
       "      <th>heading</th>\n",
       "      <th>diving</th>\n",
       "      <th>handling</th>\n",
       "      <th>kicking</th>\n",
       "      <th>reflexes</th>\n",
       "      <th>speed</th>\n",
       "      <th>positioning</th>\n",
       "    </tr>\n",
       "  </thead>\n",
       "  <tbody>\n",
       "    <tr>\n",
       "      <td>0</td>\n",
       "      <td>1001</td>\n",
       "      <td>Gábor Király</td>\n",
       "      <td>69</td>\n",
       "      <td>GK</td>\n",
       "      <td>191</td>\n",
       "      <td>Right</td>\n",
       "      <td>0</td>\n",
       "      <td>0</td>\n",
       "      <td>0</td>\n",
       "      <td>0</td>\n",
       "      <td>0</td>\n",
       "      <td>0</td>\n",
       "      <td>0</td>\n",
       "      <td>70</td>\n",
       "      <td>66</td>\n",
       "      <td>63</td>\n",
       "      <td>74</td>\n",
       "      <td>35</td>\n",
       "      <td>66.0</td>\n",
       "    </tr>\n",
       "    <tr>\n",
       "      <td>1</td>\n",
       "      <td>100143</td>\n",
       "      <td>Frederik Boi</td>\n",
       "      <td>65</td>\n",
       "      <td>M</td>\n",
       "      <td>184</td>\n",
       "      <td>Right</td>\n",
       "      <td>0</td>\n",
       "      <td>61</td>\n",
       "      <td>65</td>\n",
       "      <td>63</td>\n",
       "      <td>59</td>\n",
       "      <td>62</td>\n",
       "      <td>62</td>\n",
       "      <td>0</td>\n",
       "      <td>0</td>\n",
       "      <td>0</td>\n",
       "      <td>0</td>\n",
       "      <td>0</td>\n",
       "      <td>0.0</td>\n",
       "    </tr>\n",
       "    <tr>\n",
       "      <td>2</td>\n",
       "      <td>100264</td>\n",
       "      <td>Tomasz Szewczuk</td>\n",
       "      <td>57</td>\n",
       "      <td>A</td>\n",
       "      <td>185</td>\n",
       "      <td>Right</td>\n",
       "      <td>0</td>\n",
       "      <td>65</td>\n",
       "      <td>54</td>\n",
       "      <td>43</td>\n",
       "      <td>53</td>\n",
       "      <td>55</td>\n",
       "      <td>74</td>\n",
       "      <td>0</td>\n",
       "      <td>0</td>\n",
       "      <td>0</td>\n",
       "      <td>0</td>\n",
       "      <td>0</td>\n",
       "      <td>0.0</td>\n",
       "    </tr>\n",
       "    <tr>\n",
       "      <td>3</td>\n",
       "      <td>100325</td>\n",
       "      <td>Steeve Joseph-Reinette</td>\n",
       "      <td>63</td>\n",
       "      <td>D</td>\n",
       "      <td>180</td>\n",
       "      <td>Left</td>\n",
       "      <td>0</td>\n",
       "      <td>68</td>\n",
       "      <td>38</td>\n",
       "      <td>51</td>\n",
       "      <td>46</td>\n",
       "      <td>64</td>\n",
       "      <td>71</td>\n",
       "      <td>0</td>\n",
       "      <td>0</td>\n",
       "      <td>0</td>\n",
       "      <td>0</td>\n",
       "      <td>0</td>\n",
       "      <td>0.0</td>\n",
       "    </tr>\n",
       "    <tr>\n",
       "      <td>4</td>\n",
       "      <td>100326</td>\n",
       "      <td>Kamel Chafni</td>\n",
       "      <td>72</td>\n",
       "      <td>M</td>\n",
       "      <td>181</td>\n",
       "      <td>Right</td>\n",
       "      <td>0</td>\n",
       "      <td>75</td>\n",
       "      <td>64</td>\n",
       "      <td>67</td>\n",
       "      <td>72</td>\n",
       "      <td>57</td>\n",
       "      <td>66</td>\n",
       "      <td>0</td>\n",
       "      <td>0</td>\n",
       "      <td>0</td>\n",
       "      <td>0</td>\n",
       "      <td>0</td>\n",
       "      <td>0.0</td>\n",
       "    </tr>\n",
       "  </tbody>\n",
       "</table>\n",
       "</div>"
      ],
      "text/plain": [
       "       id                     name  rating position  height    foot  rare  \\\n",
       "0    1001             Gábor Király      69       GK     191   Right     0   \n",
       "1  100143             Frederik Boi      65        M     184   Right     0   \n",
       "2  100264          Tomasz Szewczuk      57        A     185   Right     0   \n",
       "3  100325   Steeve Joseph-Reinette      63        D     180    Left     0   \n",
       "4  100326             Kamel Chafni      72        M     181   Right     0   \n",
       "\n",
       "  pace shooting passing dribbling defending heading diving handling kicking  \\\n",
       "0    0        0       0         0         0       0     70       66      63   \n",
       "1   61       65      63        59        62      62      0        0       0   \n",
       "2   65       54      43        53        55      74      0        0       0   \n",
       "3   68       38      51        46        64      71      0        0       0   \n",
       "4   75       64      67        72        57      66      0        0       0   \n",
       "\n",
       "  reflexes speed  positioning  \n",
       "0       74    35         66.0  \n",
       "1        0     0          0.0  \n",
       "2        0     0          0.0  \n",
       "3        0     0          0.0  \n",
       "4        0     0          0.0  "
      ]
     },
     "execution_count": 14,
     "metadata": {},
     "output_type": "execute_result"
    }
   ],
   "source": [
    "#write code here\n",
    "df.replace(np.nan,0,inplace=True)\n",
    "df.head()"
   ]
  },
  {
   "cell_type": "code",
   "execution_count": 15,
   "metadata": {},
   "outputs": [
    {
     "data": {
      "text/plain": [
       "id             0\n",
       "name           0\n",
       "rating         0\n",
       "position       0\n",
       "height         0\n",
       "foot           0\n",
       "rare           0\n",
       "pace           0\n",
       "shooting       0\n",
       "passing        0\n",
       "dribbling      0\n",
       "defending      0\n",
       "heading        0\n",
       "diving         0\n",
       "handling       0\n",
       "kicking        0\n",
       "reflexes       0\n",
       "speed          0\n",
       "positioning    0\n",
       "dtype: int64"
      ]
     },
     "execution_count": 15,
     "metadata": {},
     "output_type": "execute_result"
    }
   ],
   "source": [
    "#write code here\n",
    "df.isnull().sum()"
   ]
  },
  {
   "cell_type": "markdown",
   "metadata": {},
   "source": [
    "**iv. Count the number of players in each position**"
   ]
  },
  {
   "cell_type": "code",
   "execution_count": 16,
   "metadata": {},
   "outputs": [
    {
     "data": {
      "text/plain": [
       " M     3041\n",
       " D     2794\n",
       " A     2082\n",
       " GK     930\n",
       "Name: position, dtype: int64"
      ]
     },
     "execution_count": 16,
     "metadata": {},
     "output_type": "execute_result"
    }
   ],
   "source": [
    "#Write Your Code Here\n",
    "df['position'].value_counts()"
   ]
  },
  {
   "cell_type": "markdown",
   "metadata": {},
   "source": [
    "**v. Check datatypes of all columns**"
   ]
  },
  {
   "cell_type": "code",
   "execution_count": 17,
   "metadata": {},
   "outputs": [
    {
     "data": {
      "text/plain": [
       "id               int64\n",
       "name            object\n",
       "rating           int64\n",
       "position        object\n",
       "height           int64\n",
       "foot            object\n",
       "rare             int64\n",
       "pace            object\n",
       "shooting        object\n",
       "passing         object\n",
       "dribbling       object\n",
       "defending       object\n",
       "heading         object\n",
       "diving          object\n",
       "handling        object\n",
       "kicking         object\n",
       "reflexes        object\n",
       "speed           object\n",
       "positioning    float64\n",
       "dtype: object"
      ]
     },
     "execution_count": 17,
     "metadata": {},
     "output_type": "execute_result"
    }
   ],
   "source": [
    "#write code here\n",
    "df.dtypes"
   ]
  },
  {
   "cell_type": "markdown",
   "metadata": {},
   "source": [
    "**vi. Cast ' pace', ' shooting', ' passing', ' dribbling', ' defending',' heading', ' diving', ' handling', ' kicking', ' reflexes', ' speed',' positioning' into Integer type**"
   ]
  },
  {
   "cell_type": "code",
   "execution_count": 18,
   "metadata": {},
   "outputs": [],
   "source": [
    "#write code here\n",
    "df[[\"pace\",\"shooting\",\"passing\",\"dribbling\",\"defending\",\"heading\",\"diving\",\"handling\",\"kicking\",\"reflexes\",\"speed\",\"positioning\"]]=df[[\"pace\",\"shooting\",\"passing\",\"dribbling\",\"defending\",\"heading\",\"diving\",\"handling\",\"kicking\",\"reflexes\",\"speed\",\"positioning\"]].astype('int')\n"
   ]
  },
  {
   "cell_type": "code",
   "execution_count": 19,
   "metadata": {},
   "outputs": [
    {
     "data": {
      "text/plain": [
       "id              int64\n",
       "name           object\n",
       "rating          int64\n",
       "position       object\n",
       "height          int64\n",
       "foot           object\n",
       "rare            int64\n",
       "pace            int32\n",
       "shooting        int32\n",
       "passing         int32\n",
       "dribbling       int32\n",
       "defending       int32\n",
       "heading         int32\n",
       "diving          int32\n",
       "handling        int32\n",
       "kicking         int32\n",
       "reflexes        int32\n",
       "speed           int32\n",
       "positioning     int32\n",
       "dtype: object"
      ]
     },
     "execution_count": 19,
     "metadata": {},
     "output_type": "execute_result"
    }
   ],
   "source": [
    "#write code here\n",
    "df.dtypes"
   ]
  },
  {
   "cell_type": "markdown",
   "metadata": {},
   "source": [
    "### Task 4"
   ]
  },
  {
   "cell_type": "markdown",
   "metadata": {},
   "source": [
    "**You have to split the dataframe into two dataframes, one containing all the features of Goal Keeper and other dataframe contains all other players** \n"
   ]
  },
  {
   "cell_type": "code",
   "execution_count": 20,
   "metadata": {},
   "outputs": [
    {
     "data": {
      "text/html": [
       "<div>\n",
       "<style scoped>\n",
       "    .dataframe tbody tr th:only-of-type {\n",
       "        vertical-align: middle;\n",
       "    }\n",
       "\n",
       "    .dataframe tbody tr th {\n",
       "        vertical-align: top;\n",
       "    }\n",
       "\n",
       "    .dataframe thead th {\n",
       "        text-align: right;\n",
       "    }\n",
       "</style>\n",
       "<table border=\"1\" class=\"dataframe\">\n",
       "  <thead>\n",
       "    <tr style=\"text-align: right;\">\n",
       "      <th></th>\n",
       "      <th>id</th>\n",
       "      <th>name</th>\n",
       "      <th>rating</th>\n",
       "      <th>position</th>\n",
       "      <th>height</th>\n",
       "      <th>foot</th>\n",
       "      <th>rare</th>\n",
       "      <th>pace</th>\n",
       "      <th>shooting</th>\n",
       "      <th>passing</th>\n",
       "      <th>dribbling</th>\n",
       "      <th>defending</th>\n",
       "      <th>heading</th>\n",
       "      <th>diving</th>\n",
       "      <th>handling</th>\n",
       "      <th>kicking</th>\n",
       "      <th>reflexes</th>\n",
       "      <th>speed</th>\n",
       "      <th>positioning</th>\n",
       "    </tr>\n",
       "  </thead>\n",
       "  <tbody>\n",
       "  </tbody>\n",
       "</table>\n",
       "</div>"
      ],
      "text/plain": [
       "Empty DataFrame\n",
       "Columns: [id, name, rating, position, height, foot, rare, pace, shooting, passing, dribbling, defending, heading, diving, handling, kicking, reflexes, speed, positioning]\n",
       "Index: []"
      ]
     },
     "execution_count": 20,
     "metadata": {},
     "output_type": "execute_result"
    }
   ],
   "source": [
    "df_goalkeeper= df[df['position'] == 'GK']\n",
    "df_goalkeeper.head()"
   ]
  },
  {
   "cell_type": "markdown",
   "metadata": {},
   "source": [
    "<span style=\"color:green\">**As you can see that the dataframe is empty and no value has been assigned to it. Let's check out the issue.**</span>"
   ]
  },
  {
   "cell_type": "markdown",
   "metadata": {},
   "source": [
    "**i. Check unique value of position, there must be a space on each position**"
   ]
  },
  {
   "cell_type": "code",
   "execution_count": 21,
   "metadata": {},
   "outputs": [
    {
     "data": {
      "text/plain": [
       "array([' GK', ' M', ' A', ' D'], dtype=object)"
      ]
     },
     "execution_count": 21,
     "metadata": {},
     "output_type": "execute_result"
    }
   ],
   "source": [
    "#Write code here\n",
    "df[\"position\"].unique()"
   ]
  },
  {
   "cell_type": "markdown",
   "metadata": {},
   "source": [
    "<span style=\"color:green\">**From the above output, you can see that there is an extra space in the position reffered to as GK.**</span> "
   ]
  },
  {
   "cell_type": "markdown",
   "metadata": {},
   "source": [
    "**ii. Remove extra space in position column and remove it like ' GK' to 'GK' and then again make dataframe of GK**<br>\n",
    "*Hint: Use str.replace*\n"
   ]
  },
  {
   "cell_type": "code",
   "execution_count": 22,
   "metadata": {},
   "outputs": [
    {
     "data": {
      "text/plain": [
       "array(['GK', 'M', 'A', 'D'], dtype=object)"
      ]
     },
     "execution_count": 22,
     "metadata": {},
     "output_type": "execute_result"
    }
   ],
   "source": [
    "#Write Code here\n",
    "df[\"position\"]=df[\"position\"].str.replace(\" \",\"\")\n",
    "df[\"position\"].unique()"
   ]
  },
  {
   "cell_type": "markdown",
   "metadata": {},
   "source": [
    "**iii. Now make a dataframe of df_goalkeeper.**"
   ]
  },
  {
   "cell_type": "code",
   "execution_count": 23,
   "metadata": {},
   "outputs": [
    {
     "data": {
      "text/html": [
       "<div>\n",
       "<style scoped>\n",
       "    .dataframe tbody tr th:only-of-type {\n",
       "        vertical-align: middle;\n",
       "    }\n",
       "\n",
       "    .dataframe tbody tr th {\n",
       "        vertical-align: top;\n",
       "    }\n",
       "\n",
       "    .dataframe thead th {\n",
       "        text-align: right;\n",
       "    }\n",
       "</style>\n",
       "<table border=\"1\" class=\"dataframe\">\n",
       "  <thead>\n",
       "    <tr style=\"text-align: right;\">\n",
       "      <th></th>\n",
       "      <th>id</th>\n",
       "      <th>name</th>\n",
       "      <th>rating</th>\n",
       "      <th>position</th>\n",
       "      <th>height</th>\n",
       "      <th>foot</th>\n",
       "      <th>rare</th>\n",
       "      <th>pace</th>\n",
       "      <th>shooting</th>\n",
       "      <th>passing</th>\n",
       "      <th>dribbling</th>\n",
       "      <th>defending</th>\n",
       "      <th>heading</th>\n",
       "      <th>diving</th>\n",
       "      <th>handling</th>\n",
       "      <th>kicking</th>\n",
       "      <th>reflexes</th>\n",
       "      <th>speed</th>\n",
       "      <th>positioning</th>\n",
       "    </tr>\n",
       "  </thead>\n",
       "  <tbody>\n",
       "    <tr>\n",
       "      <td>0</td>\n",
       "      <td>1001</td>\n",
       "      <td>Gábor Király</td>\n",
       "      <td>69</td>\n",
       "      <td>GK</td>\n",
       "      <td>191</td>\n",
       "      <td>Right</td>\n",
       "      <td>0</td>\n",
       "      <td>0</td>\n",
       "      <td>0</td>\n",
       "      <td>0</td>\n",
       "      <td>0</td>\n",
       "      <td>0</td>\n",
       "      <td>0</td>\n",
       "      <td>70</td>\n",
       "      <td>66</td>\n",
       "      <td>63</td>\n",
       "      <td>74</td>\n",
       "      <td>35</td>\n",
       "      <td>66</td>\n",
       "    </tr>\n",
       "    <tr>\n",
       "      <td>20</td>\n",
       "      <td>100745</td>\n",
       "      <td>Paul Smith</td>\n",
       "      <td>64</td>\n",
       "      <td>GK</td>\n",
       "      <td>193</td>\n",
       "      <td>Right</td>\n",
       "      <td>1</td>\n",
       "      <td>0</td>\n",
       "      <td>0</td>\n",
       "      <td>0</td>\n",
       "      <td>0</td>\n",
       "      <td>0</td>\n",
       "      <td>0</td>\n",
       "      <td>65</td>\n",
       "      <td>62</td>\n",
       "      <td>55</td>\n",
       "      <td>67</td>\n",
       "      <td>41</td>\n",
       "      <td>62</td>\n",
       "    </tr>\n",
       "    <tr>\n",
       "      <td>29</td>\n",
       "      <td>100807</td>\n",
       "      <td>Stefanos Kotsolis</td>\n",
       "      <td>65</td>\n",
       "      <td>GK</td>\n",
       "      <td>190</td>\n",
       "      <td>Right</td>\n",
       "      <td>0</td>\n",
       "      <td>0</td>\n",
       "      <td>0</td>\n",
       "      <td>0</td>\n",
       "      <td>0</td>\n",
       "      <td>0</td>\n",
       "      <td>0</td>\n",
       "      <td>62</td>\n",
       "      <td>68</td>\n",
       "      <td>62</td>\n",
       "      <td>65</td>\n",
       "      <td>60</td>\n",
       "      <td>64</td>\n",
       "    </tr>\n",
       "    <tr>\n",
       "      <td>31</td>\n",
       "      <td>100899</td>\n",
       "      <td>Steve Phillips</td>\n",
       "      <td>61</td>\n",
       "      <td>GK</td>\n",
       "      <td>185</td>\n",
       "      <td>Right</td>\n",
       "      <td>1</td>\n",
       "      <td>0</td>\n",
       "      <td>0</td>\n",
       "      <td>0</td>\n",
       "      <td>0</td>\n",
       "      <td>0</td>\n",
       "      <td>0</td>\n",
       "      <td>46</td>\n",
       "      <td>65</td>\n",
       "      <td>76</td>\n",
       "      <td>71</td>\n",
       "      <td>31</td>\n",
       "      <td>61</td>\n",
       "    </tr>\n",
       "    <tr>\n",
       "      <td>39</td>\n",
       "      <td>101282</td>\n",
       "      <td>Oka Nikolov</td>\n",
       "      <td>70</td>\n",
       "      <td>GK</td>\n",
       "      <td>188</td>\n",
       "      <td>Right</td>\n",
       "      <td>0</td>\n",
       "      <td>0</td>\n",
       "      <td>0</td>\n",
       "      <td>0</td>\n",
       "      <td>0</td>\n",
       "      <td>0</td>\n",
       "      <td>0</td>\n",
       "      <td>72</td>\n",
       "      <td>64</td>\n",
       "      <td>59</td>\n",
       "      <td>73</td>\n",
       "      <td>61</td>\n",
       "      <td>73</td>\n",
       "    </tr>\n",
       "  </tbody>\n",
       "</table>\n",
       "</div>"
      ],
      "text/plain": [
       "        id                name  rating position  height    foot  rare  pace  \\\n",
       "0     1001        Gábor Király      69       GK     191   Right     0     0   \n",
       "20  100745          Paul Smith      64       GK     193   Right     1     0   \n",
       "29  100807   Stefanos Kotsolis      65       GK     190   Right     0     0   \n",
       "31  100899      Steve Phillips      61       GK     185   Right     1     0   \n",
       "39  101282         Oka Nikolov      70       GK     188   Right     0     0   \n",
       "\n",
       "    shooting  passing  dribbling  defending  heading  diving  handling  \\\n",
       "0          0        0          0          0        0      70        66   \n",
       "20         0        0          0          0        0      65        62   \n",
       "29         0        0          0          0        0      62        68   \n",
       "31         0        0          0          0        0      46        65   \n",
       "39         0        0          0          0        0      72        64   \n",
       "\n",
       "    kicking  reflexes  speed  positioning  \n",
       "0        63        74     35           66  \n",
       "20       55        67     41           62  \n",
       "29       62        65     60           64  \n",
       "31       76        71     31           61  \n",
       "39       59        73     61           73  "
      ]
     },
     "execution_count": 23,
     "metadata": {},
     "output_type": "execute_result"
    }
   ],
   "source": [
    "#Write Your Code Here\n",
    "df_goalkeeper=df[df[\"position\"]==\"GK\"]\n",
    "df_goalkeeper.head()"
   ]
  },
  {
   "cell_type": "markdown",
   "metadata": {},
   "source": [
    "**iv. Dataframe of goal keeper must and only contain the following columns 'id', 'name', 'rating', 'position', 'height', 'foot',' rare','diving', 'handling', 'kicking', 'reflexes', 'speed','positioning'** <br>\n",
    "**Drop all the other columns**"
   ]
  },
  {
   "cell_type": "code",
   "execution_count": 24,
   "metadata": {
    "scrolled": true
   },
   "outputs": [
    {
     "name": "stderr",
     "output_type": "stream",
     "text": [
      "E:\\python\\anaconda\\lib\\site-packages\\pandas\\core\\frame.py:4102: SettingWithCopyWarning: \n",
      "A value is trying to be set on a copy of a slice from a DataFrame\n",
      "\n",
      "See the caveats in the documentation: http://pandas.pydata.org/pandas-docs/stable/user_guide/indexing.html#returning-a-view-versus-a-copy\n",
      "  errors=errors,\n"
     ]
    }
   ],
   "source": [
    "#write code here\n",
    "df_goalkeeper.drop([\"pace\",\"shooting\",\"passing\",\"dribbling\",\"defending\",\"heading\"],axis=1,inplace=True)"
   ]
  },
  {
   "cell_type": "code",
   "execution_count": 25,
   "metadata": {},
   "outputs": [
    {
     "data": {
      "text/html": [
       "<div>\n",
       "<style scoped>\n",
       "    .dataframe tbody tr th:only-of-type {\n",
       "        vertical-align: middle;\n",
       "    }\n",
       "\n",
       "    .dataframe tbody tr th {\n",
       "        vertical-align: top;\n",
       "    }\n",
       "\n",
       "    .dataframe thead th {\n",
       "        text-align: right;\n",
       "    }\n",
       "</style>\n",
       "<table border=\"1\" class=\"dataframe\">\n",
       "  <thead>\n",
       "    <tr style=\"text-align: right;\">\n",
       "      <th></th>\n",
       "      <th>id</th>\n",
       "      <th>name</th>\n",
       "      <th>rating</th>\n",
       "      <th>position</th>\n",
       "      <th>height</th>\n",
       "      <th>foot</th>\n",
       "      <th>rare</th>\n",
       "      <th>diving</th>\n",
       "      <th>handling</th>\n",
       "      <th>kicking</th>\n",
       "      <th>reflexes</th>\n",
       "      <th>speed</th>\n",
       "      <th>positioning</th>\n",
       "    </tr>\n",
       "  </thead>\n",
       "  <tbody>\n",
       "    <tr>\n",
       "      <td>0</td>\n",
       "      <td>1001</td>\n",
       "      <td>Gábor Király</td>\n",
       "      <td>69</td>\n",
       "      <td>GK</td>\n",
       "      <td>191</td>\n",
       "      <td>Right</td>\n",
       "      <td>0</td>\n",
       "      <td>70</td>\n",
       "      <td>66</td>\n",
       "      <td>63</td>\n",
       "      <td>74</td>\n",
       "      <td>35</td>\n",
       "      <td>66</td>\n",
       "    </tr>\n",
       "    <tr>\n",
       "      <td>20</td>\n",
       "      <td>100745</td>\n",
       "      <td>Paul Smith</td>\n",
       "      <td>64</td>\n",
       "      <td>GK</td>\n",
       "      <td>193</td>\n",
       "      <td>Right</td>\n",
       "      <td>1</td>\n",
       "      <td>65</td>\n",
       "      <td>62</td>\n",
       "      <td>55</td>\n",
       "      <td>67</td>\n",
       "      <td>41</td>\n",
       "      <td>62</td>\n",
       "    </tr>\n",
       "    <tr>\n",
       "      <td>29</td>\n",
       "      <td>100807</td>\n",
       "      <td>Stefanos Kotsolis</td>\n",
       "      <td>65</td>\n",
       "      <td>GK</td>\n",
       "      <td>190</td>\n",
       "      <td>Right</td>\n",
       "      <td>0</td>\n",
       "      <td>62</td>\n",
       "      <td>68</td>\n",
       "      <td>62</td>\n",
       "      <td>65</td>\n",
       "      <td>60</td>\n",
       "      <td>64</td>\n",
       "    </tr>\n",
       "    <tr>\n",
       "      <td>31</td>\n",
       "      <td>100899</td>\n",
       "      <td>Steve Phillips</td>\n",
       "      <td>61</td>\n",
       "      <td>GK</td>\n",
       "      <td>185</td>\n",
       "      <td>Right</td>\n",
       "      <td>1</td>\n",
       "      <td>46</td>\n",
       "      <td>65</td>\n",
       "      <td>76</td>\n",
       "      <td>71</td>\n",
       "      <td>31</td>\n",
       "      <td>61</td>\n",
       "    </tr>\n",
       "    <tr>\n",
       "      <td>39</td>\n",
       "      <td>101282</td>\n",
       "      <td>Oka Nikolov</td>\n",
       "      <td>70</td>\n",
       "      <td>GK</td>\n",
       "      <td>188</td>\n",
       "      <td>Right</td>\n",
       "      <td>0</td>\n",
       "      <td>72</td>\n",
       "      <td>64</td>\n",
       "      <td>59</td>\n",
       "      <td>73</td>\n",
       "      <td>61</td>\n",
       "      <td>73</td>\n",
       "    </tr>\n",
       "  </tbody>\n",
       "</table>\n",
       "</div>"
      ],
      "text/plain": [
       "        id                name  rating position  height    foot  rare  diving  \\\n",
       "0     1001        Gábor Király      69       GK     191   Right     0      70   \n",
       "20  100745          Paul Smith      64       GK     193   Right     1      65   \n",
       "29  100807   Stefanos Kotsolis      65       GK     190   Right     0      62   \n",
       "31  100899      Steve Phillips      61       GK     185   Right     1      46   \n",
       "39  101282         Oka Nikolov      70       GK     188   Right     0      72   \n",
       "\n",
       "    handling  kicking  reflexes  speed  positioning  \n",
       "0         66       63        74     35           66  \n",
       "20        62       55        67     41           62  \n",
       "29        68       62        65     60           64  \n",
       "31        65       76        71     31           61  \n",
       "39        64       59        73     61           73  "
      ]
     },
     "execution_count": 25,
     "metadata": {},
     "output_type": "execute_result"
    }
   ],
   "source": [
    "#write code here\n",
    "df_goalkeeper.head()"
   ]
  },
  {
   "cell_type": "markdown",
   "metadata": {},
   "source": [
    "**v. Make the dataframe of df_players having data of the all the other players except the goal keeper.**\n"
   ]
  },
  {
   "cell_type": "code",
   "execution_count": 26,
   "metadata": {},
   "outputs": [
    {
     "data": {
      "text/plain": [
       "array(['M', 'A', 'D'], dtype=object)"
      ]
     },
     "execution_count": 26,
     "metadata": {},
     "output_type": "execute_result"
    }
   ],
   "source": [
    "#write code here\n",
    "df_players=df[df[\"position\"]!=\"GK\"]\n",
    "df_players['position'].unique()"
   ]
  },
  {
   "cell_type": "markdown",
   "metadata": {},
   "source": [
    "**vi. Dataframe of other players must contain the following columns 'id', 'name', 'rating', 'position', 'height', 'foot', 'rare',  'pace', 'shooting', 'passing', 'dribbling', 'defending', 'heading'** <br>\n",
    "**Drop all the other columns**"
   ]
  },
  {
   "cell_type": "code",
   "execution_count": 27,
   "metadata": {},
   "outputs": [],
   "source": [
    "#write code here\n",
    "df_players.drop([\"diving\",\"handling\",\"kicking\",\"reflexes\",\"speed\",\"positioning\"],axis=1,inplace=True)"
   ]
  },
  {
   "cell_type": "code",
   "execution_count": 28,
   "metadata": {},
   "outputs": [
    {
     "data": {
      "text/html": [
       "<div>\n",
       "<style scoped>\n",
       "    .dataframe tbody tr th:only-of-type {\n",
       "        vertical-align: middle;\n",
       "    }\n",
       "\n",
       "    .dataframe tbody tr th {\n",
       "        vertical-align: top;\n",
       "    }\n",
       "\n",
       "    .dataframe thead th {\n",
       "        text-align: right;\n",
       "    }\n",
       "</style>\n",
       "<table border=\"1\" class=\"dataframe\">\n",
       "  <thead>\n",
       "    <tr style=\"text-align: right;\">\n",
       "      <th></th>\n",
       "      <th>id</th>\n",
       "      <th>name</th>\n",
       "      <th>rating</th>\n",
       "      <th>position</th>\n",
       "      <th>height</th>\n",
       "      <th>foot</th>\n",
       "      <th>rare</th>\n",
       "      <th>pace</th>\n",
       "      <th>shooting</th>\n",
       "      <th>passing</th>\n",
       "      <th>dribbling</th>\n",
       "      <th>defending</th>\n",
       "      <th>heading</th>\n",
       "    </tr>\n",
       "  </thead>\n",
       "  <tbody>\n",
       "    <tr>\n",
       "      <td>1</td>\n",
       "      <td>100143</td>\n",
       "      <td>Frederik Boi</td>\n",
       "      <td>65</td>\n",
       "      <td>M</td>\n",
       "      <td>184</td>\n",
       "      <td>Right</td>\n",
       "      <td>0</td>\n",
       "      <td>61</td>\n",
       "      <td>65</td>\n",
       "      <td>63</td>\n",
       "      <td>59</td>\n",
       "      <td>62</td>\n",
       "      <td>62</td>\n",
       "    </tr>\n",
       "    <tr>\n",
       "      <td>2</td>\n",
       "      <td>100264</td>\n",
       "      <td>Tomasz Szewczuk</td>\n",
       "      <td>57</td>\n",
       "      <td>A</td>\n",
       "      <td>185</td>\n",
       "      <td>Right</td>\n",
       "      <td>0</td>\n",
       "      <td>65</td>\n",
       "      <td>54</td>\n",
       "      <td>43</td>\n",
       "      <td>53</td>\n",
       "      <td>55</td>\n",
       "      <td>74</td>\n",
       "    </tr>\n",
       "    <tr>\n",
       "      <td>3</td>\n",
       "      <td>100325</td>\n",
       "      <td>Steeve Joseph-Reinette</td>\n",
       "      <td>63</td>\n",
       "      <td>D</td>\n",
       "      <td>180</td>\n",
       "      <td>Left</td>\n",
       "      <td>0</td>\n",
       "      <td>68</td>\n",
       "      <td>38</td>\n",
       "      <td>51</td>\n",
       "      <td>46</td>\n",
       "      <td>64</td>\n",
       "      <td>71</td>\n",
       "    </tr>\n",
       "    <tr>\n",
       "      <td>4</td>\n",
       "      <td>100326</td>\n",
       "      <td>Kamel Chafni</td>\n",
       "      <td>72</td>\n",
       "      <td>M</td>\n",
       "      <td>181</td>\n",
       "      <td>Right</td>\n",
       "      <td>0</td>\n",
       "      <td>75</td>\n",
       "      <td>64</td>\n",
       "      <td>67</td>\n",
       "      <td>72</td>\n",
       "      <td>57</td>\n",
       "      <td>66</td>\n",
       "    </tr>\n",
       "    <tr>\n",
       "      <td>5</td>\n",
       "      <td>100329</td>\n",
       "      <td>Abdoulaye Faye</td>\n",
       "      <td>72</td>\n",
       "      <td>D</td>\n",
       "      <td>187</td>\n",
       "      <td>Right</td>\n",
       "      <td>1</td>\n",
       "      <td>50</td>\n",
       "      <td>37</td>\n",
       "      <td>47</td>\n",
       "      <td>43</td>\n",
       "      <td>76</td>\n",
       "      <td>82</td>\n",
       "    </tr>\n",
       "  </tbody>\n",
       "</table>\n",
       "</div>"
      ],
      "text/plain": [
       "       id                     name  rating position  height    foot  rare  \\\n",
       "1  100143             Frederik Boi      65        M     184   Right     0   \n",
       "2  100264          Tomasz Szewczuk      57        A     185   Right     0   \n",
       "3  100325   Steeve Joseph-Reinette      63        D     180    Left     0   \n",
       "4  100326             Kamel Chafni      72        M     181   Right     0   \n",
       "5  100329           Abdoulaye Faye      72        D     187   Right     1   \n",
       "\n",
       "   pace  shooting  passing  dribbling  defending  heading  \n",
       "1    61        65       63         59         62       62  \n",
       "2    65        54       43         53         55       74  \n",
       "3    68        38       51         46         64       71  \n",
       "4    75        64       67         72         57       66  \n",
       "5    50        37       47         43         76       82  "
      ]
     },
     "execution_count": 28,
     "metadata": {},
     "output_type": "execute_result"
    }
   ],
   "source": [
    "#write code here\n",
    "df_players.head()"
   ]
  },
  {
   "cell_type": "markdown",
   "metadata": {},
   "source": [
    "**vii. Find shape of both the datasets**"
   ]
  },
  {
   "cell_type": "code",
   "execution_count": 29,
   "metadata": {},
   "outputs": [
    {
     "data": {
      "text/plain": [
       "(930, 13)"
      ]
     },
     "execution_count": 29,
     "metadata": {},
     "output_type": "execute_result"
    }
   ],
   "source": [
    "#Write Your Code Here\n",
    "df_goalkeeper.shape"
   ]
  },
  {
   "cell_type": "code",
   "execution_count": 30,
   "metadata": {},
   "outputs": [
    {
     "data": {
      "text/plain": [
       "(7917, 13)"
      ]
     },
     "execution_count": 30,
     "metadata": {},
     "output_type": "execute_result"
    }
   ],
   "source": [
    "#write code here\n",
    "df_players.shape"
   ]
  },
  {
   "cell_type": "markdown",
   "metadata": {},
   "source": [
    "**viii. Check head of both the splited dataframe**"
   ]
  },
  {
   "cell_type": "code",
   "execution_count": 31,
   "metadata": {},
   "outputs": [
    {
     "data": {
      "text/html": [
       "<div>\n",
       "<style scoped>\n",
       "    .dataframe tbody tr th:only-of-type {\n",
       "        vertical-align: middle;\n",
       "    }\n",
       "\n",
       "    .dataframe tbody tr th {\n",
       "        vertical-align: top;\n",
       "    }\n",
       "\n",
       "    .dataframe thead th {\n",
       "        text-align: right;\n",
       "    }\n",
       "</style>\n",
       "<table border=\"1\" class=\"dataframe\">\n",
       "  <thead>\n",
       "    <tr style=\"text-align: right;\">\n",
       "      <th></th>\n",
       "      <th>id</th>\n",
       "      <th>name</th>\n",
       "      <th>rating</th>\n",
       "      <th>position</th>\n",
       "      <th>height</th>\n",
       "      <th>foot</th>\n",
       "      <th>rare</th>\n",
       "      <th>diving</th>\n",
       "      <th>handling</th>\n",
       "      <th>kicking</th>\n",
       "      <th>reflexes</th>\n",
       "      <th>speed</th>\n",
       "      <th>positioning</th>\n",
       "    </tr>\n",
       "  </thead>\n",
       "  <tbody>\n",
       "    <tr>\n",
       "      <td>0</td>\n",
       "      <td>1001</td>\n",
       "      <td>Gábor Király</td>\n",
       "      <td>69</td>\n",
       "      <td>GK</td>\n",
       "      <td>191</td>\n",
       "      <td>Right</td>\n",
       "      <td>0</td>\n",
       "      <td>70</td>\n",
       "      <td>66</td>\n",
       "      <td>63</td>\n",
       "      <td>74</td>\n",
       "      <td>35</td>\n",
       "      <td>66</td>\n",
       "    </tr>\n",
       "    <tr>\n",
       "      <td>20</td>\n",
       "      <td>100745</td>\n",
       "      <td>Paul Smith</td>\n",
       "      <td>64</td>\n",
       "      <td>GK</td>\n",
       "      <td>193</td>\n",
       "      <td>Right</td>\n",
       "      <td>1</td>\n",
       "      <td>65</td>\n",
       "      <td>62</td>\n",
       "      <td>55</td>\n",
       "      <td>67</td>\n",
       "      <td>41</td>\n",
       "      <td>62</td>\n",
       "    </tr>\n",
       "    <tr>\n",
       "      <td>29</td>\n",
       "      <td>100807</td>\n",
       "      <td>Stefanos Kotsolis</td>\n",
       "      <td>65</td>\n",
       "      <td>GK</td>\n",
       "      <td>190</td>\n",
       "      <td>Right</td>\n",
       "      <td>0</td>\n",
       "      <td>62</td>\n",
       "      <td>68</td>\n",
       "      <td>62</td>\n",
       "      <td>65</td>\n",
       "      <td>60</td>\n",
       "      <td>64</td>\n",
       "    </tr>\n",
       "    <tr>\n",
       "      <td>31</td>\n",
       "      <td>100899</td>\n",
       "      <td>Steve Phillips</td>\n",
       "      <td>61</td>\n",
       "      <td>GK</td>\n",
       "      <td>185</td>\n",
       "      <td>Right</td>\n",
       "      <td>1</td>\n",
       "      <td>46</td>\n",
       "      <td>65</td>\n",
       "      <td>76</td>\n",
       "      <td>71</td>\n",
       "      <td>31</td>\n",
       "      <td>61</td>\n",
       "    </tr>\n",
       "    <tr>\n",
       "      <td>39</td>\n",
       "      <td>101282</td>\n",
       "      <td>Oka Nikolov</td>\n",
       "      <td>70</td>\n",
       "      <td>GK</td>\n",
       "      <td>188</td>\n",
       "      <td>Right</td>\n",
       "      <td>0</td>\n",
       "      <td>72</td>\n",
       "      <td>64</td>\n",
       "      <td>59</td>\n",
       "      <td>73</td>\n",
       "      <td>61</td>\n",
       "      <td>73</td>\n",
       "    </tr>\n",
       "  </tbody>\n",
       "</table>\n",
       "</div>"
      ],
      "text/plain": [
       "        id                name  rating position  height    foot  rare  diving  \\\n",
       "0     1001        Gábor Király      69       GK     191   Right     0      70   \n",
       "20  100745          Paul Smith      64       GK     193   Right     1      65   \n",
       "29  100807   Stefanos Kotsolis      65       GK     190   Right     0      62   \n",
       "31  100899      Steve Phillips      61       GK     185   Right     1      46   \n",
       "39  101282         Oka Nikolov      70       GK     188   Right     0      72   \n",
       "\n",
       "    handling  kicking  reflexes  speed  positioning  \n",
       "0         66       63        74     35           66  \n",
       "20        62       55        67     41           62  \n",
       "29        68       62        65     60           64  \n",
       "31        65       76        71     31           61  \n",
       "39        64       59        73     61           73  "
      ]
     },
     "execution_count": 31,
     "metadata": {},
     "output_type": "execute_result"
    }
   ],
   "source": [
    "#Write Your Code Here\n",
    "df_goalkeeper.head()"
   ]
  },
  {
   "cell_type": "code",
   "execution_count": 32,
   "metadata": {
    "scrolled": true
   },
   "outputs": [
    {
     "data": {
      "text/html": [
       "<div>\n",
       "<style scoped>\n",
       "    .dataframe tbody tr th:only-of-type {\n",
       "        vertical-align: middle;\n",
       "    }\n",
       "\n",
       "    .dataframe tbody tr th {\n",
       "        vertical-align: top;\n",
       "    }\n",
       "\n",
       "    .dataframe thead th {\n",
       "        text-align: right;\n",
       "    }\n",
       "</style>\n",
       "<table border=\"1\" class=\"dataframe\">\n",
       "  <thead>\n",
       "    <tr style=\"text-align: right;\">\n",
       "      <th></th>\n",
       "      <th>id</th>\n",
       "      <th>name</th>\n",
       "      <th>rating</th>\n",
       "      <th>position</th>\n",
       "      <th>height</th>\n",
       "      <th>foot</th>\n",
       "      <th>rare</th>\n",
       "      <th>pace</th>\n",
       "      <th>shooting</th>\n",
       "      <th>passing</th>\n",
       "      <th>dribbling</th>\n",
       "      <th>defending</th>\n",
       "      <th>heading</th>\n",
       "    </tr>\n",
       "  </thead>\n",
       "  <tbody>\n",
       "    <tr>\n",
       "      <td>1</td>\n",
       "      <td>100143</td>\n",
       "      <td>Frederik Boi</td>\n",
       "      <td>65</td>\n",
       "      <td>M</td>\n",
       "      <td>184</td>\n",
       "      <td>Right</td>\n",
       "      <td>0</td>\n",
       "      <td>61</td>\n",
       "      <td>65</td>\n",
       "      <td>63</td>\n",
       "      <td>59</td>\n",
       "      <td>62</td>\n",
       "      <td>62</td>\n",
       "    </tr>\n",
       "    <tr>\n",
       "      <td>2</td>\n",
       "      <td>100264</td>\n",
       "      <td>Tomasz Szewczuk</td>\n",
       "      <td>57</td>\n",
       "      <td>A</td>\n",
       "      <td>185</td>\n",
       "      <td>Right</td>\n",
       "      <td>0</td>\n",
       "      <td>65</td>\n",
       "      <td>54</td>\n",
       "      <td>43</td>\n",
       "      <td>53</td>\n",
       "      <td>55</td>\n",
       "      <td>74</td>\n",
       "    </tr>\n",
       "    <tr>\n",
       "      <td>3</td>\n",
       "      <td>100325</td>\n",
       "      <td>Steeve Joseph-Reinette</td>\n",
       "      <td>63</td>\n",
       "      <td>D</td>\n",
       "      <td>180</td>\n",
       "      <td>Left</td>\n",
       "      <td>0</td>\n",
       "      <td>68</td>\n",
       "      <td>38</td>\n",
       "      <td>51</td>\n",
       "      <td>46</td>\n",
       "      <td>64</td>\n",
       "      <td>71</td>\n",
       "    </tr>\n",
       "    <tr>\n",
       "      <td>4</td>\n",
       "      <td>100326</td>\n",
       "      <td>Kamel Chafni</td>\n",
       "      <td>72</td>\n",
       "      <td>M</td>\n",
       "      <td>181</td>\n",
       "      <td>Right</td>\n",
       "      <td>0</td>\n",
       "      <td>75</td>\n",
       "      <td>64</td>\n",
       "      <td>67</td>\n",
       "      <td>72</td>\n",
       "      <td>57</td>\n",
       "      <td>66</td>\n",
       "    </tr>\n",
       "    <tr>\n",
       "      <td>5</td>\n",
       "      <td>100329</td>\n",
       "      <td>Abdoulaye Faye</td>\n",
       "      <td>72</td>\n",
       "      <td>D</td>\n",
       "      <td>187</td>\n",
       "      <td>Right</td>\n",
       "      <td>1</td>\n",
       "      <td>50</td>\n",
       "      <td>37</td>\n",
       "      <td>47</td>\n",
       "      <td>43</td>\n",
       "      <td>76</td>\n",
       "      <td>82</td>\n",
       "    </tr>\n",
       "  </tbody>\n",
       "</table>\n",
       "</div>"
      ],
      "text/plain": [
       "       id                     name  rating position  height    foot  rare  \\\n",
       "1  100143             Frederik Boi      65        M     184   Right     0   \n",
       "2  100264          Tomasz Szewczuk      57        A     185   Right     0   \n",
       "3  100325   Steeve Joseph-Reinette      63        D     180    Left     0   \n",
       "4  100326             Kamel Chafni      72        M     181   Right     0   \n",
       "5  100329           Abdoulaye Faye      72        D     187   Right     1   \n",
       "\n",
       "   pace  shooting  passing  dribbling  defending  heading  \n",
       "1    61        65       63         59         62       62  \n",
       "2    65        54       43         53         55       74  \n",
       "3    68        38       51         46         64       71  \n",
       "4    75        64       67         72         57       66  \n",
       "5    50        37       47         43         76       82  "
      ]
     },
     "execution_count": 32,
     "metadata": {},
     "output_type": "execute_result"
    }
   ],
   "source": [
    "#Write Your Code Here\n",
    "df_players.head()"
   ]
  },
  {
   "cell_type": "markdown",
   "metadata": {},
   "source": [
    "**ix. Show the summary stats of both the datasets**"
   ]
  },
  {
   "cell_type": "code",
   "execution_count": 33,
   "metadata": {},
   "outputs": [
    {
     "data": {
      "text/html": [
       "<div>\n",
       "<style scoped>\n",
       "    .dataframe tbody tr th:only-of-type {\n",
       "        vertical-align: middle;\n",
       "    }\n",
       "\n",
       "    .dataframe tbody tr th {\n",
       "        vertical-align: top;\n",
       "    }\n",
       "\n",
       "    .dataframe thead th {\n",
       "        text-align: right;\n",
       "    }\n",
       "</style>\n",
       "<table border=\"1\" class=\"dataframe\">\n",
       "  <thead>\n",
       "    <tr style=\"text-align: right;\">\n",
       "      <th></th>\n",
       "      <th>id</th>\n",
       "      <th>rating</th>\n",
       "      <th>height</th>\n",
       "      <th>rare</th>\n",
       "      <th>diving</th>\n",
       "      <th>handling</th>\n",
       "      <th>kicking</th>\n",
       "      <th>reflexes</th>\n",
       "      <th>speed</th>\n",
       "      <th>positioning</th>\n",
       "    </tr>\n",
       "  </thead>\n",
       "  <tbody>\n",
       "    <tr>\n",
       "      <td>count</td>\n",
       "      <td>930.000000</td>\n",
       "      <td>930.00000</td>\n",
       "      <td>930.000000</td>\n",
       "      <td>930.000000</td>\n",
       "      <td>930.000000</td>\n",
       "      <td>930.000000</td>\n",
       "      <td>930.000000</td>\n",
       "      <td>930.000000</td>\n",
       "      <td>930.000000</td>\n",
       "      <td>930.000000</td>\n",
       "    </tr>\n",
       "    <tr>\n",
       "      <td>mean</td>\n",
       "      <td>144009.048387</td>\n",
       "      <td>65.91828</td>\n",
       "      <td>188.233333</td>\n",
       "      <td>0.345161</td>\n",
       "      <td>67.351613</td>\n",
       "      <td>64.739785</td>\n",
       "      <td>63.067742</td>\n",
       "      <td>68.865591</td>\n",
       "      <td>48.212903</td>\n",
       "      <td>64.955914</td>\n",
       "    </tr>\n",
       "    <tr>\n",
       "      <td>std</td>\n",
       "      <td>58295.056991</td>\n",
       "      <td>7.67349</td>\n",
       "      <td>4.701690</td>\n",
       "      <td>0.475677</td>\n",
       "      <td>8.311224</td>\n",
       "      <td>8.073867</td>\n",
       "      <td>8.653150</td>\n",
       "      <td>8.546599</td>\n",
       "      <td>10.330171</td>\n",
       "      <td>8.854231</td>\n",
       "    </tr>\n",
       "    <tr>\n",
       "      <td>min</td>\n",
       "      <td>6.000000</td>\n",
       "      <td>40.00000</td>\n",
       "      <td>173.000000</td>\n",
       "      <td>0.000000</td>\n",
       "      <td>30.000000</td>\n",
       "      <td>39.000000</td>\n",
       "      <td>30.000000</td>\n",
       "      <td>32.000000</td>\n",
       "      <td>14.000000</td>\n",
       "      <td>37.000000</td>\n",
       "    </tr>\n",
       "    <tr>\n",
       "      <td>25%</td>\n",
       "      <td>134631.750000</td>\n",
       "      <td>61.00000</td>\n",
       "      <td>185.000000</td>\n",
       "      <td>0.000000</td>\n",
       "      <td>62.000000</td>\n",
       "      <td>60.000000</td>\n",
       "      <td>57.000000</td>\n",
       "      <td>63.000000</td>\n",
       "      <td>42.000000</td>\n",
       "      <td>59.000000</td>\n",
       "    </tr>\n",
       "    <tr>\n",
       "      <td>50%</td>\n",
       "      <td>163614.500000</td>\n",
       "      <td>66.00000</td>\n",
       "      <td>188.000000</td>\n",
       "      <td>0.000000</td>\n",
       "      <td>67.000000</td>\n",
       "      <td>65.000000</td>\n",
       "      <td>63.000000</td>\n",
       "      <td>69.000000</td>\n",
       "      <td>50.000000</td>\n",
       "      <td>65.000000</td>\n",
       "    </tr>\n",
       "    <tr>\n",
       "      <td>75%</td>\n",
       "      <td>186381.750000</td>\n",
       "      <td>71.00000</td>\n",
       "      <td>191.000000</td>\n",
       "      <td>1.000000</td>\n",
       "      <td>73.000000</td>\n",
       "      <td>70.000000</td>\n",
       "      <td>69.000000</td>\n",
       "      <td>74.000000</td>\n",
       "      <td>56.000000</td>\n",
       "      <td>71.000000</td>\n",
       "    </tr>\n",
       "    <tr>\n",
       "      <td>max</td>\n",
       "      <td>205409.000000</td>\n",
       "      <td>89.00000</td>\n",
       "      <td>208.000000</td>\n",
       "      <td>1.000000</td>\n",
       "      <td>91.000000</td>\n",
       "      <td>86.000000</td>\n",
       "      <td>94.000000</td>\n",
       "      <td>93.000000</td>\n",
       "      <td>73.000000</td>\n",
       "      <td>91.000000</td>\n",
       "    </tr>\n",
       "  </tbody>\n",
       "</table>\n",
       "</div>"
      ],
      "text/plain": [
       "                  id     rating      height        rare      diving  \\\n",
       "count     930.000000  930.00000  930.000000  930.000000  930.000000   \n",
       "mean   144009.048387   65.91828  188.233333    0.345161   67.351613   \n",
       "std     58295.056991    7.67349    4.701690    0.475677    8.311224   \n",
       "min         6.000000   40.00000  173.000000    0.000000   30.000000   \n",
       "25%    134631.750000   61.00000  185.000000    0.000000   62.000000   \n",
       "50%    163614.500000   66.00000  188.000000    0.000000   67.000000   \n",
       "75%    186381.750000   71.00000  191.000000    1.000000   73.000000   \n",
       "max    205409.000000   89.00000  208.000000    1.000000   91.000000   \n",
       "\n",
       "         handling     kicking    reflexes       speed  positioning  \n",
       "count  930.000000  930.000000  930.000000  930.000000   930.000000  \n",
       "mean    64.739785   63.067742   68.865591   48.212903    64.955914  \n",
       "std      8.073867    8.653150    8.546599   10.330171     8.854231  \n",
       "min     39.000000   30.000000   32.000000   14.000000    37.000000  \n",
       "25%     60.000000   57.000000   63.000000   42.000000    59.000000  \n",
       "50%     65.000000   63.000000   69.000000   50.000000    65.000000  \n",
       "75%     70.000000   69.000000   74.000000   56.000000    71.000000  \n",
       "max     86.000000   94.000000   93.000000   73.000000    91.000000  "
      ]
     },
     "execution_count": 33,
     "metadata": {},
     "output_type": "execute_result"
    }
   ],
   "source": [
    "#Write Your Code Here for summary stats of goal keeper\n",
    "df_goalkeeper.describe()"
   ]
  },
  {
   "cell_type": "markdown",
   "metadata": {},
   "source": [
    "### Question: What do you understand from the summary statistics of goal keeper?"
   ]
  },
  {
   "cell_type": "markdown",
   "metadata": {},
   "source": [
    "### Answer:"
   ]
  },
  {
   "cell_type": "code",
   "execution_count": 34,
   "metadata": {},
   "outputs": [
    {
     "data": {
      "text/html": [
       "<div>\n",
       "<style scoped>\n",
       "    .dataframe tbody tr th:only-of-type {\n",
       "        vertical-align: middle;\n",
       "    }\n",
       "\n",
       "    .dataframe tbody tr th {\n",
       "        vertical-align: top;\n",
       "    }\n",
       "\n",
       "    .dataframe thead th {\n",
       "        text-align: right;\n",
       "    }\n",
       "</style>\n",
       "<table border=\"1\" class=\"dataframe\">\n",
       "  <thead>\n",
       "    <tr style=\"text-align: right;\">\n",
       "      <th></th>\n",
       "      <th>id</th>\n",
       "      <th>rating</th>\n",
       "      <th>height</th>\n",
       "      <th>rare</th>\n",
       "      <th>pace</th>\n",
       "      <th>shooting</th>\n",
       "      <th>passing</th>\n",
       "      <th>dribbling</th>\n",
       "      <th>defending</th>\n",
       "      <th>heading</th>\n",
       "    </tr>\n",
       "  </thead>\n",
       "  <tbody>\n",
       "    <tr>\n",
       "      <td>count</td>\n",
       "      <td>7917.000000</td>\n",
       "      <td>7917.000000</td>\n",
       "      <td>7917.000000</td>\n",
       "      <td>7917.000000</td>\n",
       "      <td>7917.000000</td>\n",
       "      <td>7917.000000</td>\n",
       "      <td>7917.000000</td>\n",
       "      <td>7917.000000</td>\n",
       "      <td>7917.000000</td>\n",
       "      <td>7917.000000</td>\n",
       "    </tr>\n",
       "    <tr>\n",
       "      <td>mean</td>\n",
       "      <td>153315.875205</td>\n",
       "      <td>66.769989</td>\n",
       "      <td>180.988885</td>\n",
       "      <td>0.354048</td>\n",
       "      <td>67.934066</td>\n",
       "      <td>55.054440</td>\n",
       "      <td>58.845522</td>\n",
       "      <td>61.193887</td>\n",
       "      <td>60.339523</td>\n",
       "      <td>63.743337</td>\n",
       "    </tr>\n",
       "    <tr>\n",
       "      <td>std</td>\n",
       "      <td>53963.758068</td>\n",
       "      <td>7.077355</td>\n",
       "      <td>6.200081</td>\n",
       "      <td>0.478254</td>\n",
       "      <td>11.169316</td>\n",
       "      <td>13.136116</td>\n",
       "      <td>10.962049</td>\n",
       "      <td>12.255261</td>\n",
       "      <td>10.622997</td>\n",
       "      <td>8.982680</td>\n",
       "    </tr>\n",
       "    <tr>\n",
       "      <td>min</td>\n",
       "      <td>2.000000</td>\n",
       "      <td>41.000000</td>\n",
       "      <td>158.000000</td>\n",
       "      <td>0.000000</td>\n",
       "      <td>24.000000</td>\n",
       "      <td>12.000000</td>\n",
       "      <td>13.000000</td>\n",
       "      <td>19.000000</td>\n",
       "      <td>26.000000</td>\n",
       "      <td>22.000000</td>\n",
       "    </tr>\n",
       "    <tr>\n",
       "      <td>25%</td>\n",
       "      <td>141099.000000</td>\n",
       "      <td>62.000000</td>\n",
       "      <td>177.000000</td>\n",
       "      <td>0.000000</td>\n",
       "      <td>62.000000</td>\n",
       "      <td>47.000000</td>\n",
       "      <td>52.000000</td>\n",
       "      <td>54.000000</td>\n",
       "      <td>52.000000</td>\n",
       "      <td>58.000000</td>\n",
       "    </tr>\n",
       "    <tr>\n",
       "      <td>50%</td>\n",
       "      <td>172252.000000</td>\n",
       "      <td>66.000000</td>\n",
       "      <td>181.000000</td>\n",
       "      <td>0.000000</td>\n",
       "      <td>69.000000</td>\n",
       "      <td>57.000000</td>\n",
       "      <td>60.000000</td>\n",
       "      <td>63.000000</td>\n",
       "      <td>61.000000</td>\n",
       "      <td>64.000000</td>\n",
       "    </tr>\n",
       "    <tr>\n",
       "      <td>75%</td>\n",
       "      <td>189390.000000</td>\n",
       "      <td>72.000000</td>\n",
       "      <td>185.000000</td>\n",
       "      <td>1.000000</td>\n",
       "      <td>75.000000</td>\n",
       "      <td>65.000000</td>\n",
       "      <td>66.000000</td>\n",
       "      <td>70.000000</td>\n",
       "      <td>68.000000</td>\n",
       "      <td>70.000000</td>\n",
       "    </tr>\n",
       "    <tr>\n",
       "      <td>max</td>\n",
       "      <td>205583.000000</td>\n",
       "      <td>94.000000</td>\n",
       "      <td>203.000000</td>\n",
       "      <td>1.000000</td>\n",
       "      <td>96.000000</td>\n",
       "      <td>90.000000</td>\n",
       "      <td>92.000000</td>\n",
       "      <td>97.000000</td>\n",
       "      <td>89.000000</td>\n",
       "      <td>91.000000</td>\n",
       "    </tr>\n",
       "  </tbody>\n",
       "</table>\n",
       "</div>"
      ],
      "text/plain": [
       "                  id       rating       height         rare         pace  \\\n",
       "count    7917.000000  7917.000000  7917.000000  7917.000000  7917.000000   \n",
       "mean   153315.875205    66.769989   180.988885     0.354048    67.934066   \n",
       "std     53963.758068     7.077355     6.200081     0.478254    11.169316   \n",
       "min         2.000000    41.000000   158.000000     0.000000    24.000000   \n",
       "25%    141099.000000    62.000000   177.000000     0.000000    62.000000   \n",
       "50%    172252.000000    66.000000   181.000000     0.000000    69.000000   \n",
       "75%    189390.000000    72.000000   185.000000     1.000000    75.000000   \n",
       "max    205583.000000    94.000000   203.000000     1.000000    96.000000   \n",
       "\n",
       "          shooting      passing    dribbling    defending      heading  \n",
       "count  7917.000000  7917.000000  7917.000000  7917.000000  7917.000000  \n",
       "mean     55.054440    58.845522    61.193887    60.339523    63.743337  \n",
       "std      13.136116    10.962049    12.255261    10.622997     8.982680  \n",
       "min      12.000000    13.000000    19.000000    26.000000    22.000000  \n",
       "25%      47.000000    52.000000    54.000000    52.000000    58.000000  \n",
       "50%      57.000000    60.000000    63.000000    61.000000    64.000000  \n",
       "75%      65.000000    66.000000    70.000000    68.000000    70.000000  \n",
       "max      90.000000    92.000000    97.000000    89.000000    91.000000  "
      ]
     },
     "execution_count": 34,
     "metadata": {},
     "output_type": "execute_result"
    }
   ],
   "source": [
    "#Write Your Code Here for summary stats of players\n",
    "df_players.describe()"
   ]
  },
  {
   "cell_type": "markdown",
   "metadata": {},
   "source": [
    "### Question: What do you understanf from the summary statistics of other players?"
   ]
  },
  {
   "cell_type": "markdown",
   "metadata": {},
   "source": [
    "### Answer:"
   ]
  },
  {
   "cell_type": "markdown",
   "metadata": {},
   "source": [
    "### Task 5: Group By and Pivoting "
   ]
  },
  {
   "cell_type": "markdown",
   "metadata": {},
   "source": [
    "**i. Display averages of each columns according the players' positions**"
   ]
  },
  {
   "cell_type": "code",
   "execution_count": 35,
   "metadata": {},
   "outputs": [
    {
     "data": {
      "text/html": [
       "<div>\n",
       "<style scoped>\n",
       "    .dataframe tbody tr th:only-of-type {\n",
       "        vertical-align: middle;\n",
       "    }\n",
       "\n",
       "    .dataframe tbody tr th {\n",
       "        vertical-align: top;\n",
       "    }\n",
       "\n",
       "    .dataframe thead th {\n",
       "        text-align: right;\n",
       "    }\n",
       "</style>\n",
       "<table border=\"1\" class=\"dataframe\">\n",
       "  <thead>\n",
       "    <tr style=\"text-align: right;\">\n",
       "      <th></th>\n",
       "      <th>id</th>\n",
       "      <th>rating</th>\n",
       "      <th>height</th>\n",
       "      <th>rare</th>\n",
       "      <th>pace</th>\n",
       "      <th>shooting</th>\n",
       "      <th>passing</th>\n",
       "      <th>dribbling</th>\n",
       "      <th>defending</th>\n",
       "      <th>heading</th>\n",
       "      <th>diving</th>\n",
       "      <th>handling</th>\n",
       "      <th>kicking</th>\n",
       "      <th>reflexes</th>\n",
       "      <th>speed</th>\n",
       "      <th>positioning</th>\n",
       "    </tr>\n",
       "    <tr>\n",
       "      <th>position</th>\n",
       "      <th></th>\n",
       "      <th></th>\n",
       "      <th></th>\n",
       "      <th></th>\n",
       "      <th></th>\n",
       "      <th></th>\n",
       "      <th></th>\n",
       "      <th></th>\n",
       "      <th></th>\n",
       "      <th></th>\n",
       "      <th></th>\n",
       "      <th></th>\n",
       "      <th></th>\n",
       "      <th></th>\n",
       "      <th></th>\n",
       "      <th></th>\n",
       "    </tr>\n",
       "  </thead>\n",
       "  <tbody>\n",
       "    <tr>\n",
       "      <td>A</td>\n",
       "      <td>157071.437080</td>\n",
       "      <td>67.260807</td>\n",
       "      <td>180.938521</td>\n",
       "      <td>0.475024</td>\n",
       "      <td>72.488473</td>\n",
       "      <td>63.759846</td>\n",
       "      <td>54.357349</td>\n",
       "      <td>66.664265</td>\n",
       "      <td>50.905860</td>\n",
       "      <td>64.756484</td>\n",
       "      <td>0.000000</td>\n",
       "      <td>0.000000</td>\n",
       "      <td>0.000000</td>\n",
       "      <td>0.000000</td>\n",
       "      <td>0.000000</td>\n",
       "      <td>0.000000</td>\n",
       "    </tr>\n",
       "    <tr>\n",
       "      <td>D</td>\n",
       "      <td>150820.398712</td>\n",
       "      <td>66.059055</td>\n",
       "      <td>183.145669</td>\n",
       "      <td>0.270938</td>\n",
       "      <td>63.930923</td>\n",
       "      <td>43.618110</td>\n",
       "      <td>55.465283</td>\n",
       "      <td>51.836793</td>\n",
       "      <td>68.069435</td>\n",
       "      <td>66.837867</td>\n",
       "      <td>0.000000</td>\n",
       "      <td>0.000000</td>\n",
       "      <td>0.000000</td>\n",
       "      <td>0.000000</td>\n",
       "      <td>0.000000</td>\n",
       "      <td>0.000000</td>\n",
       "    </tr>\n",
       "    <tr>\n",
       "      <td>GK</td>\n",
       "      <td>144009.048387</td>\n",
       "      <td>65.918280</td>\n",
       "      <td>188.233333</td>\n",
       "      <td>0.345161</td>\n",
       "      <td>0.000000</td>\n",
       "      <td>0.000000</td>\n",
       "      <td>0.000000</td>\n",
       "      <td>0.000000</td>\n",
       "      <td>0.000000</td>\n",
       "      <td>0.000000</td>\n",
       "      <td>67.351613</td>\n",
       "      <td>64.739785</td>\n",
       "      <td>63.067742</td>\n",
       "      <td>68.865591</td>\n",
       "      <td>48.212903</td>\n",
       "      <td>64.955914</td>\n",
       "    </tr>\n",
       "    <tr>\n",
       "      <td>M</td>\n",
       "      <td>153037.440973</td>\n",
       "      <td>67.087142</td>\n",
       "      <td>179.041763</td>\n",
       "      <td>0.347583</td>\n",
       "      <td>68.493916</td>\n",
       "      <td>59.601776</td>\n",
       "      <td>65.024005</td>\n",
       "      <td>66.045709</td>\n",
       "      <td>59.696153</td>\n",
       "      <td>60.206511</td>\n",
       "      <td>0.000000</td>\n",
       "      <td>0.000000</td>\n",
       "      <td>0.000000</td>\n",
       "      <td>0.000000</td>\n",
       "      <td>0.000000</td>\n",
       "      <td>0.000000</td>\n",
       "    </tr>\n",
       "  </tbody>\n",
       "</table>\n",
       "</div>"
      ],
      "text/plain": [
       "                     id     rating      height      rare       pace  \\\n",
       "position                                                              \n",
       "A         157071.437080  67.260807  180.938521  0.475024  72.488473   \n",
       "D         150820.398712  66.059055  183.145669  0.270938  63.930923   \n",
       "GK        144009.048387  65.918280  188.233333  0.345161   0.000000   \n",
       "M         153037.440973  67.087142  179.041763  0.347583  68.493916   \n",
       "\n",
       "           shooting    passing  dribbling  defending    heading     diving  \\\n",
       "position                                                                     \n",
       "A         63.759846  54.357349  66.664265  50.905860  64.756484   0.000000   \n",
       "D         43.618110  55.465283  51.836793  68.069435  66.837867   0.000000   \n",
       "GK         0.000000   0.000000   0.000000   0.000000   0.000000  67.351613   \n",
       "M         59.601776  65.024005  66.045709  59.696153  60.206511   0.000000   \n",
       "\n",
       "           handling    kicking   reflexes      speed  positioning  \n",
       "position                                                           \n",
       "A          0.000000   0.000000   0.000000   0.000000     0.000000  \n",
       "D          0.000000   0.000000   0.000000   0.000000     0.000000  \n",
       "GK        64.739785  63.067742  68.865591  48.212903    64.955914  \n",
       "M          0.000000   0.000000   0.000000   0.000000     0.000000  "
      ]
     },
     "execution_count": 35,
     "metadata": {},
     "output_type": "execute_result"
    }
   ],
   "source": [
    "#Write Your Code Here\n",
    "df.groupby('position').mean()"
   ]
  },
  {
   "cell_type": "markdown",
   "metadata": {},
   "source": [
    "**ii. Count number of players against each position and foot used by them.**    \n",
    "*Hint: Use Groupby*"
   ]
  },
  {
   "cell_type": "code",
   "execution_count": 36,
   "metadata": {},
   "outputs": [
    {
     "data": {
      "text/plain": [
       "position\n",
       "A     2082\n",
       "D     2794\n",
       "GK     930\n",
       "M     3041\n",
       "Name: foot, dtype: int64"
      ]
     },
     "execution_count": 36,
     "metadata": {},
     "output_type": "execute_result"
    }
   ],
   "source": [
    "#Write Your Code Here\n",
    "#Group By Here\n",
    "df.groupby(\"position\")['foot'].count()#check the sir solution"
   ]
  },
  {
   "cell_type": "markdown",
   "metadata": {},
   "source": [
    "**iii. Perform grouping on position and foot to find mean, min and max values of rating. Store the result in a variable called 'a'** <br>\n",
    "*Hint: Aggregate(mean,min,max) on rating using .agg() method and nested dictionaries* <br>"
   ]
  },
  {
   "cell_type": "code",
   "execution_count": 55,
   "metadata": {},
   "outputs": [
    {
     "data": {
      "text/html": [
       "<div>\n",
       "<style scoped>\n",
       "    .dataframe tbody tr th:only-of-type {\n",
       "        vertical-align: middle;\n",
       "    }\n",
       "\n",
       "    .dataframe tbody tr th {\n",
       "        vertical-align: top;\n",
       "    }\n",
       "\n",
       "    .dataframe thead th {\n",
       "        text-align: right;\n",
       "    }\n",
       "</style>\n",
       "<table border=\"1\" class=\"dataframe\">\n",
       "  <thead>\n",
       "    <tr style=\"text-align: right;\">\n",
       "      <th></th>\n",
       "      <th></th>\n",
       "      <th>min</th>\n",
       "      <th>max</th>\n",
       "      <th>mean</th>\n",
       "    </tr>\n",
       "    <tr>\n",
       "      <th>position</th>\n",
       "      <th>foot</th>\n",
       "      <th></th>\n",
       "      <th></th>\n",
       "      <th></th>\n",
       "    </tr>\n",
       "  </thead>\n",
       "  <tbody>\n",
       "    <tr>\n",
       "      <td rowspan=\"2\" valign=\"top\">A</td>\n",
       "      <td>Left</td>\n",
       "      <td>51</td>\n",
       "      <td>94</td>\n",
       "      <td>67.758152</td>\n",
       "    </tr>\n",
       "    <tr>\n",
       "      <td>Right</td>\n",
       "      <td>41</td>\n",
       "      <td>92</td>\n",
       "      <td>67.154026</td>\n",
       "    </tr>\n",
       "    <tr>\n",
       "      <td rowspan=\"2\" valign=\"top\">D</td>\n",
       "      <td>Left</td>\n",
       "      <td>47</td>\n",
       "      <td>85</td>\n",
       "      <td>65.931148</td>\n",
       "    </tr>\n",
       "    <tr>\n",
       "      <td>Right</td>\n",
       "      <td>42</td>\n",
       "      <td>89</td>\n",
       "      <td>66.121341</td>\n",
       "    </tr>\n",
       "    <tr>\n",
       "      <td rowspan=\"2\" valign=\"top\">GK</td>\n",
       "      <td>Left</td>\n",
       "      <td>52</td>\n",
       "      <td>89</td>\n",
       "      <td>68.102041</td>\n",
       "    </tr>\n",
       "    <tr>\n",
       "      <td>Right</td>\n",
       "      <td>40</td>\n",
       "      <td>86</td>\n",
       "      <td>65.661058</td>\n",
       "    </tr>\n",
       "    <tr>\n",
       "      <td rowspan=\"2\" valign=\"top\">M</td>\n",
       "      <td>Left</td>\n",
       "      <td>43</td>\n",
       "      <td>90</td>\n",
       "      <td>67.778409</td>\n",
       "    </tr>\n",
       "    <tr>\n",
       "      <td>Right</td>\n",
       "      <td>41</td>\n",
       "      <td>92</td>\n",
       "      <td>66.878905</td>\n",
       "    </tr>\n",
       "  </tbody>\n",
       "</table>\n",
       "</div>"
      ],
      "text/plain": [
       "                 min  max       mean\n",
       "position foot                       \n",
       "A         Left    51   94  67.758152\n",
       "          Right   41   92  67.154026\n",
       "D         Left    47   85  65.931148\n",
       "          Right   42   89  66.121341\n",
       "GK        Left    52   89  68.102041\n",
       "          Right   40   86  65.661058\n",
       "M         Left    43   90  67.778409\n",
       "          Right   41   92  66.878905"
      ]
     },
     "execution_count": 55,
     "metadata": {},
     "output_type": "execute_result"
    }
   ],
   "source": [
    "#Write Your Code Here\n",
    "a=df.groupby([\"position\",\"foot\"])[\"rating\"].agg(['min','max','mean'])# check the sir solution\n",
    "a"
   ]
  },
  {
   "cell_type": "markdown",
   "metadata": {},
   "source": [
    "**iv. Perform \"PIVOTING\" on the dataframe 'df'. The properties should be as following:**<br>\n",
    "*index = ' position'<br>\n",
    "columns = ' foot'<br>\n",
    "values=' rating'<br>\n",
    "aggfunc=['min','mean']*<br>"
   ]
  },
  {
   "cell_type": "code",
   "execution_count": 38,
   "metadata": {},
   "outputs": [
    {
     "data": {
      "text/html": [
       "<div>\n",
       "<style scoped>\n",
       "    .dataframe tbody tr th:only-of-type {\n",
       "        vertical-align: middle;\n",
       "    }\n",
       "\n",
       "    .dataframe tbody tr th {\n",
       "        vertical-align: top;\n",
       "    }\n",
       "\n",
       "    .dataframe thead tr th {\n",
       "        text-align: left;\n",
       "    }\n",
       "\n",
       "    .dataframe thead tr:last-of-type th {\n",
       "        text-align: right;\n",
       "    }\n",
       "</style>\n",
       "<table border=\"1\" class=\"dataframe\">\n",
       "  <thead>\n",
       "    <tr>\n",
       "      <th></th>\n",
       "      <th colspan=\"2\" halign=\"left\">min</th>\n",
       "      <th colspan=\"2\" halign=\"left\">max</th>\n",
       "    </tr>\n",
       "    <tr>\n",
       "      <th>foot</th>\n",
       "      <th>Left</th>\n",
       "      <th>Right</th>\n",
       "      <th>Left</th>\n",
       "      <th>Right</th>\n",
       "    </tr>\n",
       "    <tr>\n",
       "      <th>position</th>\n",
       "      <th></th>\n",
       "      <th></th>\n",
       "      <th></th>\n",
       "      <th></th>\n",
       "    </tr>\n",
       "  </thead>\n",
       "  <tbody>\n",
       "    <tr>\n",
       "      <td>A</td>\n",
       "      <td>51</td>\n",
       "      <td>41</td>\n",
       "      <td>94</td>\n",
       "      <td>92</td>\n",
       "    </tr>\n",
       "    <tr>\n",
       "      <td>D</td>\n",
       "      <td>47</td>\n",
       "      <td>42</td>\n",
       "      <td>85</td>\n",
       "      <td>89</td>\n",
       "    </tr>\n",
       "    <tr>\n",
       "      <td>GK</td>\n",
       "      <td>52</td>\n",
       "      <td>40</td>\n",
       "      <td>89</td>\n",
       "      <td>86</td>\n",
       "    </tr>\n",
       "    <tr>\n",
       "      <td>M</td>\n",
       "      <td>43</td>\n",
       "      <td>41</td>\n",
       "      <td>90</td>\n",
       "      <td>92</td>\n",
       "    </tr>\n",
       "  </tbody>\n",
       "</table>\n",
       "</div>"
      ],
      "text/plain": [
       "           min          max       \n",
       "foot      Left  Right  Left  Right\n",
       "position                          \n",
       "A           51     41    94     92\n",
       "D           47     42    85     89\n",
       "GK          52     40    89     86\n",
       "M           43     41    90     92"
      ]
     },
     "execution_count": 38,
     "metadata": {},
     "output_type": "execute_result"
    }
   ],
   "source": [
    "#Write Code Here\n",
    "pivoted_result=pd.pivot_table(df,index=\"position\",columns=\"foot\",values=\"rating\",aggfunc=['min','max'])\n",
    "pivoted_result"
   ]
  },
  {
   "cell_type": "markdown",
   "metadata": {},
   "source": [
    "# Visualization"
   ]
  },
  {
   "cell_type": "markdown",
   "metadata": {},
   "source": [
    "### Task 6: Display total players of each position."
   ]
  },
  {
   "cell_type": "code",
   "execution_count": 39,
   "metadata": {},
   "outputs": [
    {
     "data": {
      "text/plain": [
       "<matplotlib.axes._subplots.AxesSubplot at 0x6081e86088>"
      ]
     },
     "execution_count": 39,
     "metadata": {},
     "output_type": "execute_result"
    },
    {
     "data": {
      "image/png": "[encoded data removed]",
      "text/plain": [
       "<Figure size 432x288 with 1 Axes>"
      ]
     },
     "metadata": {
      "needs_background": "light"
     },
     "output_type": "display_data"
    }
   ],
   "source": [
    "#write code here\n",
    "sns.countplot(x=\"position\",hue=\"position\",data=df)"
   ]
  },
  {
   "cell_type": "markdown",
   "metadata": {},
   "source": [
    "**Question: What insights do you get from the above plot?**"
   ]
  },
  {
   "cell_type": "markdown",
   "metadata": {},
   "source": [
    "**Answer:Goal keepers are the least since there is only one goal keeper in a team and the middle fielders have the most count since four middle fielders per team and the same goes for defenders.The third highest are the attackers since they are two per team which can be seen clearly from the graph**"
   ]
  },
  {
   "cell_type": "markdown",
   "metadata": {},
   "source": [
    "### Task 7:  Show the total number of players for each foot type."
   ]
  },
  {
   "cell_type": "code",
   "execution_count": 40,
   "metadata": {},
   "outputs": [
    {
     "data": {
      "text/plain": [
       "<matplotlib.axes._subplots.AxesSubplot at 0x60821cd548>"
      ]
     },
     "execution_count": 40,
     "metadata": {},
     "output_type": "execute_result"
    },
    {
     "data": {
      "image/png": "[encoded data removed]",
      "text/plain": [
       "<Figure size 432x288 with 1 Axes>"
      ]
     },
     "metadata": {
      "needs_background": "light"
     },
     "output_type": "display_data"
    }
   ],
   "source": [
    "#Write code here\n",
    "sns.countplot(x=\"foot\",hue=\"foot\",data=df)"
   ]
  },
  {
   "cell_type": "markdown",
   "metadata": {},
   "source": [
    "### Task 8. Show 'foot' ditribution per 'rating' using boxplot"
   ]
  },
  {
   "cell_type": "code",
   "execution_count": 41,
   "metadata": {
    "scrolled": false
   },
   "outputs": [
    {
     "data": {
      "text/plain": [
       "<matplotlib.axes._subplots.AxesSubplot at 0x6082236248>"
      ]
     },
     "execution_count": 41,
     "metadata": {},
     "output_type": "execute_result"
    },
    {
     "data": {
      "image/png": "[encoded data removed]",
      "text/plain": [
       "<Figure size 432x1080 with 1 Axes>"
      ]
     },
     "metadata": {
      "needs_background": "light"
     },
     "output_type": "display_data"
    }
   ],
   "source": [
    "#write code here\n",
    "plt.figure(figsize=(6,15))\n",
    "sns.boxplot(x=\"foot\",y='rating',data=df)"
   ]
  },
  {
   "cell_type": "markdown",
   "metadata": {},
   "source": [
    "###### **Question: What does the above box plot show?**"
   ]
  },
  {
   "cell_type": "markdown",
   "metadata": {},
   "source": [
    "**boxplot shows the mean,central tendency,Q1,Q2 and Q3 and outliers of the football players of different foot playstyles according to the rating.There are considerable amount of outliers in the right foot playstyle.The distribution of left and right foot playstyle is similar in terms of rating**"
   ]
  },
  {
   "cell_type": "markdown",
   "metadata": {},
   "source": [
    "### Task 9. Display total number of players for each foot type according to their positions. But the result of each position should be a separate graph yet shown collectively  <br>\n",
    "*Hint: You can use subplots and you can have a separate dataframe for each postion. Sample code fir subplots is given below:*<br>\n",
    "*Sample Code \n",
    "<br>*\n",
    "```\n",
    "fig, ax=plt.subplots(2,2,sharey=True, figsize=(15,8))\n",
    "sns.countplot(x='rating', data=df_goalkeeper, ax=ax[0,0])\n",
    "ax[0,0].set_title('Goal keeper')\n",
    "```"
   ]
  },
  {
   "cell_type": "code",
   "execution_count": 42,
   "metadata": {},
   "outputs": [
    {
     "data": {
      "text/plain": [
       "array(['GK', 'M', 'A', 'D'], dtype=object)"
      ]
     },
     "execution_count": 42,
     "metadata": {},
     "output_type": "execute_result"
    }
   ],
   "source": [
    "df['position'].unique()"
   ]
  },
  {
   "cell_type": "code",
   "execution_count": 43,
   "metadata": {},
   "outputs": [],
   "source": [
    "df_M=df[df['position']=='M']\n",
    "df_A=df[df['position']=='A']\n",
    "df_D=df[df['position']=='D']"
   ]
  },
  {
   "cell_type": "code",
   "execution_count": 44,
   "metadata": {},
   "outputs": [
    {
     "data": {
      "text/plain": [
       "<matplotlib.axes._subplots.AxesSubplot at 0x6082358948>"
      ]
     },
     "execution_count": 44,
     "metadata": {},
     "output_type": "execute_result"
    },
    {
     "data": {
      "image/png": "[encoded data removed]",
      "text/plain": [
       "<Figure size 1440x360 with 4 Axes>"
      ]
     },
     "metadata": {
      "needs_background": "light"
     },
     "output_type": "display_data"
    }
   ],
   "source": [
    "#Write code here\n",
    "plt.figure(figsize=(20,5))\n",
    "plt.subplot(1,4,1)\n",
    "plt.title(\"Goalkeeper\")\n",
    "sns.countplot(x='foot',data=df_goalkeeper)\n",
    "plt.subplot(1,4,2)\n",
    "plt.title(\"MidFielder\")\n",
    "sns.countplot(x=\"foot\",data=df_M)\n",
    "plt.subplot(1,4,3)\n",
    "plt.title(\"Attacker\")\n",
    "sns.countplot(x=\"foot\",data=df_A)\n",
    "plt.subplot(1,4,4)\n",
    "plt.title(\"Defender\")\n",
    "sns.countplot(x=\"foot\",data=df_D)"
   ]
  },
  {
   "cell_type": "markdown",
   "metadata": {},
   "source": [
    "### Task 10: What can be the relationship/correlation  ratings and defending of other players.<br>\n",
    "*Hint: reg plot*"
   ]
  },
  {
   "cell_type": "code",
   "execution_count": 45,
   "metadata": {},
   "outputs": [
    {
     "data": {
      "text/plain": [
       "<matplotlib.axes._subplots.AxesSubplot at 0x60823b89c8>"
      ]
     },
     "execution_count": 45,
     "metadata": {},
     "output_type": "execute_result"
    },
    {
     "data": {
      "image/png": "[encoded data removed]",
      "text/plain": [
       "<Figure size 1080x360 with 1 Axes>"
      ]
     },
     "metadata": {
      "needs_background": "light"
     },
     "output_type": "display_data"
    }
   ],
   "source": [
    "#Write code here\n",
    "plt.figure(figsize=(15,5))\n",
    "sns.regplot(x=\"rating\",y=\"defending\",data=df)#data=df_players"
   ]
  },
  {
   "cell_type": "markdown",
   "metadata": {},
   "source": [
    "**Question: What does the above plot show?**"
   ]
  },
  {
   "cell_type": "markdown",
   "metadata": {},
   "source": [
    "**The cell above shows that there is a positive correlation between defending and rating**\n",
    "**but the line is not so steep so the correlation is not very strong**"
   ]
  },
  {
   "cell_type": "markdown",
   "metadata": {},
   "source": [
    "### Task 11: Plot a graph to show the relationship/correlation among rating and handling of goal keeper. Also the distributions of each should be displayed along with the graph showing the relationship.<br>\n",
    "*Hint: jointplot*"
   ]
  },
  {
   "cell_type": "code",
   "execution_count": 46,
   "metadata": {},
   "outputs": [
    {
     "data": {
      "text/plain": [
       "<seaborn.axisgrid.JointGrid at 0x608248a748>"
      ]
     },
     "execution_count": 46,
     "metadata": {},
     "output_type": "execute_result"
    },
    {
     "data": {
      "text/plain": [
       "<Figure size 2160x1440 with 0 Axes>"
      ]
     },
     "metadata": {},
     "output_type": "display_data"
    },
    {
     "data": {
      "image/png": "[encoded data removed]",
      "text/plain": [
       "<Figure size 432x432 with 3 Axes>"
      ]
     },
     "metadata": {
      "needs_background": "light"
     },
     "output_type": "display_data"
    }
   ],
   "source": [
    "#Write code here\n",
    "plt.figure(figsize=(30,20))\n",
    "sns.jointplot(x='handling',y='rating',data=df_goalkeeper,kind='reg')#check sir solution"
   ]
  },
  {
   "cell_type": "markdown",
   "metadata": {},
   "source": [
    "### Task 12-a.  Make a heatmap to show correlation among all the columns of the goal keeper dataframe and answer the questions"
   ]
  },
  {
   "cell_type": "code",
   "execution_count": 47,
   "metadata": {},
   "outputs": [],
   "source": [
    "#write code here to find the correlation\n",
    "corr=df_goalkeeper.corr()"
   ]
  },
  {
   "cell_type": "code",
   "execution_count": 48,
   "metadata": {},
   "outputs": [
    {
     "data": {
      "text/plain": [
       "<matplotlib.axes._subplots.AxesSubplot at 0x6082ea8c08>"
      ]
     },
     "execution_count": 48,
     "metadata": {},
     "output_type": "execute_result"
    },
    {
     "data": {
      "image/png": "[encoded data removed]",
      "text/plain": [
       "<Figure size 1080x432 with 2 Axes>"
      ]
     },
     "metadata": {
      "needs_background": "light"
     },
     "output_type": "display_data"
    }
   ],
   "source": [
    "#write code here for heatmap\n",
    "sns.set_context(\"poster\")\n",
    "plt.figure(figsize=(15,6))\n",
    "sns.heatmap(corr,annot=True,fmt='.1g')"
   ]
  },
  {
   "cell_type": "markdown",
   "metadata": {},
   "source": [
    "**Question: Which columns/variables/factors are important to determine ratings of goal keepers and why?**"
   ]
  },
  {
   "cell_type": "markdown",
   "metadata": {},
   "source": [
    "**The columns the have a strong correlation of 0.7+ with rating are the important variables such as reflexes,handling,kicking,positioning and diving**"
   ]
  },
  {
   "cell_type": "markdown",
   "metadata": {},
   "source": [
    "### Task 12-b. Make a heatmap show correlation among all the columns of dataframe having data of all the other players and answer the questions"
   ]
  },
  {
   "cell_type": "code",
   "execution_count": 49,
   "metadata": {},
   "outputs": [],
   "source": [
    "# Write the code to find the correlation here\n",
    "corr1=df_players.corr()"
   ]
  },
  {
   "cell_type": "code",
   "execution_count": 50,
   "metadata": {},
   "outputs": [
    {
     "data": {
      "text/plain": [
       "<matplotlib.axes._subplots.AxesSubplot at 0x608472bf88>"
      ]
     },
     "execution_count": 50,
     "metadata": {},
     "output_type": "execute_result"
    },
    {
     "data": {
      "image/png": "[encoded data removed]",
      "text/plain": [
       "<Figure size 1080x432 with 2 Axes>"
      ]
     },
     "metadata": {
      "needs_background": "light"
     },
     "output_type": "display_data"
    }
   ],
   "source": [
    "#write code here for heatmap\n",
    "sns.set_context('poster')\n",
    "plt.figure(figsize=(15,6))\n",
    "sns.heatmap(corr1,annot=True,fmt='.1g')"
   ]
  },
  {
   "cell_type": "markdown",
   "metadata": {},
   "source": [
    "**Question: Which columns/variables/factors are important to dertmine ratings of other players and why?**"
   ]
  },
  {
   "cell_type": "markdown",
   "metadata": {},
   "source": [
    "**The columns the have a strong correlation of 0.7+ with rating are the important variables**"
   ]
  },
  {
   "cell_type": "markdown",
   "metadata": {},
   "source": [
    "### Task 13. Show distribution of rating.\n",
    "*Hint: Use dist plot*"
   ]
  },
  {
   "cell_type": "code",
   "execution_count": 51,
   "metadata": {
    "scrolled": true
   },
   "outputs": [
    {
     "data": {
      "text/plain": [
       "<matplotlib.axes._subplots.AxesSubplot at 0x608456fb08>"
      ]
     },
     "execution_count": 51,
     "metadata": {},
     "output_type": "execute_result"
    },
    {
     "data": {
      "image/png": "[encoded data removed]",
      "text/plain": [
       "<Figure size 1080x432 with 1 Axes>"
      ]
     },
     "metadata": {
      "needs_background": "light"
     },
     "output_type": "display_data"
    }
   ],
   "source": [
    "#write code here\n",
    "plt.figure(figsize=(15,6))\n",
    "sns.distplot(df['rating'])"
   ]
  },
  {
   "cell_type": "markdown",
   "metadata": {},
   "source": [
    "**Question: What insights do you get from the distplot drawn above?**"
   ]
  },
  {
   "cell_type": "markdown",
   "metadata": {},
   "source": [
    "**The distribution is normal and is not skewed to the right nor to the left.**"
   ]
  },
  {
   "cell_type": "markdown",
   "metadata": {},
   "source": [
    "### Task 14: Show the distribution of ratings of each types of players through KDE plot using distplot() function"
   ]
  },
  {
   "cell_type": "code",
   "execution_count": 52,
   "metadata": {},
   "outputs": [
    {
     "data": {
      "text/plain": [
       "<matplotlib.axes._subplots.AxesSubplot at 0x6085f05ec8>"
      ]
     },
     "execution_count": 52,
     "metadata": {},
     "output_type": "execute_result"
    },
    {
     "data": {
      "image/png": "[encoded data removed]",
      "text/plain": [
       "<Figure size 1080x432 with 1 Axes>"
      ]
     },
     "metadata": {
      "needs_background": "light"
     },
     "output_type": "display_data"
    }
   ],
   "source": [
    "#Write code here #check sir solution\n",
    "plt.figure(figsize=(15,6))\n",
    "sns.kdeplot(df_goalkeeper['rating'],shade=True,label='Goalkeeper')\n",
    "sns.kdeplot(df_A['rating'],shade=True,label='Attacker')\n",
    "sns.kdeplot(df_M['rating'],shade=True,label='MidFielder')\n",
    "sns.kdeplot(df_D['rating'],shade=True,label='Defender')"
   ]
  },
  {
   "cell_type": "markdown",
   "metadata": {},
   "source": [
    "### Task 15: What is the count of rare players in each type of postion?"
   ]
  },
  {
   "cell_type": "code",
   "execution_count": 53,
   "metadata": {},
   "outputs": [
    {
     "data": {
      "text/plain": [
       "position  rare\n",
       "A         0       1093\n",
       "          1        989\n",
       "D         0       2037\n",
       "          1        757\n",
       "GK        0        609\n",
       "          1        321\n",
       "M         0       1984\n",
       "          1       1057\n",
       "Name: rare, dtype: int64"
      ]
     },
     "execution_count": 53,
     "metadata": {},
     "output_type": "execute_result"
    }
   ],
   "source": [
    "#write code here\n",
    "df.groupby('position')['rare'].value_counts()"
   ]
  },
  {
   "cell_type": "code",
   "execution_count": null,
   "metadata": {},
   "outputs": [],
   "source": []
  }
 ],
 "metadata": {
  "kernelspec": {
   "display_name": "Python 3",
   "language": "python",
   "name": "python3"
  },
  "language_info": {
   "codemirror_mode": {
    "name": "ipython",
    "version": 3
   },
   "file_extension": ".py",
   "mimetype": "text/x-python",
   "name": "python",
   "nbconvert_exporter": "python",
   "pygments_lexer": "ipython3",
   "version": "3.7.4"
  }
 },
 "nbformat": 4,
 "nbformat_minor": 2
}
